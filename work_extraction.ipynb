{
 "cells": [
  {
   "cell_type": "code",
   "execution_count": 1,
   "metadata": {},
   "outputs": [],
   "source": [
    "import numpy as np\n",
    "from qutip import *\n",
    "import matplotlib.pyplot as plt"
   ]
  },
  {
   "cell_type": "code",
   "execution_count": 2,
   "metadata": {},
   "outputs": [
    {
     "data": {
      "text/latex": [
       "Quantum object: dims=[[8], [8]], shape=(8, 8), type='oper', dtype=Dense, isherm=True$$\\left(\\begin{array}{cc}0.111 & 0.111 & 0.111 & 0 & 0 & 0 & 0 & 0\\\\0.111 & 0.111 & 0.111 & 0 & 0 & 0 & 0 & 0\\\\0.111 & 0.111 & 0.111 & 0 & 0 & 0 & 0 & 0\\\\0 & 0 & 0 & 0.111 & -0.111 & -0.111 & 0 & 0\\\\0 & 0 & 0 & -0.111 & 0.111 & 0.111 & 0 & 0\\\\0 & 0 & 0 & -0.111 & 0.111 & 0.111 & 0 & 0\\\\0 & 0 & 0 & 0 & 0 & 0 & 0.167 & 0\\\\0 & 0 & 0 & 0 & 0 & 0 & 0 & 0.167\\end{array}\\right)$$"
      ],
      "text/plain": [
       "Quantum object: dims=[[8], [8]], shape=(8, 8), type='oper', dtype=Dense, isherm=True\n",
       "Qobj data =\n",
       "[[ 0.11111111  0.11111111  0.11111111  0.          0.          0.\n",
       "   0.          0.        ]\n",
       " [ 0.11111111  0.11111111  0.11111111  0.          0.          0.\n",
       "   0.          0.        ]\n",
       " [ 0.11111111  0.11111111  0.11111111  0.          0.          0.\n",
       "   0.          0.        ]\n",
       " [ 0.          0.          0.          0.11111111 -0.11111111 -0.11111111\n",
       "   0.          0.        ]\n",
       " [ 0.          0.          0.         -0.11111111  0.11111111  0.11111111\n",
       "   0.          0.        ]\n",
       " [ 0.          0.          0.         -0.11111111  0.11111111  0.11111111\n",
       "   0.          0.        ]\n",
       " [ 0.          0.          0.          0.          0.          0.\n",
       "   0.16666667  0.        ]\n",
       " [ 0.          0.          0.          0.          0.          0.\n",
       "   0.          0.16666667]]"
      ]
     },
     "execution_count": 2,
     "metadata": {},
     "output_type": "execute_result"
    }
   ],
   "source": [
    "# generating density matrix rho = (1/3) (rho_1 +  rho_2 +  rho_3)\n",
    "rho_1 = (1/3)*np.array([[1, 1, 1, 0, 0, 0, 0, 0],\n",
    "                  [1, 1, 1, 0, 0, 0, 0, 0],\n",
    "                  [1, 1, 1, 0, 0, 0, 0, 0],\n",
    "                  [0, 0, 0, 0, 0, 0, 0, 0],\n",
    "                  [0, 0, 0, 0, 0, 0, 0, 0],\n",
    "                  [0, 0, 0, 0, 0, 0, 0, 0],\n",
    "                  [0, 0, 0, 0, 0, 0, 0, 0],\n",
    "                  [0, 0, 0, 0, 0, 0, 0, 0]])\n",
    "rho_2 = (1/3)*np.array([[0, 0, 0, 0, 0, 0, 0, 0],\n",
    "                  [0, 0, 0, 0, 0, 0, 0, 0],\n",
    "                  [0, 0, 0, 0, 0, 0, 0, 0],\n",
    "                  [0, 0, 0, 1, -1, -1, 0, 0],\n",
    "                  [0, 0, 0, -1, 1, 1, 0, 0],\n",
    "                  [0, 0, 0, -1, 1, 1, 0, 0],\n",
    "                  [0, 0, 0, 0, 0, 0, 0, 0],\n",
    "                  [0, 0, 0, 0, 0, 0, 0, 0]]) \n",
    "rho_3 = (1/2)*np.array([[0, 0, 0, 0, 0, 0, 0, 0],\n",
    "                  [0, 0, 0, 0, 0, 0, 0, 0],\n",
    "                  [0, 0, 0, 0, 0, 0, 0, 0],\n",
    "                  [0, 0, 0, 0, 0, 0, 0, 0],\n",
    "                  [0, 0, 0, 0, 0, 0, 0, 0],\n",
    "                  [0, 0, 0, 0, 0, 0, 0, 0],\n",
    "                  [0, 0, 0, 0, 0, 0, 1, 0],\n",
    "                  [0, 0, 0, 0, 0, 0, 0, 1]]) \n",
    "rho = (1/3)*(rho_1 + rho_2 + rho_3)\n",
    "# convert rho into a qutip object\n",
    "rho = Qobj(rho)\n",
    "rho"
   ]
  },
  {
   "cell_type": "markdown",
   "metadata": {},
   "source": [
    "# Hamiltonian\n",
    "$H^{(8)} = h \\otimes \\mathbb I \\otimes \\mathbb I  + \\mathbb I \\otimes h \\otimes \\mathbb I + \\mathbb I \\otimes\\mathbb I \\otimes h$,\n",
    "\n",
    "where $h = \\frac{1}{2} (\\mathbb I - Z)$"
   ]
  },
  {
   "cell_type": "code",
   "execution_count": 3,
   "metadata": {},
   "outputs": [
    {
     "data": {
      "text/latex": [
       "Quantum object: dims=[[8], [8]], shape=(8, 8), type='oper', dtype=Dense, isherm=True$$\\left(\\begin{array}{cc}0 & 0 & 0 & 0 & 0 & 0 & 0 & 0\\\\0 & 1 & 0 & 0 & 0 & 0 & 0 & 0\\\\0 & 0 & 1 & 0 & 0 & 0 & 0 & 0\\\\0 & 0 & 0 & 2 & 0 & 0 & 0 & 0\\\\0 & 0 & 0 & 0 & 1 & 0 & 0 & 0\\\\0 & 0 & 0 & 0 & 0 & 2 & 0 & 0\\\\0 & 0 & 0 & 0 & 0 & 0 & 2 & 0\\\\0 & 0 & 0 & 0 & 0 & 0 & 0 & 3\\end{array}\\right)$$"
      ],
      "text/plain": [
       "Quantum object: dims=[[8], [8]], shape=(8, 8), type='oper', dtype=Dense, isherm=True\n",
       "Qobj data =\n",
       "[[0. 0. 0. 0. 0. 0. 0. 0.]\n",
       " [0. 1. 0. 0. 0. 0. 0. 0.]\n",
       " [0. 0. 1. 0. 0. 0. 0. 0.]\n",
       " [0. 0. 0. 2. 0. 0. 0. 0.]\n",
       " [0. 0. 0. 0. 1. 0. 0. 0.]\n",
       " [0. 0. 0. 0. 0. 2. 0. 0.]\n",
       " [0. 0. 0. 0. 0. 0. 2. 0.]\n",
       " [0. 0. 0. 0. 0. 0. 0. 3.]]"
      ]
     },
     "execution_count": 3,
     "metadata": {},
     "output_type": "execute_result"
    }
   ],
   "source": [
    "h = np.array([[0, 0],\n",
    "              [0, 1]])\n",
    "I = np.array([[1, 0],\n",
    "              [0, 1]])\n",
    "H = np.kron(np.kron(h, I), I) + np.kron(np.kron(I, h), I) + np.kron(np.kron(I, I), h)\n",
    "H = Qobj(H)\n",
    "H"
   ]
  },
  {
   "cell_type": "code",
   "execution_count": 4,
   "metadata": {},
   "outputs": [
    {
     "name": "stdout",
     "output_type": "stream",
     "text": [
      "Energy eigenvalues  [0. 1. 1. 1. 2. 2. 2. 3.]\n",
      "Energy eigenstates  [Quantum object: dims=[[8], [1]], shape=(8, 1), type='ket', dtype=Dense\n",
      " Qobj data =\n",
      " [[1.]\n",
      "  [0.]\n",
      "  [0.]\n",
      "  [0.]\n",
      "  [0.]\n",
      "  [0.]\n",
      "  [0.]\n",
      "  [0.]]\n",
      " Quantum object: dims=[[8], [1]], shape=(8, 1), type='ket', dtype=Dense\n",
      " Qobj data =\n",
      " [[0.]\n",
      "  [1.]\n",
      "  [0.]\n",
      "  [0.]\n",
      "  [0.]\n",
      "  [0.]\n",
      "  [0.]\n",
      "  [0.]]\n",
      " Quantum object: dims=[[8], [1]], shape=(8, 1), type='ket', dtype=Dense\n",
      " Qobj data =\n",
      " [[0.]\n",
      "  [0.]\n",
      "  [1.]\n",
      "  [0.]\n",
      "  [0.]\n",
      "  [0.]\n",
      "  [0.]\n",
      "  [0.]]\n",
      " Quantum object: dims=[[8], [1]], shape=(8, 1), type='ket', dtype=Dense\n",
      " Qobj data =\n",
      " [[0.]\n",
      "  [0.]\n",
      "  [0.]\n",
      "  [0.]\n",
      "  [1.]\n",
      "  [0.]\n",
      "  [0.]\n",
      "  [0.]]\n",
      " Quantum object: dims=[[8], [1]], shape=(8, 1), type='ket', dtype=Dense\n",
      " Qobj data =\n",
      " [[0.]\n",
      "  [0.]\n",
      "  [0.]\n",
      "  [1.]\n",
      "  [0.]\n",
      "  [0.]\n",
      "  [0.]\n",
      "  [0.]]\n",
      " Quantum object: dims=[[8], [1]], shape=(8, 1), type='ket', dtype=Dense\n",
      " Qobj data =\n",
      " [[0.]\n",
      "  [0.]\n",
      "  [0.]\n",
      "  [0.]\n",
      "  [0.]\n",
      "  [1.]\n",
      "  [0.]\n",
      "  [0.]]\n",
      " Quantum object: dims=[[8], [1]], shape=(8, 1), type='ket', dtype=Dense\n",
      " Qobj data =\n",
      " [[0.]\n",
      "  [0.]\n",
      "  [0.]\n",
      "  [0.]\n",
      "  [0.]\n",
      "  [0.]\n",
      "  [1.]\n",
      "  [0.]]\n",
      " Quantum object: dims=[[8], [1]], shape=(8, 1), type='ket', dtype=Dense\n",
      " Qobj data =\n",
      " [[0.]\n",
      "  [0.]\n",
      "  [0.]\n",
      "  [0.]\n",
      "  [0.]\n",
      "  [0.]\n",
      "  [0.]\n",
      "  [1.]]                                                                ]\n"
     ]
    }
   ],
   "source": [
    "H_eigenvalues, H_eigenstates = H.eigenstates()\n",
    "print(\"Energy eigenvalues \", H_eigenvalues)\n",
    "print(\"Energy eigenstates \", H_eigenstates)"
   ]
  },
  {
   "cell_type": "code",
   "execution_count": 5,
   "metadata": {},
   "outputs": [
    {
     "data": {
      "text/plain": [
       "(1.611111111111111+0j)"
      ]
     },
     "execution_count": 5,
     "metadata": {},
     "output_type": "execute_result"
    }
   ],
   "source": [
    "Energy = np.trace((H * rho).full())\n",
    "Energy "
   ]
  },
  {
   "cell_type": "code",
   "execution_count": 6,
   "metadata": {},
   "outputs": [
    {
     "data": {
      "text/plain": [
       "(0.6666666666666666+0j)"
      ]
     },
     "execution_count": 6,
     "metadata": {},
     "output_type": "execute_result"
    }
   ],
   "source": [
    "rho_min = (1/6)*np.array([[2, 0, 0, 0, 0, 0, 0, 0],\n",
    "                    [0, 2, 0, 0, 0, 0, 0, 0],\n",
    "                    [0, 0, 1, 0, 0, 0, 0, 0],\n",
    "                    [0, 0, 0, 0, 0, 0, 0, 0],\n",
    "                    [0, 0, 0, 0, 1, 0, 0, 0],\n",
    "                    [0, 0, 0, 0, 0, 0, 0, 0],\n",
    "                    [0, 0, 0, 0, 0, 0, 0, 0],\n",
    "                    [0, 0, 0, 0, 0, 0, 0, 0]])\n",
    "Energy_min = np.trace((H * Qobj(rho_min)).full())\n",
    "Energy_min"
   ]
  },
  {
   "cell_type": "code",
   "execution_count": 7,
   "metadata": {},
   "outputs": [
    {
     "name": "stdout",
     "output_type": "stream",
     "text": [
      "Ergotropy of rho =  (0.9444444444444443+0j)\n"
     ]
    }
   ],
   "source": [
    "print(\"Ergotropy of rho = \", Energy - Energy_min)"
   ]
  },
  {
   "cell_type": "code",
   "execution_count": 79,
   "metadata": {},
   "outputs": [],
   "source": [
    "from qutip.measurement import measure, measurement_statistics, measure_observable"
   ]
  },
  {
   "cell_type": "code",
   "execution_count": 48,
   "metadata": {},
   "outputs": [
    {
     "data": {
      "text/latex": [
       "Quantum object: dims=[[2, 2, 2], [2, 2, 2]], shape=(8, 8), type='oper', dtype=Dense, isherm=True$$\\left(\\begin{array}{cc}1 & 0 & 0 & 0 & 0 & 0 & 0 & 0\\\\0 & 1 & 0 & 0 & 0 & 0 & 0 & 0\\\\0 & 0 & 1 & 0 & 0 & 0 & 0 & 0\\\\0 & 0 & 0 & 1 & 0 & 0 & 0 & 0\\\\0 & 0 & 0 & 0 & 1 & 0 & 0 & 0\\\\0 & 0 & 0 & 0 & 0 & 1 & 0 & 0\\\\0 & 0 & 0 & 0 & 0 & 0 & 1 & 0\\\\0 & 0 & 0 & 0 & 0 & 0 & 0 & 1\\end{array}\\right)$$"
      ],
      "text/plain": [
       "Quantum object: dims=[[2, 2, 2], [2, 2, 2]], shape=(8, 8), type='oper', dtype=Dense, isherm=True\n",
       "Qobj data =\n",
       "[[1. 0. 0. 0. 0. 0. 0. 0.]\n",
       " [0. 1. 0. 0. 0. 0. 0. 0.]\n",
       " [0. 0. 1. 0. 0. 0. 0. 0.]\n",
       " [0. 0. 0. 1. 0. 0. 0. 0.]\n",
       " [0. 0. 0. 0. 1. 0. 0. 0.]\n",
       " [0. 0. 0. 0. 0. 1. 0. 0.]\n",
       " [0. 0. 0. 0. 0. 0. 1. 0.]\n",
       " [0. 0. 0. 0. 0. 0. 0. 1.]]"
      ]
     },
     "execution_count": 48,
     "metadata": {},
     "output_type": "execute_result"
    }
   ],
   "source": [
    "# Entangling Measurement \n",
    "P1 = tensor(ket2dm(bell_state(state='00')), qeye(2))\n",
    "P2 = tensor(ket2dm(bell_state(state='01')), qeye(2))\n",
    "P3 = tensor(ket2dm(bell_state(state='10')), qeye(2))\n",
    "P4 = tensor(ket2dm(bell_state(state='11')), qeye(2))\n",
    "Projectors = [Qobj(P1.full()), Qobj(P2.full()), Qobj(P3.full()), Qobj(P4.full())]\n",
    "P1+P2+P3+P4"
   ]
  },
  {
   "cell_type": "code",
   "execution_count": 49,
   "metadata": {},
   "outputs": [
    {
     "data": {
      "text/plain": [
       "(Quantum object: dims=[[8], [8]], shape=(8, 8), type='oper', dtype=Dense, isherm=True\n",
       " Qobj data =\n",
       " [[ 0.25  0.1   0.    0.    0.    0.   -0.25 -0.1 ]\n",
       "  [ 0.1   0.25  0.    0.    0.    0.   -0.1  -0.25]\n",
       "  [ 0.    0.    0.    0.    0.    0.    0.    0.  ]\n",
       "  [ 0.    0.    0.    0.    0.    0.    0.    0.  ]\n",
       "  [ 0.    0.    0.    0.    0.    0.    0.    0.  ]\n",
       "  [ 0.    0.    0.    0.    0.    0.    0.    0.  ]\n",
       "  [-0.25 -0.1   0.    0.    0.    0.    0.25  0.1 ]\n",
       "  [-0.1  -0.25  0.    0.    0.    0.    0.1   0.25]],\n",
       " [0.2777777777777779,\n",
       "  0.2777777777777779,\n",
       "  0.11111111111111116,\n",
       "  0.3333333333333335])"
      ]
     },
     "execution_count": 49,
     "metadata": {},
     "output_type": "execute_result"
    }
   ],
   "source": [
    "collapsed_states, probabilities = measurement_statistics(rho, Projectors)\n",
    "collapsed_states[1], probabilities"
   ]
  },
  {
   "cell_type": "code",
   "execution_count": 50,
   "metadata": {},
   "outputs": [
    {
     "data": {
      "text/plain": [
       "array([[ 0.13888889+0.j,  0.05555556+0.j,  0.        +0.j,\n",
       "         0.        +0.j,  0.        +0.j,  0.        +0.j,\n",
       "         0.        +0.j,  0.        +0.j],\n",
       "       [ 0.05555556+0.j,  0.13888889+0.j,  0.        +0.j,\n",
       "         0.        +0.j,  0.        +0.j,  0.        +0.j,\n",
       "         0.        +0.j,  0.        +0.j],\n",
       "       [ 0.        +0.j,  0.        +0.j,  0.11111111+0.j,\n",
       "         0.05555556+0.j,  0.        +0.j, -0.05555556+0.j,\n",
       "         0.        +0.j,  0.        +0.j],\n",
       "       [ 0.        +0.j,  0.        +0.j,  0.05555556+0.j,\n",
       "         0.11111111+0.j, -0.05555556+0.j, -0.11111111+0.j,\n",
       "         0.        +0.j,  0.        +0.j],\n",
       "       [ 0.        +0.j,  0.        +0.j,  0.        +0.j,\n",
       "        -0.05555556+0.j,  0.11111111+0.j,  0.05555556+0.j,\n",
       "         0.        +0.j,  0.        +0.j],\n",
       "       [ 0.        +0.j,  0.        +0.j, -0.05555556+0.j,\n",
       "        -0.11111111+0.j,  0.05555556+0.j,  0.11111111+0.j,\n",
       "         0.        +0.j,  0.        +0.j],\n",
       "       [ 0.        +0.j,  0.        +0.j,  0.        +0.j,\n",
       "         0.        +0.j,  0.        +0.j,  0.        +0.j,\n",
       "         0.13888889+0.j,  0.05555556+0.j],\n",
       "       [ 0.        +0.j,  0.        +0.j,  0.        +0.j,\n",
       "         0.        +0.j,  0.        +0.j,  0.        +0.j,\n",
       "         0.05555556+0.j,  0.13888889+0.j]])"
      ]
     },
     "execution_count": 50,
     "metadata": {},
     "output_type": "execute_result"
    }
   ],
   "source": [
    "P_1 = np.array(P1.full())\n",
    "P_2 = np.array(P2.full())\n",
    "P_3 = np.array(P3.full())\n",
    "P_4 = np.array(P4.full())\n",
    "rho1 = np.matmul(np.matmul(P_1,np.array(rho.full())),P_1)/np.trace(np.matmul(P_1,np.array(rho.full())))\n",
    "rho2 = np.matmul(np.matmul(P_2,np.array(rho.full())),P_2)/np.trace(np.matmul(P_2,np.array(rho.full())))\n",
    "rho3 = np.matmul(np.matmul(P_3,np.array(rho.full())),P_3)/np.trace(np.matmul(P_3,np.array(rho.full())))\n",
    "rho4 = np.matmul(np.matmul(P_4,np.array(rho.full())),P_4)/np.trace(np.matmul(P_4,np.array(rho.full())))\n",
    "\n",
    "finalstate = np.trace(np.matmul(P_2,np.array(rho.full()))) * rho2 + np.trace(np.matmul(P_1,np.array(rho.full())))*rho1 + np.trace(np.matmul(P_3,np.array(rho.full())))*rho3 + np.trace(np.matmul(P_4,np.array(rho.full())))*rho4\n",
    "finalstate"
   ]
  },
  {
   "cell_type": "code",
   "execution_count": 51,
   "metadata": {},
   "outputs": [
    {
     "data": {
      "text/plain": [
       "array([1.94444444e-01+0.j, 8.33333333e-02+0.j, 2.90892665e-01+0.j,\n",
       "       1.11111111e-01+0.j, 4.24406679e-02+0.j, 1.54074396e-33+0.j,\n",
       "       1.94444444e-01+0.j, 8.33333333e-02+0.j])"
      ]
     },
     "execution_count": 51,
     "metadata": {},
     "output_type": "execute_result"
    }
   ],
   "source": [
    "np.linalg.eig(finalstate)[0]"
   ]
  },
  {
   "cell_type": "code",
   "execution_count": 52,
   "metadata": {},
   "outputs": [
    {
     "data": {
      "text/latex": [
       "Quantum object: dims=[[8], [8]], shape=(8, 8), type='oper', dtype=Dense, isherm=True$$\\left(\\begin{array}{cc}0.139 & 0.056 & 0 & 0 & 0 & 0 & 0 & 0\\\\0.056 & 0.139 & 0 & 0 & 0 & 0 & 0 & 0\\\\0 & 0 & 0.111 & 0.056 & 0 & -0.056 & 0 & 0\\\\0 & 0 & 0.056 & 0.111 & -0.056 & -0.111 & 0 & 0\\\\0 & 0 & 0 & -0.056 & 0.111 & 0.056 & 0 & 0\\\\0 & 0 & -0.056 & -0.111 & 0.056 & 0.111 & 0 & 0\\\\0 & 0 & 0 & 0 & 0 & 0 & 0.139 & 0.056\\\\0 & 0 & 0 & 0 & 0 & 0 & 0.056 & 0.139\\end{array}\\right)$$"
      ],
      "text/plain": [
       "Quantum object: dims=[[8], [8]], shape=(8, 8), type='oper', dtype=Dense, isherm=True\n",
       "Qobj data =\n",
       "[[ 0.13888889  0.05555556  0.          0.          0.          0.\n",
       "   0.          0.        ]\n",
       " [ 0.05555556  0.13888889  0.          0.          0.          0.\n",
       "   0.          0.        ]\n",
       " [ 0.          0.          0.11111111  0.05555556  0.         -0.05555556\n",
       "   0.          0.        ]\n",
       " [ 0.          0.          0.05555556  0.11111111 -0.05555556 -0.11111111\n",
       "   0.          0.        ]\n",
       " [ 0.          0.          0.         -0.05555556  0.11111111  0.05555556\n",
       "   0.          0.        ]\n",
       " [ 0.          0.         -0.05555556 -0.11111111  0.05555556  0.11111111\n",
       "   0.          0.        ]\n",
       " [ 0.          0.          0.          0.          0.          0.\n",
       "   0.13888889  0.05555556]\n",
       " [ 0.          0.          0.          0.          0.          0.\n",
       "   0.05555556  0.13888889]]"
      ]
     },
     "execution_count": 52,
     "metadata": {},
     "output_type": "execute_result"
    }
   ],
   "source": [
    "rho_average = np.average(collapsed_states, weights=probabilities)\n",
    "rho_average"
   ]
  },
  {
   "cell_type": "code",
   "execution_count": 53,
   "metadata": {},
   "outputs": [
    {
     "data": {
      "text/plain": [
       "(1.5+0j)"
      ]
     },
     "execution_count": 53,
     "metadata": {},
     "output_type": "execute_result"
    }
   ],
   "source": [
    "Energy_average = np.trace(np.matmul(H.full(), rho_average.full()))\n",
    "Energy_average "
   ]
  },
  {
   "cell_type": "code",
   "execution_count": 54,
   "metadata": {},
   "outputs": [
    {
     "data": {
      "text/plain": [
       "array([1.38777878e-17, 4.24406679e-02, 8.33333333e-02, 8.33333333e-02,\n",
       "       1.11111111e-01, 1.94444444e-01, 1.94444444e-01, 2.90892665e-01])"
      ]
     },
     "execution_count": 54,
     "metadata": {},
     "output_type": "execute_result"
    }
   ],
   "source": [
    "eigenvalues = rho_average.eigenenergies()\n",
    "eigenvalues"
   ]
  },
  {
   "cell_type": "code",
   "execution_count": 55,
   "metadata": {
    "vscode": {
     "languageId": "ruby"
    }
   },
   "outputs": [
    {
     "data": {
      "text/plain": [
       "array([[2.90892665e-01, 0.00000000e+00, 0.00000000e+00, 0.00000000e+00,\n",
       "        0.00000000e+00, 0.00000000e+00, 0.00000000e+00, 0.00000000e+00],\n",
       "       [0.00000000e+00, 1.94444444e-01, 0.00000000e+00, 0.00000000e+00,\n",
       "        0.00000000e+00, 0.00000000e+00, 0.00000000e+00, 0.00000000e+00],\n",
       "       [0.00000000e+00, 0.00000000e+00, 1.94444444e-01, 0.00000000e+00,\n",
       "        0.00000000e+00, 0.00000000e+00, 0.00000000e+00, 0.00000000e+00],\n",
       "       [0.00000000e+00, 0.00000000e+00, 0.00000000e+00, 8.33333333e-02,\n",
       "        0.00000000e+00, 0.00000000e+00, 0.00000000e+00, 0.00000000e+00],\n",
       "       [0.00000000e+00, 0.00000000e+00, 0.00000000e+00, 0.00000000e+00,\n",
       "        1.11111111e-01, 0.00000000e+00, 0.00000000e+00, 0.00000000e+00],\n",
       "       [0.00000000e+00, 0.00000000e+00, 0.00000000e+00, 0.00000000e+00,\n",
       "        0.00000000e+00, 8.33333333e-02, 0.00000000e+00, 0.00000000e+00],\n",
       "       [0.00000000e+00, 0.00000000e+00, 0.00000000e+00, 0.00000000e+00,\n",
       "        0.00000000e+00, 0.00000000e+00, 4.24406679e-02, 0.00000000e+00],\n",
       "       [0.00000000e+00, 0.00000000e+00, 0.00000000e+00, 0.00000000e+00,\n",
       "        0.00000000e+00, 0.00000000e+00, 0.00000000e+00, 1.38777878e-17]])"
      ]
     },
     "execution_count": 55,
     "metadata": {},
     "output_type": "execute_result"
    }
   ],
   "source": [
    "rho_average_min = np.diag([eigenvalues[7], eigenvalues[6], eigenvalues[5], eigenvalues[3], eigenvalues[4], eigenvalues[2], eigenvalues[1], eigenvalues[0]])\n",
    "rho_average_min"
   ]
  },
  {
   "cell_type": "code",
   "execution_count": 56,
   "metadata": {},
   "outputs": [
    {
     "data": {
      "text/plain": [
       "(0.9182146691666901+0j)"
      ]
     },
     "execution_count": 56,
     "metadata": {},
     "output_type": "execute_result"
    }
   ],
   "source": [
    "Energy_average_min = np.trace((H * Qobj(rho_average_min)).full())\n",
    "Energy_average_min"
   ]
  },
  {
   "cell_type": "code",
   "execution_count": 18,
   "metadata": {},
   "outputs": [
    {
     "name": "stdout",
     "output_type": "stream",
     "text": [
      "Ergotropy of average state after measurement =  (0.5817853308333099+0j)\n"
     ]
    }
   ],
   "source": [
    "print(\"Ergotropy of average state after measurement = \", Energy_average - Energy_average_min)"
   ]
  },
  {
   "cell_type": "markdown",
   "metadata": {},
   "source": [
    "Convert entangling basis to nonentangling basis before applying Haar random Unitaries. <br> \n",
    "U_basis = $ \\left(|00>\\frac{1}{\\sqrt(2)}(<00|+<11|)|+ |01>\\frac{1}{\\sqrt(2)}(<00|-<11|)|+|10>\\frac{1}{\\sqrt(2)}(<01|+<10|)|+|11> \\frac{1}{\\sqrt(2)}(<01|-<10|)|\\right) \\otimes I_2$"
   ]
  },
  {
   "cell_type": "code",
   "execution_count": 57,
   "metadata": {},
   "outputs": [
    {
     "data": {
      "text/plain": [
       "array([[ 0.14+0.j,  0.06+0.j,  0.  +0.j,  0.  +0.j,  0.  +0.j,  0.  +0.j,\n",
       "         0.  +0.j,  0.  +0.j],\n",
       "       [ 0.06+0.j,  0.14+0.j,  0.  +0.j,  0.  +0.j,  0.  +0.j,  0.  +0.j,\n",
       "         0.  +0.j,  0.  +0.j],\n",
       "       [ 0.  +0.j,  0.  +0.j,  0.14+0.j,  0.06+0.j,  0.  +0.j,  0.  +0.j,\n",
       "         0.  +0.j,  0.  +0.j],\n",
       "       [ 0.  +0.j,  0.  +0.j,  0.06+0.j,  0.14+0.j,  0.  +0.j,  0.  +0.j,\n",
       "         0.  +0.j,  0.  +0.j],\n",
       "       [ 0.  +0.j,  0.  +0.j,  0.  +0.j,  0.  +0.j,  0.11+0.j,  0.  +0.j,\n",
       "        -0.  +0.j,  0.  +0.j],\n",
       "       [ 0.  +0.j,  0.  +0.j,  0.  +0.j,  0.  +0.j,  0.  +0.j,  0.  +0.j,\n",
       "         0.  +0.j,  0.  +0.j],\n",
       "       [ 0.  +0.j,  0.  +0.j,  0.  +0.j,  0.  +0.j, -0.  +0.j, -0.  +0.j,\n",
       "         0.11+0.j,  0.11+0.j],\n",
       "       [ 0.  +0.j,  0.  +0.j,  0.  +0.j,  0.  +0.j, -0.  +0.j, -0.  +0.j,\n",
       "         0.11+0.j,  0.22+0.j]])"
      ]
     },
     "execution_count": 57,
     "metadata": {},
     "output_type": "execute_result"
    }
   ],
   "source": [
    "rho_avg = np.array(rho_average.full())\n",
    "U_basis = (1/np.sqrt(2))*np.kron(np.array([[1, 0, 0, 1],[1, 0, 0, -1],[0, 1, 1, 0],[0, 1, -1, 0]]), np.eye(2))\n",
    "rho_diag = np.matmul(np.matmul(U_basis,rho_avg), (np.conjugate(U_basis).T))\n",
    "rho_diag = np.round(rho_diag,2)\n",
    "rho_diag"
   ]
  },
  {
   "cell_type": "code",
   "execution_count": 58,
   "metadata": {},
   "outputs": [],
   "source": [
    "Pdiag_1 = np.kron(np.outer(np.array([1, 0, 0, 0]),np.array([1, 0, 0, 0])), np.eye(2))\n",
    "Pdiag_2 = np.kron(np.outer(np.array([0, 1, 0, 0]),np.array([0, 1, 0, 0])), np.eye(2))\n",
    "Pdiag_3 = np.kron(np.outer(np.array([0, 0, 1, 0]),np.array([0, 0, 1, 0])), np.eye(2))\n",
    "Pdiag_4 = np.kron(np.outer(np.array([0, 0, 0, 1]),np.array([0, 0, 0, 1])), np.eye(2))\n",
    "#Pdiag = [Pdiag_1, Pdiag_2, Pdiag_3, Pdiag_4]\n",
    "p1, p2, p3, p4 = np.trace(np.matmul(Pdiag_1, rho_diag)), np.trace(np.matmul(Pdiag_2, rho_diag)), np.trace(np.matmul(Pdiag_3, rho_diag)), np.trace(np.matmul(Pdiag_4, rho_diag))"
   ]
  },
  {
   "cell_type": "code",
   "execution_count": 59,
   "metadata": {},
   "outputs": [
    {
     "data": {
      "text/plain": [
       "array([[0.14 +0.j, 0.   +0.j, 0.   +0.j, 0.   +0.j, 0.   +0.j, 0.   +0.j,\n",
       "        0.   +0.j, 0.   +0.j],\n",
       "       [0.   +0.j, 0.14 +0.j, 0.   +0.j, 0.   +0.j, 0.   +0.j, 0.   +0.j,\n",
       "        0.   +0.j, 0.   +0.j],\n",
       "       [0.   +0.j, 0.   +0.j, 0.14 +0.j, 0.   +0.j, 0.   +0.j, 0.   +0.j,\n",
       "        0.   +0.j, 0.   +0.j],\n",
       "       [0.   +0.j, 0.   +0.j, 0.   +0.j, 0.14 +0.j, 0.   +0.j, 0.   +0.j,\n",
       "        0.   +0.j, 0.   +0.j],\n",
       "       [0.   +0.j, 0.   +0.j, 0.   +0.j, 0.   +0.j, 0.055+0.j, 0.   +0.j,\n",
       "        0.   +0.j, 0.   +0.j],\n",
       "       [0.   +0.j, 0.   +0.j, 0.   +0.j, 0.   +0.j, 0.   +0.j, 0.055+0.j,\n",
       "        0.   +0.j, 0.   +0.j],\n",
       "       [0.   +0.j, 0.   +0.j, 0.   +0.j, 0.   +0.j, 0.   +0.j, 0.   +0.j,\n",
       "        0.165+0.j, 0.   +0.j],\n",
       "       [0.   +0.j, 0.   +0.j, 0.   +0.j, 0.   +0.j, 0.   +0.j, 0.   +0.j,\n",
       "        0.   +0.j, 0.165+0.j]])"
      ]
     },
     "execution_count": 59,
     "metadata": {},
     "output_type": "execute_result"
    }
   ],
   "source": [
    "# After applying Haar random unitaries\n",
    "rho_diag_haar = (1/2)*(p1*Pdiag_1 + p2*Pdiag_2 + p3*Pdiag_3 + p4*Pdiag_4)\n",
    "rho_diag_haar"
   ]
  },
  {
   "cell_type": "code",
   "execution_count": 60,
   "metadata": {},
   "outputs": [
    {
     "data": {
      "text/plain": [
       "array([[ 0.14 +0.j,  0.   +0.j,  0.   +0.j,  0.   +0.j,  0.   +0.j,\n",
       "         0.   +0.j,  0.   +0.j,  0.   +0.j],\n",
       "       [ 0.   +0.j,  0.14 +0.j,  0.   +0.j,  0.   +0.j,  0.   +0.j,\n",
       "         0.   +0.j,  0.   +0.j,  0.   +0.j],\n",
       "       [ 0.   +0.j,  0.   +0.j,  0.11 +0.j,  0.   +0.j, -0.055+0.j,\n",
       "         0.   +0.j,  0.   +0.j,  0.   +0.j],\n",
       "       [ 0.   +0.j,  0.   +0.j,  0.   +0.j,  0.11 +0.j,  0.   +0.j,\n",
       "        -0.055+0.j,  0.   +0.j,  0.   +0.j],\n",
       "       [ 0.   +0.j,  0.   +0.j, -0.055+0.j,  0.   +0.j,  0.11 +0.j,\n",
       "         0.   +0.j,  0.   +0.j,  0.   +0.j],\n",
       "       [ 0.   +0.j,  0.   +0.j,  0.   +0.j, -0.055+0.j,  0.   +0.j,\n",
       "         0.11 +0.j,  0.   +0.j,  0.   +0.j],\n",
       "       [ 0.   +0.j,  0.   +0.j,  0.   +0.j,  0.   +0.j,  0.   +0.j,\n",
       "         0.   +0.j,  0.14 +0.j,  0.   +0.j],\n",
       "       [ 0.   +0.j,  0.   +0.j,  0.   +0.j,  0.   +0.j,  0.   +0.j,\n",
       "         0.   +0.j,  0.   +0.j,  0.14 +0.j]])"
      ]
     },
     "execution_count": 60,
     "metadata": {},
     "output_type": "execute_result"
    }
   ],
   "source": [
    "# Applying inverse transformation to get back into the entangled basis\n",
    "rho_haar = np.round(np.matmul(np.matmul(U_basis.T,rho_diag_haar), U_basis), 3)\n",
    "rho_haar"
   ]
  },
  {
   "cell_type": "code",
   "execution_count": 61,
   "metadata": {},
   "outputs": [
    {
     "data": {
      "text/plain": [
       "(1.5+0j)"
      ]
     },
     "execution_count": 61,
     "metadata": {},
     "output_type": "execute_result"
    }
   ],
   "source": [
    "#np.trace(np.matmul(H, rho_haar))\n",
    "np.trace(np.matmul(H.full(), rho_haar))"
   ]
  },
  {
   "cell_type": "code",
   "execution_count": 62,
   "metadata": {},
   "outputs": [
    {
     "data": {
      "text/plain": [
       "(array([0.165+0.j, 0.055+0.j, 0.165+0.j, 0.055+0.j, 0.14 +0.j, 0.14 +0.j,\n",
       "        0.14 +0.j, 0.14 +0.j]),\n",
       " array([[-0.        -0.j,  0.        +0.j, -0.        -0.j,\n",
       "          0.        +0.j,  1.        +0.j,  0.        +0.j,\n",
       "          0.        +0.j,  0.        +0.j],\n",
       "        [-0.        -0.j,  0.        +0.j, -0.        -0.j,\n",
       "          0.        +0.j,  0.        +0.j,  1.        +0.j,\n",
       "          0.        +0.j,  0.        +0.j],\n",
       "        [-0.70710678-0.j,  0.70710678+0.j, -0.        -0.j,\n",
       "          0.        +0.j,  0.        +0.j,  0.        +0.j,\n",
       "          0.        +0.j,  0.        +0.j],\n",
       "        [-0.        -0.j,  0.        +0.j, -0.70710678-0.j,\n",
       "          0.70710678+0.j,  0.        +0.j,  0.        +0.j,\n",
       "          0.        +0.j,  0.        +0.j],\n",
       "        [ 0.70710678+0.j,  0.70710678+0.j, -0.        -0.j,\n",
       "          0.        +0.j,  0.        +0.j,  0.        +0.j,\n",
       "          0.        +0.j,  0.        +0.j],\n",
       "        [-0.        -0.j,  0.        +0.j,  0.70710678+0.j,\n",
       "          0.70710678+0.j,  0.        +0.j,  0.        +0.j,\n",
       "          0.        +0.j,  0.        +0.j],\n",
       "        [-0.        -0.j,  0.        +0.j, -0.        -0.j,\n",
       "          0.        +0.j,  0.        +0.j,  0.        +0.j,\n",
       "          1.        +0.j,  0.        +0.j],\n",
       "        [-0.        -0.j,  0.        +0.j, -0.        -0.j,\n",
       "          0.        +0.j,  0.        +0.j,  0.        +0.j,\n",
       "          0.        +0.j,  1.        +0.j]]))"
      ]
     },
     "execution_count": 62,
     "metadata": {},
     "output_type": "execute_result"
    }
   ],
   "source": [
    "np.linalg.eig(rho_haar) "
   ]
  },
  {
   "cell_type": "code",
   "execution_count": 40,
   "metadata": {},
   "outputs": [
    {
     "data": {
      "text/plain": [
       "(1.2799999999999998+0j)"
      ]
     },
     "execution_count": 40,
     "metadata": {},
     "output_type": "execute_result"
    }
   ],
   "source": [
    "#np.trace(np.matmul(H.full(), np.matmul(np.matmul(Ugl, rho_haar), Ugl.T)))"
   ]
  },
  {
   "cell_type": "code",
   "execution_count": 63,
   "metadata": {},
   "outputs": [
    {
     "data": {
      "text/plain": [
       "array([[ 1.65000000e-01+0.j,  0.00000000e+00+0.j,  0.00000000e+00+0.j,\n",
       "         0.00000000e+00+0.j,  0.00000000e+00+0.j,  0.00000000e+00+0.j,\n",
       "         5.02795718e-18+0.j,  0.00000000e+00+0.j],\n",
       "       [ 0.00000000e+00+0.j,  1.65000000e-01+0.j,  0.00000000e+00+0.j,\n",
       "         0.00000000e+00+0.j,  0.00000000e+00+0.j,  0.00000000e+00+0.j,\n",
       "         0.00000000e+00+0.j,  5.02795718e-18+0.j],\n",
       "       [ 0.00000000e+00+0.j,  0.00000000e+00+0.j,  1.40000000e-01+0.j,\n",
       "         1.66200461e-18+0.j,  0.00000000e+00+0.j,  0.00000000e+00+0.j,\n",
       "         0.00000000e+00+0.j,  0.00000000e+00+0.j],\n",
       "       [ 0.00000000e+00+0.j,  0.00000000e+00+0.j,  1.66200461e-18+0.j,\n",
       "         1.40000000e-01+0.j,  0.00000000e+00+0.j,  0.00000000e+00+0.j,\n",
       "         0.00000000e+00+0.j,  0.00000000e+00+0.j],\n",
       "       [ 0.00000000e+00+0.j,  0.00000000e+00+0.j,  0.00000000e+00+0.j,\n",
       "         0.00000000e+00+0.j,  1.40000000e-01+0.j,  1.66200461e-18+0.j,\n",
       "         0.00000000e+00+0.j,  0.00000000e+00+0.j],\n",
       "       [ 0.00000000e+00+0.j,  0.00000000e+00+0.j,  0.00000000e+00+0.j,\n",
       "         0.00000000e+00+0.j,  1.66200461e-18+0.j,  1.40000000e-01+0.j,\n",
       "         0.00000000e+00+0.j,  0.00000000e+00+0.j],\n",
       "       [-5.06448718e-18+0.j,  0.00000000e+00+0.j,  0.00000000e+00+0.j,\n",
       "         0.00000000e+00+0.j,  0.00000000e+00+0.j,  0.00000000e+00+0.j,\n",
       "         5.50000000e-02+0.j,  0.00000000e+00+0.j],\n",
       "       [ 0.00000000e+00+0.j, -5.06448718e-18+0.j,  0.00000000e+00+0.j,\n",
       "         0.00000000e+00+0.j,  0.00000000e+00+0.j,  0.00000000e+00+0.j,\n",
       "         0.00000000e+00+0.j,  5.50000000e-02+0.j]])"
      ]
     },
     "execution_count": 63,
     "metadata": {},
     "output_type": "execute_result"
    }
   ],
   "source": [
    "Ugl = (1/np.sqrt(2))*np.array([[0, 0, 1, 0, -1, 0, 0, 0],\n",
    "                               [0, 0, 0, 1, 0, -1, 0, 0],\n",
    "                               [1, 0, 0, 0, 0, 0, 1, 0],\n",
    "                               [1, 0, 0, 0, 0, 0, -1, 0],\n",
    "                               [0, 1, 0, 0, 0, 0, 0, 1],\n",
    "                               [0, 1, 0, 0, 0, 0, 0, -1],\n",
    "                               [0, 0, 1, 0, 1, 0, 0, 0],\n",
    "                               [0, 0, 0, 1, 0, 1, 0, 0]])\n",
    "rho_haar_min = np.matmul(np.matmul(Ugl, rho_haar), Ugl.T)\n",
    "rho_haar_min"
   ]
  },
  {
   "cell_type": "code",
   "execution_count": 64,
   "metadata": {},
   "outputs": [
    {
     "data": {
      "text/plain": [
       "(1.2799999999999998+0j)"
      ]
     },
     "execution_count": 64,
     "metadata": {},
     "output_type": "execute_result"
    }
   ],
   "source": [
    "np.trace(np.matmul(H.full(), rho_haar_min))"
   ]
  },
  {
   "cell_type": "code",
   "execution_count": 65,
   "metadata": {},
   "outputs": [
    {
     "data": {
      "text/latex": [
       "Quantum object: dims=[[8], [8]], shape=(8, 8), type='oper', dtype=Dense, isherm=True$$\\left(\\begin{array}{cc}0.139 & 0 & 0 & 0 & 0 & 0 & 0 & 0\\\\0 & 0.139 & 0 & 0 & 0 & 0 & 0 & 0\\\\0 & 0 & 0.111 & 0 & -0.056 & 0 & 0 & 0\\\\0 & 0 & 0 & 0.111 & 0 & -0.056 & 0 & 0\\\\0 & 0 & -0.056 & 0 & 0.111 & 0 & 0 & 0\\\\0 & 0 & 0 & -0.056 & 0 & 0.111 & 0 & 0\\\\0 & 0 & 0 & 0 & 0 & 0 & 0.139 & 0\\\\0 & 0 & 0 & 0 & 0 & 0 & 0 & 0.139\\end{array}\\right)$$"
      ],
      "text/plain": [
       "Quantum object: dims=[[8], [8]], shape=(8, 8), type='oper', dtype=Dense, isherm=True\n",
       "Qobj data =\n",
       "[[ 0.13888889  0.          0.          0.          0.          0.\n",
       "   0.          0.        ]\n",
       " [ 0.          0.13888889  0.          0.          0.          0.\n",
       "   0.          0.        ]\n",
       " [ 0.          0.          0.11111111  0.         -0.05555556  0.\n",
       "   0.          0.        ]\n",
       " [ 0.          0.          0.          0.11111111  0.         -0.05555556\n",
       "   0.          0.        ]\n",
       " [ 0.          0.         -0.05555556  0.          0.11111111  0.\n",
       "   0.          0.        ]\n",
       " [ 0.          0.          0.         -0.05555556  0.          0.11111111\n",
       "   0.          0.        ]\n",
       " [ 0.          0.          0.          0.          0.          0.\n",
       "   0.13888889  0.        ]\n",
       " [ 0.          0.          0.          0.          0.          0.\n",
       "   0.          0.13888889]]"
      ]
     },
     "execution_count": 65,
     "metadata": {},
     "output_type": "execute_result"
    }
   ],
   "source": [
    "rho_average_haar = (1/36)*(5*P1+ 5*P2 + 2*P3 + 6*P4)\n",
    "#Qobj(rho_average_haar)\n",
    "rho_average_haar = Qobj(rho_average_haar.full())\n",
    "rho_average_haar"
   ]
  },
  {
   "cell_type": "code",
   "execution_count": 66,
   "metadata": {},
   "outputs": [
    {
     "name": "stdout",
     "output_type": "stream",
     "text": [
      "{0.0: 2792, 1.0: 2733, 2.0: 1086, 3.0: 3389}\n"
     ]
    },
    {
     "data": {
      "text/plain": [
       "dict_keys([0.0, 1.0, 2.0, 3.0])"
      ]
     },
     "execution_count": 66,
     "metadata": {},
     "output_type": "execute_result"
    }
   ],
   "source": [
    "results = {0.0:0, 1.0:0, 2.0:0, 3.0:0}\n",
    "for i in range(10000):\n",
    "    value, new_state = measure(rho, Projectors)\n",
    "    results[round(value)] += 1   \n",
    "print(results)\n",
    "results.keys()"
   ]
  },
  {
   "cell_type": "code",
   "execution_count": 67,
   "metadata": {},
   "outputs": [],
   "source": [
    "def algorithm_stage1(rho, Projectors, num_shots):\n",
    "    outcomes = {0.0:0, 1.0:0, 2.0:0, 3.0:0}\n",
    "    for i in range(num_shots):\n",
    "        value, _ = measure(rho, Projectors)\n",
    "        outcomes[round(value)] += 1\n",
    "    # divide by the number of shots to get the probability\n",
    "    for key in outcomes.keys():\n",
    "        outcomes[key] /= num_shots\n",
    "    return outcomes"
   ]
  },
  {
   "cell_type": "code",
   "execution_count": 68,
   "metadata": {},
   "outputs": [
    {
     "data": {
      "text/plain": [
       "{0.0: 0.282, 1.0: 0.295, 2.0: 0.109, 3.0: 0.314}"
      ]
     },
     "execution_count": 68,
     "metadata": {},
     "output_type": "execute_result"
    }
   ],
   "source": [
    "algorithm_stage1(rho, Projectors, 1000)"
   ]
  },
  {
   "cell_type": "code",
   "execution_count": 69,
   "metadata": {},
   "outputs": [],
   "source": [
    "# create a histogram for the probabilities\n",
    "def plot_histogram(probabilities):\n",
    "    plt.bar(probabilities.keys(), probabilities.values())\n",
    "    plt.xlabel('Outcomes')\n",
    "    plt.ylabel('Probabilities')\n",
    "    plt.show()"
   ]
  },
  {
   "cell_type": "code",
   "execution_count": 70,
   "metadata": {},
   "outputs": [
    {
     "data": {
      "image/png": "[encoded data removed]",
      "text/plain": [
       "<Figure size 640x480 with 1 Axes>"
      ]
     },
     "metadata": {},
     "output_type": "display_data"
    }
   ],
   "source": [
    "plot_histogram(algorithm_stage1(rho, Projectors, 10000))"
   ]
  },
  {
   "cell_type": "code",
   "execution_count": 71,
   "metadata": {},
   "outputs": [],
   "source": [
    "I, X, Y, Z = qeye(2), sigmax(), sigmay(), sigmaz()\n",
    "pauli_group = []\n",
    "for op in [I, X, Y, Z]:\n",
    "    pauli_group.append(op)\n",
    "    pauli_group.append(-1*op)\n",
    "    pauli_group.append(1j*op)\n",
    "    pauli_group.append(-1j*op)"
   ]
  },
  {
   "cell_type": "code",
   "execution_count": 72,
   "metadata": {},
   "outputs": [
    {
     "name": "stdout",
     "output_type": "stream",
     "text": [
      "[0.05555556 0.05555556 0.13888889 0.13888889 0.13888889 0.13888889\n",
      " 0.16666667 0.16666667] [Quantum object: dims=[[8], [1]], shape=(8, 1), type='ket', dtype=Dense\n",
      " Qobj data =\n",
      " [[0.        ]\n",
      "  [0.        ]\n",
      "  [0.70710678]\n",
      "  [0.        ]\n",
      "  [0.70710678]\n",
      "  [0.        ]\n",
      "  [0.        ]\n",
      "  [0.        ]]\n",
      " Quantum object: dims=[[8], [1]], shape=(8, 1), type='ket', dtype=Dense\n",
      " Qobj data =\n",
      " [[0.        ]\n",
      "  [0.        ]\n",
      "  [0.        ]\n",
      "  [0.70710678]\n",
      "  [0.        ]\n",
      "  [0.70710678]\n",
      "  [0.        ]\n",
      "  [0.        ]]\n",
      " Quantum object: dims=[[8], [1]], shape=(8, 1), type='ket', dtype=Dense\n",
      " Qobj data =\n",
      " [[1.]\n",
      "  [0.]\n",
      "  [0.]\n",
      "  [0.]\n",
      "  [0.]\n",
      "  [0.]\n",
      "  [0.]\n",
      "  [0.]]\n",
      " Quantum object: dims=[[8], [1]], shape=(8, 1), type='ket', dtype=Dense\n",
      " Qobj data =\n",
      " [[0.]\n",
      "  [1.]\n",
      "  [0.]\n",
      "  [0.]\n",
      "  [0.]\n",
      "  [0.]\n",
      "  [0.]\n",
      "  [0.]]\n",
      " Quantum object: dims=[[8], [1]], shape=(8, 1), type='ket', dtype=Dense\n",
      " Qobj data =\n",
      " [[0.]\n",
      "  [0.]\n",
      "  [0.]\n",
      "  [0.]\n",
      "  [0.]\n",
      "  [0.]\n",
      "  [1.]\n",
      "  [0.]]\n",
      " Quantum object: dims=[[8], [1]], shape=(8, 1), type='ket', dtype=Dense\n",
      " Qobj data =\n",
      " [[0.]\n",
      "  [0.]\n",
      "  [0.]\n",
      "  [0.]\n",
      "  [0.]\n",
      "  [0.]\n",
      "  [0.]\n",
      "  [1.]]\n",
      " Quantum object: dims=[[8], [1]], shape=(8, 1), type='ket', dtype=Dense\n",
      " Qobj data =\n",
      " [[ 0.        ]\n",
      "  [ 0.        ]\n",
      "  [-0.70710678]\n",
      "  [ 0.        ]\n",
      "  [ 0.70710678]\n",
      "  [ 0.        ]\n",
      "  [ 0.        ]\n",
      "  [ 0.        ]]\n",
      " Quantum object: dims=[[8], [1]], shape=(8, 1), type='ket', dtype=Dense\n",
      " Qobj data =\n",
      " [[ 0.        ]\n",
      "  [ 0.        ]\n",
      "  [ 0.        ]\n",
      "  [-0.70710678]\n",
      "  [ 0.        ]\n",
      "  [ 0.70710678]\n",
      "  [ 0.        ]\n",
      "  [ 0.        ]]                                                       ]\n"
     ]
    },
    {
     "data": {
      "text/plain": [
       "array([0, 1, 2, 3, 4, 5, 6, 7], dtype=int64)"
      ]
     },
     "execution_count": 72,
     "metadata": {},
     "output_type": "execute_result"
    }
   ],
   "source": [
    "stage1_eig, stage1_vec = rho_average_haar.eigenstates()\n",
    "print(stage1_eig, stage1_vec)\n",
    "sortindex = np.argsort(stage1_eig)\n",
    "sortindex"
   ]
  },
  {
   "cell_type": "code",
   "execution_count": 73,
   "metadata": {},
   "outputs": [
    {
     "data": {
      "text/latex": [
       "Quantum object: dims=[[8], [8]], shape=(8, 8), type='oper', dtype=Dense, isherm=False$$\\left(\\begin{array}{cc}0 & 0 & 0 & -0.707 & 0 & 0.707 & 0 & 0\\\\0 & 0 & -0.707 & 0 & 0.707 & 0 & 0 & 0\\\\0 & 0 & 0 & 0 & 0 & 0 & 0 & 1\\\\0 & 1 & 0 & 0 & 0 & 0 & 0 & 0\\\\0 & 0 & 0 & 0 & 0 & 0 & 1 & 0\\\\1 & 0 & 0 & 0 & 0 & 0 & 0 & 0\\\\0 & 0 & 0 & 0.707 & 0 & 0.707 & 0 & 0\\\\0 & 0 & 0.707 & 0 & 0.707 & 0 & 0 & 0\\end{array}\\right)$$"
      ],
      "text/plain": [
       "Quantum object: dims=[[8], [8]], shape=(8, 8), type='oper', dtype=Dense, isherm=False\n",
       "Qobj data =\n",
       "[[ 0.          0.          0.         -0.70710678  0.          0.70710678\n",
       "   0.          0.        ]\n",
       " [ 0.          0.         -0.70710678  0.          0.70710678  0.\n",
       "   0.          0.        ]\n",
       " [ 0.          0.          0.          0.          0.          0.\n",
       "   0.          1.        ]\n",
       " [ 0.          1.          0.          0.          0.          0.\n",
       "   0.          0.        ]\n",
       " [ 0.          0.          0.          0.          0.          0.\n",
       "   1.          0.        ]\n",
       " [ 1.          0.          0.          0.          0.          0.\n",
       "   0.          0.        ]\n",
       " [ 0.          0.          0.          0.70710678  0.          0.70710678\n",
       "   0.          0.        ]\n",
       " [ 0.          0.          0.70710678  0.          0.70710678  0.\n",
       "   0.          0.        ]]"
      ]
     },
     "execution_count": 73,
     "metadata": {},
     "output_type": "execute_result"
    }
   ],
   "source": [
    "U_global = H_eigenstates[0]*stage1_vec[sortindex[-1]].dag() + H_eigenstates[1]*stage1_vec[sortindex[-2]].dag() + H_eigenstates[2]*stage1_vec[sortindex[-3]].dag() + H_eigenstates[3]*stage1_vec[sortindex[-4]].dag() + H_eigenstates[4]*stage1_vec[sortindex[-5]].dag() + H_eigenstates[5]*stage1_vec[sortindex[-6]].dag() + H_eigenstates[6]*stage1_vec[sortindex[-7]].dag() + H_eigenstates[7]*stage1_vec[sortindex[-8]].dag()\n",
    "U_global"
   ]
  },
  {
   "cell_type": "code",
   "execution_count": 80,
   "metadata": {},
   "outputs": [],
   "source": [
    "# stage 2 of algorithm\n",
    "def algorithm_stage2(density_matrix, hamiltonian, U_global, Projectors, total_iter):\n",
    "    energy_outcomes = []\n",
    "    for iteration in range(total_iter):\n",
    "        if np.random.choice([0, 1]) == 0:\n",
    "            outcome, _ = measure_observable(density_matrix, hamiltonian)\n",
    "            energy_outcomes.append(outcome)\n",
    "        else: \n",
    "            post_measure_state = rho_average \n",
    "            u_random = np.random.choice(pauli_group)\n",
    "            u = tensor(qeye(4), u_random) \n",
    "            u = Qobj(u.full())\n",
    "            density_matrix =Qobj(U_basis).dag()* u *Qobj(U_basis)*post_measure_state*Qobj(U_basis).dag() * u.dag()*Qobj(U_basis)\n",
    "            density_matrix = U_global * density_matrix * U_global.dag()\n",
    "            outcome, _ = measure_observable(density_matrix, -1*hamiltonian)\n",
    "            energy_outcomes.append(outcome)        \n",
    "    return np.array(energy_outcomes)"
   ]
  },
  {
   "cell_type": "code",
   "execution_count": 81,
   "metadata": {},
   "outputs": [
    {
     "data": {
      "text/plain": [
       "0.104"
      ]
     },
     "execution_count": 81,
     "metadata": {},
     "output_type": "execute_result"
    }
   ],
   "source": [
    "2*np.mean(algorithm_stage2(rho, H, Qobj(Ugl), Projectors, 1000))"
   ]
  },
  {
   "cell_type": "code",
   "execution_count": 82,
   "metadata": {},
   "outputs": [
    {
     "name": "stdout",
     "output_type": "stream",
     "text": [
      "Iterations: 10, Extractable work: -0.4\n",
      "Iterations: 100, Extractable work: 0.56\n",
      "Iterations: 1000, Extractable work: -0.042\n",
      "Iterations: 10000, Extractable work: 0.0754\n",
      "Iterations: 50000, Extractable work: 0.00772\n"
     ]
    },
    {
     "ename": "KeyboardInterrupt",
     "evalue": "",
     "output_type": "error",
     "traceback": [
      "\u001b[1;31m---------------------------------------------------------------------------\u001b[0m",
      "\u001b[1;31mKeyboardInterrupt\u001b[0m                         Traceback (most recent call last)",
      "Cell \u001b[1;32mIn [82], line 2\u001b[0m\n\u001b[0;32m      1\u001b[0m \u001b[38;5;28;01mfor\u001b[39;00m \u001b[38;5;28miter\u001b[39m \u001b[38;5;129;01min\u001b[39;00m [\u001b[38;5;241m10\u001b[39m, \u001b[38;5;241m100\u001b[39m, \u001b[38;5;241m1000\u001b[39m, \u001b[38;5;241m10000\u001b[39m,\u001b[38;5;241m50000\u001b[39m, \u001b[38;5;241m100000\u001b[39m]:\n\u001b[1;32m----> 2\u001b[0m     extractable_work \u001b[38;5;241m=\u001b[39m \u001b[38;5;241m2\u001b[39m\u001b[38;5;241m*\u001b[39mnp\u001b[38;5;241m.\u001b[39mmean(\u001b[43malgorithm_stage2\u001b[49m\u001b[43m(\u001b[49m\u001b[43mrho\u001b[49m\u001b[43m,\u001b[49m\u001b[43m \u001b[49m\u001b[43mH\u001b[49m\u001b[43m,\u001b[49m\u001b[43m \u001b[49m\u001b[43mQobj\u001b[49m\u001b[43m(\u001b[49m\u001b[43mUgl\u001b[49m\u001b[43m)\u001b[49m\u001b[43m,\u001b[49m\u001b[43m \u001b[49m\u001b[43mProjectors\u001b[49m\u001b[43m,\u001b[49m\u001b[43m \u001b[49m\u001b[38;5;28;43miter\u001b[39;49m\u001b[43m)\u001b[49m)\n\u001b[0;32m      3\u001b[0m     \u001b[38;5;28mprint\u001b[39m(\u001b[38;5;124mf\u001b[39m\u001b[38;5;124m\"\u001b[39m\u001b[38;5;124mIterations: \u001b[39m\u001b[38;5;132;01m{\u001b[39;00m\u001b[38;5;28miter\u001b[39m\u001b[38;5;132;01m}\u001b[39;00m\u001b[38;5;124m, Extractable work: \u001b[39m\u001b[38;5;132;01m{\u001b[39;00mextractable_work\u001b[38;5;132;01m}\u001b[39;00m\u001b[38;5;124m\"\u001b[39m)\n",
      "Cell \u001b[1;32mIn [80], line 15\u001b[0m, in \u001b[0;36malgorithm_stage2\u001b[1;34m(density_matrix, hamiltonian, U_global, Projectors, total_iter)\u001b[0m\n\u001b[0;32m     13\u001b[0m         density_matrix \u001b[38;5;241m=\u001b[39mQobj(U_basis)\u001b[38;5;241m.\u001b[39mdag()\u001b[38;5;241m*\u001b[39m u \u001b[38;5;241m*\u001b[39mQobj(U_basis)\u001b[38;5;241m*\u001b[39mpost_measure_state\u001b[38;5;241m*\u001b[39mQobj(U_basis)\u001b[38;5;241m.\u001b[39mdag() \u001b[38;5;241m*\u001b[39m u\u001b[38;5;241m.\u001b[39mdag()\u001b[38;5;241m*\u001b[39mQobj(U_basis)\n\u001b[0;32m     14\u001b[0m         density_matrix \u001b[38;5;241m=\u001b[39m U_global \u001b[38;5;241m*\u001b[39m density_matrix \u001b[38;5;241m*\u001b[39m U_global\u001b[38;5;241m.\u001b[39mdag()\n\u001b[1;32m---> 15\u001b[0m         outcome, _ \u001b[38;5;241m=\u001b[39m \u001b[43mmeasure_observable\u001b[49m\u001b[43m(\u001b[49m\u001b[43mdensity_matrix\u001b[49m\u001b[43m,\u001b[49m\u001b[43m \u001b[49m\u001b[38;5;241;43m-\u001b[39;49m\u001b[38;5;241;43m1\u001b[39;49m\u001b[38;5;241;43m*\u001b[39;49m\u001b[43mhamiltonian\u001b[49m\u001b[43m)\u001b[49m\n\u001b[0;32m     16\u001b[0m         energy_outcomes\u001b[38;5;241m.\u001b[39mappend(outcome)        \n\u001b[0;32m     17\u001b[0m \u001b[38;5;28;01mreturn\u001b[39;00m np\u001b[38;5;241m.\u001b[39marray(energy_outcomes)\n",
      "File \u001b[1;32mc:\\Users\\SOUMYABRATA PC\\AppData\\Local\\Programs\\Python\\Python310\\lib\\site-packages\\qutip\\measurement.py:321\u001b[0m, in \u001b[0;36mmeasure_observable\u001b[1;34m(state, op, tol)\u001b[0m\n\u001b[0;32m    251\u001b[0m \u001b[38;5;124;03m\"\"\"\u001b[39;00m\n\u001b[0;32m    252\u001b[0m \u001b[38;5;124;03mPerform a measurement specified by an operator on the given state.\u001b[39;00m\n\u001b[0;32m    253\u001b[0m \n\u001b[1;32m   (...)\u001b[0m\n\u001b[0;32m    317\u001b[0m \u001b[38;5;124;03mdensity matrix.\u001b[39;00m\n\u001b[0;32m    318\u001b[0m \u001b[38;5;124;03m\"\"\"\u001b[39;00m\n\u001b[0;32m    319\u001b[0m eigenvalues, projectors, probabilities \u001b[38;5;241m=\u001b[39m (\n\u001b[0;32m    320\u001b[0m     measurement_statistics_observable(state, op, tol))\n\u001b[1;32m--> 321\u001b[0m i \u001b[38;5;241m=\u001b[39m \u001b[43mnp\u001b[49m\u001b[38;5;241;43m.\u001b[39;49m\u001b[43mrandom\u001b[49m\u001b[38;5;241;43m.\u001b[39;49m\u001b[43mchoice\u001b[49m\u001b[43m(\u001b[49m\u001b[38;5;28;43mlen\u001b[39;49m\u001b[43m(\u001b[49m\u001b[43meigenvalues\u001b[49m\u001b[43m)\u001b[49m\u001b[43m,\u001b[49m\u001b[43m \u001b[49m\u001b[43mp\u001b[49m\u001b[38;5;241;43m=\u001b[39;49m\u001b[43mprobabilities\u001b[49m\u001b[43m)\u001b[49m\n\u001b[0;32m    322\u001b[0m \u001b[38;5;28;01mif\u001b[39;00m state\u001b[38;5;241m.\u001b[39misket:\n\u001b[0;32m    323\u001b[0m     state \u001b[38;5;241m=\u001b[39m (projectors[i] \u001b[38;5;241m*\u001b[39m state) \u001b[38;5;241m/\u001b[39m probabilities[i]\u001b[38;5;241m*\u001b[39m\u001b[38;5;241m*\u001b[39m\u001b[38;5;241m0.5\u001b[39m\n",
      "\u001b[1;31mKeyboardInterrupt\u001b[0m: "
     ]
    }
   ],
   "source": [
    "for iter in [10, 100, 1000, 10000,50000, 100000]:\n",
    "    extractable_work = 2*np.mean(algorithm_stage2(rho, H, Qobj(Ugl), Projectors, iter))\n",
    "    print(f\"Iterations: {iter}, Extractable work: {extractable_work}\")"
   ]
  },
  {
   "cell_type": "code",
   "execution_count": null,
   "metadata": {},
   "outputs": [],
   "source": [
    "Actual extractable work = 1.611-1.279 = 0.332 #Algorithm_stage2 should converge to this value."
   ]
  },
  {
   "cell_type": "code",
   "execution_count": 83,
   "metadata": {},
   "outputs": [],
   "source": [
    "# plot the above outcomes\n",
    "#import matplotlib.pyplot as plt\n",
    "\n",
    "#extractable_works = [0.2, -0.07, 0.022, -0.0017, -0.00478, -4.2e-05]\n",
    "#total_iters = [10, 100, 1000, 10000, 100000, 1000000]\n",
    "\n",
    "#plot in log scale\n",
    "#plt.plot(np.log10(total_iters), extractable_works)\n",
    "#plt.xlabel(\"Total iterations (in log scale)\")\n",
    "#plt.ylabel(\"Extractable work\")\n",
    "#plt.title(\"Extractable work vs Total iterations\")\n",
    "#plt.show()"
   ]
  },
  {
   "cell_type": "code",
   "execution_count": 84,
   "metadata": {},
   "outputs": [],
   "source": [
    "ket00 = basis(4, 0)\n",
    "ket01 = basis(4, 1)\n",
    "ket10 = basis(4, 2)\n",
    "ket11 = basis(4, 3)\n",
    "Z00, Z01, Z10, Z11 = ket2dm(ket00), ket2dm(ket01), ket2dm(ket10), ket2dm(ket11)\n",
    "# Projectors for our measurement\n",
    "P0_new, P1_new, P2_new, P3_new = tensor(Z00, identity(2)), tensor(Z01, identity(2)), tensor(Z10, identity(2)), tensor(Z11, identity(2))\n",
    "P0_new, P1_new, P2_new, P3_new = Qobj(P0_new.full()), Qobj(P1_new.full()), Qobj(P2_new.full()), Qobj(P3_new.full())\n",
    "Projectors_2 = [P0_new, P1_new, P2_new, P3_new]"
   ]
  },
  {
   "cell_type": "code",
   "execution_count": 91,
   "metadata": {},
   "outputs": [
    {
     "data": {
      "text/plain": [
       "[0.2222222222222222,\n",
       " 0.2222222222222222,\n",
       " 0.2222222222222222,\n",
       " 0.3333333333333333]"
      ]
     },
     "execution_count": 91,
     "metadata": {},
     "output_type": "execute_result"
    }
   ],
   "source": [
    "collapsed_states_2, probabilities_2 = measurement_statistics(rho, Projectors_2)\n",
    "probabilities_2"
   ]
  },
  {
   "cell_type": "code",
   "execution_count": 92,
   "metadata": {},
   "outputs": [
    {
     "data": {
      "text/latex": [
       "Quantum object: dims=[[8], [8]], shape=(8, 8), type='oper', dtype=Dense, isherm=True$$\\left(\\begin{array}{cc}0.111 & 0.111 & 0 & 0 & 0 & 0 & 0 & 0\\\\0.111 & 0.111 & 0 & 0 & 0 & 0 & 0 & 0\\\\0 & 0 & 0.111 & 0 & 0 & 0 & 0 & 0\\\\0 & 0 & 0 & 0.111 & 0 & 0 & 0 & 0\\\\0 & 0 & 0 & 0 & 0.111 & 0.111 & 0 & 0\\\\0 & 0 & 0 & 0 & 0.111 & 0.111 & 0 & 0\\\\0 & 0 & 0 & 0 & 0 & 0 & 0.167 & 0\\\\0 & 0 & 0 & 0 & 0 & 0 & 0 & 0.167\\end{array}\\right)$$"
      ],
      "text/plain": [
       "Quantum object: dims=[[8], [8]], shape=(8, 8), type='oper', dtype=Dense, isherm=True\n",
       "Qobj data =\n",
       "[[0.11111111 0.11111111 0.         0.         0.         0.\n",
       "  0.         0.        ]\n",
       " [0.11111111 0.11111111 0.         0.         0.         0.\n",
       "  0.         0.        ]\n",
       " [0.         0.         0.11111111 0.         0.         0.\n",
       "  0.         0.        ]\n",
       " [0.         0.         0.         0.11111111 0.         0.\n",
       "  0.         0.        ]\n",
       " [0.         0.         0.         0.         0.11111111 0.11111111\n",
       "  0.         0.        ]\n",
       " [0.         0.         0.         0.         0.11111111 0.11111111\n",
       "  0.         0.        ]\n",
       " [0.         0.         0.         0.         0.         0.\n",
       "  0.16666667 0.        ]\n",
       " [0.         0.         0.         0.         0.         0.\n",
       "  0.         0.16666667]]"
      ]
     },
     "execution_count": 92,
     "metadata": {},
     "output_type": "execute_result"
    }
   ],
   "source": [
    "rho_average_2 = np.average(collapsed_states_2, weights=probabilities_2)\n",
    "rho_average_2"
   ]
  },
  {
   "cell_type": "code",
   "execution_count": 86,
   "metadata": {},
   "outputs": [
    {
     "data": {
      "text/latex": [
       "Quantum object: dims=[[8], [8]], shape=(8, 8), type='oper', dtype=Dense, isherm=True$$\\left(\\begin{array}{cc}0.111 & 0 & 0 & 0 & 0 & 0 & 0 & 0\\\\0 & 0.111 & 0 & 0 & 0 & 0 & 0 & 0\\\\0 & 0 & 0.111 & 0 & 0 & 0 & 0 & 0\\\\0 & 0 & 0 & 0.111 & 0 & 0 & 0 & 0\\\\0 & 0 & 0 & 0 & 0.111 & 0 & 0 & 0\\\\0 & 0 & 0 & 0 & 0 & 0.111 & 0 & 0\\\\0 & 0 & 0 & 0 & 0 & 0 & 0.167 & 0\\\\0 & 0 & 0 & 0 & 0 & 0 & 0 & 0.167\\end{array}\\right)$$"
      ],
      "text/plain": [
       "Quantum object: dims=[[8], [8]], shape=(8, 8), type='oper', dtype=Dense, isherm=True\n",
       "Qobj data =\n",
       "[[0.11111111 0.         0.         0.         0.         0.\n",
       "  0.         0.        ]\n",
       " [0.         0.11111111 0.         0.         0.         0.\n",
       "  0.         0.        ]\n",
       " [0.         0.         0.11111111 0.         0.         0.\n",
       "  0.         0.        ]\n",
       " [0.         0.         0.         0.11111111 0.         0.\n",
       "  0.         0.        ]\n",
       " [0.         0.         0.         0.         0.11111111 0.\n",
       "  0.         0.        ]\n",
       " [0.         0.         0.         0.         0.         0.11111111\n",
       "  0.         0.        ]\n",
       " [0.         0.         0.         0.         0.         0.\n",
       "  0.16666667 0.        ]\n",
       " [0.         0.         0.         0.         0.         0.\n",
       "  0.         0.16666667]]"
      ]
     },
     "execution_count": 86,
     "metadata": {},
     "output_type": "execute_result"
    }
   ],
   "source": [
    "rho_average_haar_2 = (1/18)*(2*P0_new+ 2*P1_new + 2*P2_new + 3*P3_new)\n",
    "rho_average_haar_2 = Qobj(rho_average_haar_2.full())\n",
    "rho_average_haar_2"
   ]
  },
  {
   "cell_type": "code",
   "execution_count": 87,
   "metadata": {},
   "outputs": [
    {
     "name": "stdout",
     "output_type": "stream",
     "text": [
      "[0.11111111 0.11111111 0.11111111 0.11111111 0.11111111 0.11111111\n",
      " 0.16666667 0.16666667] [Quantum object: dims=[[8], [1]], shape=(8, 1), type='ket', dtype=Dense\n",
      " Qobj data =\n",
      " [[1.]\n",
      "  [0.]\n",
      "  [0.]\n",
      "  [0.]\n",
      "  [0.]\n",
      "  [0.]\n",
      "  [0.]\n",
      "  [0.]]\n",
      " Quantum object: dims=[[8], [1]], shape=(8, 1), type='ket', dtype=Dense\n",
      " Qobj data =\n",
      " [[0.]\n",
      "  [1.]\n",
      "  [0.]\n",
      "  [0.]\n",
      "  [0.]\n",
      "  [0.]\n",
      "  [0.]\n",
      "  [0.]]\n",
      " Quantum object: dims=[[8], [1]], shape=(8, 1), type='ket', dtype=Dense\n",
      " Qobj data =\n",
      " [[0.]\n",
      "  [0.]\n",
      "  [1.]\n",
      "  [0.]\n",
      "  [0.]\n",
      "  [0.]\n",
      "  [0.]\n",
      "  [0.]]\n",
      " Quantum object: dims=[[8], [1]], shape=(8, 1), type='ket', dtype=Dense\n",
      " Qobj data =\n",
      " [[0.]\n",
      "  [0.]\n",
      "  [0.]\n",
      "  [1.]\n",
      "  [0.]\n",
      "  [0.]\n",
      "  [0.]\n",
      "  [0.]]\n",
      " Quantum object: dims=[[8], [1]], shape=(8, 1), type='ket', dtype=Dense\n",
      " Qobj data =\n",
      " [[0.]\n",
      "  [0.]\n",
      "  [0.]\n",
      "  [0.]\n",
      "  [1.]\n",
      "  [0.]\n",
      "  [0.]\n",
      "  [0.]]\n",
      " Quantum object: dims=[[8], [1]], shape=(8, 1), type='ket', dtype=Dense\n",
      " Qobj data =\n",
      " [[0.]\n",
      "  [0.]\n",
      "  [0.]\n",
      "  [0.]\n",
      "  [0.]\n",
      "  [1.]\n",
      "  [0.]\n",
      "  [0.]]\n",
      " Quantum object: dims=[[8], [1]], shape=(8, 1), type='ket', dtype=Dense\n",
      " Qobj data =\n",
      " [[0.]\n",
      "  [0.]\n",
      "  [0.]\n",
      "  [0.]\n",
      "  [0.]\n",
      "  [0.]\n",
      "  [1.]\n",
      "  [0.]]\n",
      " Quantum object: dims=[[8], [1]], shape=(8, 1), type='ket', dtype=Dense\n",
      " Qobj data =\n",
      " [[0.]\n",
      "  [0.]\n",
      "  [0.]\n",
      "  [0.]\n",
      "  [0.]\n",
      "  [0.]\n",
      "  [0.]\n",
      "  [1.]]                                                                ]\n"
     ]
    },
    {
     "data": {
      "text/plain": [
       "array([0, 1, 2, 3, 4, 5, 6, 7], dtype=int64)"
      ]
     },
     "execution_count": 87,
     "metadata": {},
     "output_type": "execute_result"
    }
   ],
   "source": [
    "stage1_eig_2, stage1_vec_2 = rho_average_haar_2.eigenstates()\n",
    "print(stage1_eig_2, stage1_vec_2)\n",
    "sortindex_2 = np.argsort(stage1_eig_2)\n",
    "sortindex_2"
   ]
  },
  {
   "cell_type": "code",
   "execution_count": 88,
   "metadata": {},
   "outputs": [
    {
     "data": {
      "text/latex": [
       "Quantum object: dims=[[8], [8]], shape=(8, 8), type='oper', dtype=Dense, isherm=True$$\\left(\\begin{array}{cc}0 & 0 & 0 & 0 & 0 & 0 & 0 & 1\\\\0 & 0 & 0 & 0 & 0 & 0 & 1 & 0\\\\0 & 0 & 0 & 0 & 0 & 1 & 0 & 0\\\\0 & 0 & 0 & 1 & 0 & 0 & 0 & 0\\\\0 & 0 & 0 & 0 & 1 & 0 & 0 & 0\\\\0 & 0 & 1 & 0 & 0 & 0 & 0 & 0\\\\0 & 1 & 0 & 0 & 0 & 0 & 0 & 0\\\\1 & 0 & 0 & 0 & 0 & 0 & 0 & 0\\end{array}\\right)$$"
      ],
      "text/plain": [
       "Quantum object: dims=[[8], [8]], shape=(8, 8), type='oper', dtype=Dense, isherm=True\n",
       "Qobj data =\n",
       "[[0. 0. 0. 0. 0. 0. 0. 1.]\n",
       " [0. 0. 0. 0. 0. 0. 1. 0.]\n",
       " [0. 0. 0. 0. 0. 1. 0. 0.]\n",
       " [0. 0. 0. 1. 0. 0. 0. 0.]\n",
       " [0. 0. 0. 0. 1. 0. 0. 0.]\n",
       " [0. 0. 1. 0. 0. 0. 0. 0.]\n",
       " [0. 1. 0. 0. 0. 0. 0. 0.]\n",
       " [1. 0. 0. 0. 0. 0. 0. 0.]]"
      ]
     },
     "execution_count": 88,
     "metadata": {},
     "output_type": "execute_result"
    }
   ],
   "source": [
    "U_global_2 = H_eigenstates[0]*stage1_vec_2[sortindex_2[-1]].dag() + H_eigenstates[1]*stage1_vec_2[sortindex_2[-2]].dag() + H_eigenstates[2]*stage1_vec_2[sortindex_2[-3]].dag() + H_eigenstates[3]*stage1_vec_2[sortindex_2[-4]].dag() + H_eigenstates[4]*stage1_vec_2[sortindex_2[-5]].dag() + H_eigenstates[5]*stage1_vec_2[sortindex_2[-6]].dag() + H_eigenstates[6]*stage1_vec_2[sortindex_2[-7]].dag() + H_eigenstates[7]*stage1_vec_2[sortindex_2[-8]].dag()\n",
    "U_global_2"
   ]
  },
  {
   "cell_type": "code",
   "execution_count": 94,
   "metadata": {},
   "outputs": [],
   "source": [
    "def algorithm_stage2_2(density_matrix, hamiltonian, U_global, Projectors, total_iter):\n",
    "    energy_outcomes = []\n",
    "    for iteration in range(total_iter):\n",
    "        if np.random.choice([0, 1]) == 0:\n",
    "            outcome, _ = measure_observable(density_matrix, hamiltonian)\n",
    "            energy_outcomes.append(outcome)\n",
    "        else: \n",
    "            post_measure_state = rho_average_2 \n",
    "            u_random = np.random.choice(pauli_group)\n",
    "            u = tensor(qeye(4), u_random) \n",
    "            u = Qobj(u.full())\n",
    "            density_matrix = u*post_measure_state*u.dag()\n",
    "            density_matrix = U_global * density_matrix * U_global.dag()\n",
    "            outcome, _ = measure_observable(density_matrix, -1*hamiltonian)\n",
    "            energy_outcomes.append(outcome)        \n",
    "    return np.array(energy_outcomes)"
   ]
  },
  {
   "cell_type": "code",
   "execution_count": 95,
   "metadata": {},
   "outputs": [
    {
     "name": "stdout",
     "output_type": "stream",
     "text": [
      "Iterations: 10, Extractable work: -0.2\n",
      "Iterations: 100, Extractable work: -0.28\n",
      "Iterations: 1000, Extractable work: -0.052\n",
      "Iterations: 10000, Extractable work: 0.0128\n",
      "Iterations: 50000, Extractable work: -0.02164\n",
      "Iterations: 100000, Extractable work: -0.00018\n"
     ]
    }
   ],
   "source": [
    "for iter in [10, 100, 1000, 10000,50000, 100000]:\n",
    "    extractable_work = 2*np.mean(algorithm_stage2_2(rho, H, U_global_2, Projectors_2, iter))\n",
    "    print(f\"Iterations: {iter}, Extractable work: {extractable_work}\")"
   ]
  }
 ],
 "metadata": {
  "kernelspec": {
   "display_name": "Python 3 (ipykernel)",
   "language": "python",
   "name": "python3"
  },
  "language_info": {
   "codemirror_mode": {
    "name": "ipython",
    "version": 3
   },
   "file_extension": ".py",
   "mimetype": "text/x-python",
   "name": "python",
   "nbconvert_exporter": "python",
   "pygments_lexer": "ipython3",
   "version": "3.10.8"
  }
 },
 "nbformat": 4,
 "nbformat_minor": 2
}
