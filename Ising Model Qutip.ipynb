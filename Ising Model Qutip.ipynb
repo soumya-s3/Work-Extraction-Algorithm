{
 "cells": [
  {
   "cell_type": "code",
   "execution_count": 1,
   "metadata": {},
   "outputs": [],
   "source": [
    "import numpy as np\n",
    "from qutip import *"
   ]
  },
  {
   "cell_type": "code",
   "execution_count": 2,
   "metadata": {},
   "outputs": [
    {
     "data": {
      "text/latex": [
       "Quantum object: dims=[[8], [8]], shape=(8, 8), type='oper', dtype=Dense, isherm=True$$\\left(\\begin{array}{cc}0.111 & 0.111 & 0.111 & 0 & 0 & 0 & 0 & 0\\\\0.111 & 0.111 & 0.111 & 0 & 0 & 0 & 0 & 0\\\\0.111 & 0.111 & 0.111 & 0 & 0 & 0 & 0 & 0\\\\0 & 0 & 0 & 0.111 & -0.111 & -0.111 & 0 & 0\\\\0 & 0 & 0 & -0.111 & 0.111 & 0.111 & 0 & 0\\\\0 & 0 & 0 & -0.111 & 0.111 & 0.111 & 0 & 0\\\\0 & 0 & 0 & 0 & 0 & 0 & 0.167 & 0\\\\0 & 0 & 0 & 0 & 0 & 0 & 0 & 0.167\\end{array}\\right)$$"
      ],
      "text/plain": [
       "Quantum object: dims=[[8], [8]], shape=(8, 8), type='oper', dtype=Dense, isherm=True\n",
       "Qobj data =\n",
       "[[ 0.11111111  0.11111111  0.11111111  0.          0.          0.\n",
       "   0.          0.        ]\n",
       " [ 0.11111111  0.11111111  0.11111111  0.          0.          0.\n",
       "   0.          0.        ]\n",
       " [ 0.11111111  0.11111111  0.11111111  0.          0.          0.\n",
       "   0.          0.        ]\n",
       " [ 0.          0.          0.          0.11111111 -0.11111111 -0.11111111\n",
       "   0.          0.        ]\n",
       " [ 0.          0.          0.         -0.11111111  0.11111111  0.11111111\n",
       "   0.          0.        ]\n",
       " [ 0.          0.          0.         -0.11111111  0.11111111  0.11111111\n",
       "   0.          0.        ]\n",
       " [ 0.          0.          0.          0.          0.          0.\n",
       "   0.16666667  0.        ]\n",
       " [ 0.          0.          0.          0.          0.          0.\n",
       "   0.          0.16666667]]"
      ]
     },
     "execution_count": 2,
     "metadata": {},
     "output_type": "execute_result"
    }
   ],
   "source": [
    "rho_1 = (1/3)*np.array([[1, 1, 1, 0, 0, 0, 0, 0],\n",
    "                  [1, 1, 1, 0, 0, 0, 0, 0],\n",
    "                  [1, 1, 1, 0, 0, 0, 0, 0],\n",
    "                  [0, 0, 0, 0, 0, 0, 0, 0],\n",
    "                  [0, 0, 0, 0, 0, 0, 0, 0],\n",
    "                  [0, 0, 0, 0, 0, 0, 0, 0],\n",
    "                  [0, 0, 0, 0, 0, 0, 0, 0],\n",
    "                  [0, 0, 0, 0, 0, 0, 0, 0]])\n",
    "rho_2 = (1/3)*np.array([[0, 0, 0, 0, 0, 0, 0, 0],\n",
    "                  [0, 0, 0, 0, 0, 0, 0, 0],\n",
    "                  [0, 0, 0, 0, 0, 0, 0, 0],\n",
    "                  [0, 0, 0, 1, -1, -1, 0, 0],\n",
    "                  [0, 0, 0, -1, 1, 1, 0, 0],\n",
    "                  [0, 0, 0, -1, 1, 1, 0, 0],\n",
    "                  [0, 0, 0, 0, 0, 0, 0, 0],\n",
    "                  [0, 0, 0, 0, 0, 0, 0, 0]]) \n",
    "rho_3 = (1/2)*np.array([[0, 0, 0, 0, 0, 0, 0, 0],\n",
    "                  [0, 0, 0, 0, 0, 0, 0, 0],\n",
    "                  [0, 0, 0, 0, 0, 0, 0, 0],\n",
    "                  [0, 0, 0, 0, 0, 0, 0, 0],\n",
    "                  [0, 0, 0, 0, 0, 0, 0, 0],\n",
    "                  [0, 0, 0, 0, 0, 0, 0, 0],\n",
    "                  [0, 0, 0, 0, 0, 0, 1, 0],\n",
    "                  [0, 0, 0, 0, 0, 0, 0, 1]]) \n",
    "rho = (1/3)*(rho_1 + rho_2 + rho_3)\n",
    "rho = Qobj(rho)\n",
    "rho"
   ]
  },
  {
   "cell_type": "code",
   "execution_count": 3,
   "metadata": {},
   "outputs": [
    {
     "name": "stdout",
     "output_type": "stream",
     "text": [
      "Ising Hamiltonian  Quantum object: dims=[[8], [8]], shape=(8, 8), type='oper', dtype=Dense, isherm=True\n",
      "Qobj data =\n",
      "[[-2. -1. -1. -0. -1. -0. -0. -0.]\n",
      " [-1. -0. -0. -1. -0. -1. -0. -0.]\n",
      " [-1. -0.  2. -1. -0. -0. -1. -0.]\n",
      " [-0. -1. -1. -0. -0. -0. -0. -1.]\n",
      " [-1. -0. -0. -0. -0. -1. -1. -0.]\n",
      " [-0. -1. -0. -0. -1.  2. -0. -1.]\n",
      " [-0. -0. -1. -0. -1. -0. -0. -1.]\n",
      " [-0. -0. -0. -1. -0. -1. -1. -2.]]\n"
     ]
    }
   ],
   "source": [
    "paulix = np.array([[0, 1], [1, 0]])\n",
    "pauliz = np.array([[1, 0], [0, -1]])\n",
    "g = 1 # Transverse field strength\n",
    "IsingH = -(np.kron(np.kron(pauliz, pauliz), np.eye(2)) + np.kron(np.eye(2), np.kron(pauliz, pauliz)) + g*(np.kron(np.kron(paulix, np.eye(2)), np.eye(2)) + np.kron(np.kron(np.eye(2), paulix), np.eye(2)) \n",
    "        + np.kron(np.kron(np.eye(2), np.eye(2)), paulix))) \n",
    "IsingH = Qobj(IsingH)\n",
    "print(\"Ising Hamiltonian \", IsingH)"
   ]
  },
  {
   "cell_type": "code",
   "execution_count": 4,
   "metadata": {},
   "outputs": [
    {
     "name": "stdout",
     "output_type": "stream",
     "text": [
      "Ising eigenvalues  [-3.49395921 -2.60387547 -1.         -0.10991626  0.10991626  1.\n",
      "  2.60387547  3.49395921]\n",
      "Ising eigenstates  [Quantum object: dims=[[8], [1]], shape=(8, 1), type='ket', dtype=Dense\n",
      " Qobj data =\n",
      " [[-0.53248075]\n",
      "  [-0.29550452]\n",
      "  [-0.20449548]\n",
      "  [-0.29550452]\n",
      "  [-0.29550452]\n",
      "  [-0.20449548]\n",
      "  [-0.29550452]\n",
      "  [-0.53248075]]\n",
      " Quantum object: dims=[[8], [1]], shape=(8, 1), type='ket', dtype=Dense\n",
      " Qobj data =\n",
      " [[ 0.66399264]\n",
      "  [ 0.16399264]\n",
      "  [ 0.07298359]\n",
      "  [-0.16399264]\n",
      "  [ 0.16399264]\n",
      "  [-0.07298359]\n",
      "  [-0.16399264]\n",
      "  [-0.66399264]]\n",
      " Quantum object: dims=[[8], [1]], shape=(8, 1), type='ket', dtype=Dense\n",
      " Qobj data =\n",
      " [[-2.66008904e-16]\n",
      "  [ 5.00000000e-01]\n",
      "  [-2.49800181e-16]\n",
      "  [ 5.00000000e-01]\n",
      "  [-5.00000000e-01]\n",
      "  [ 3.05311332e-16]\n",
      "  [-5.00000000e-01]\n",
      "  [-5.55111512e-17]]\n",
      " Quantum object: dims=[[8], [1]], shape=(8, 1), type='ket', dtype=Dense\n",
      " Qobj data =\n",
      " [[-0.45949716]\n",
      "  [ 0.36848811]\n",
      "  [ 0.13151189]\n",
      "  [ 0.36848811]\n",
      "  [ 0.36848811]\n",
      "  [ 0.13151189]\n",
      "  [ 0.36848811]\n",
      "  [-0.45949716]]\n",
      " Quantum object: dims=[[8], [1]], shape=(8, 1), type='ket', dtype=Dense\n",
      " Qobj data =\n",
      " [[ 0.13151189]\n",
      "  [-0.36848811]\n",
      "  [ 0.45949716]\n",
      "  [ 0.36848811]\n",
      "  [-0.36848811]\n",
      "  [-0.45949716]\n",
      "  [ 0.36848811]\n",
      "  [-0.13151189]]\n",
      " Quantum object: dims=[[8], [1]], shape=(8, 1), type='ket', dtype=Dense\n",
      " Qobj data =\n",
      " [[-7.49402797e-17]\n",
      "  [ 5.00000000e-01]\n",
      "  [ 2.49800181e-16]\n",
      "  [-5.00000000e-01]\n",
      "  [-5.00000000e-01]\n",
      "  [-6.93889390e-17]\n",
      "  [ 5.00000000e-01]\n",
      "  [-1.11022302e-16]]\n",
      " Quantum object: dims=[[8], [1]], shape=(8, 1), type='ket', dtype=Dense\n",
      " Qobj data =\n",
      " [[-0.07298359]\n",
      "  [-0.16399264]\n",
      "  [ 0.66399264]\n",
      "  [-0.16399264]\n",
      "  [-0.16399264]\n",
      "  [ 0.66399264]\n",
      "  [-0.16399264]\n",
      "  [-0.07298359]]\n",
      " Quantum object: dims=[[8], [1]], shape=(8, 1), type='ket', dtype=Dense\n",
      " Qobj data =\n",
      " [[ 0.20449548]\n",
      "  [-0.29550452]\n",
      "  [-0.53248075]\n",
      "  [ 0.29550452]\n",
      "  [-0.29550452]\n",
      "  [ 0.53248075]\n",
      "  [ 0.29550452]\n",
      "  [-0.20449548]]                                                       ]\n"
     ]
    }
   ],
   "source": [
    "Ising_eigenvalues, Ising_eigenstates = IsingH.eigenstates()\n",
    "print(\"Ising eigenvalues \", Ising_eigenvalues)\n",
    "print(\"Ising eigenstates \", Ising_eigenstates)"
   ]
  },
  {
   "cell_type": "code",
   "execution_count": 5,
   "metadata": {},
   "outputs": [
    {
     "data": {
      "text/plain": [
       "(-0.7777777777777778+0j)"
      ]
     },
     "execution_count": 5,
     "metadata": {},
     "output_type": "execute_result"
    }
   ],
   "source": [
    "Energy = np.trace((IsingH * rho).full())\n",
    "Energy"
   ]
  },
  {
   "cell_type": "code",
   "execution_count": 6,
   "metadata": {},
   "outputs": [
    {
     "name": "stdout",
     "output_type": "stream",
     "text": [
      "Eigenvalues of rho  [1.35944520e-17 1.35944520e-17 2.80389115e-17 2.80389115e-17\n",
      " 1.66666667e-01 1.66666667e-01 3.33333333e-01 3.33333333e-01]\n"
     ]
    }
   ],
   "source": [
    "eigenvalues = rho.eigenenergies()\n",
    "print(\"Eigenvalues of rho \", eigenvalues)"
   ]
  },
  {
   "cell_type": "code",
   "execution_count": 7,
   "metadata": {
    "vscode": {
     "languageId": "ruby"
    }
   },
   "outputs": [
    {
     "data": {
      "text/latex": [
       "Quantum object: dims=[[8], [8]], shape=(8, 8), type='oper', dtype=Dense, isherm=True$$\\left(\\begin{array}{cc}0.277 & 0.061 & 0.042 & -0.012 & 0.061 & 0.010 & -0.012 & -0.017\\\\0.061 & 0.102 & 0.032 & 0.084 & 0.019 & 0.024 & 0.001 & -0.012\\\\0.042 & 0.032 & 0.019 & 0.024 & 0.032 & 0.015 & 0.024 & 0.010\\\\-0.012 & 0.084 & 0.024 & 0.102 & 0.001 & 0.032 & 0.019 & 0.061\\\\0.061 & 0.019 & 0.032 & 0.001 & 0.102 & 0.024 & 0.084 & -0.012\\\\0.010 & 0.024 & 0.015 & 0.032 & 0.024 & 0.019 & 0.032 & 0.042\\\\-0.012 & 0.001 & 0.024 & 0.019 & 0.084 & 0.032 & 0.102 & 0.061\\\\-0.017 & -0.012 & 0.010 & 0.061 & -0.012 & 0.042 & 0.061 & 0.277\\end{array}\\right)$$"
      ],
      "text/plain": [
       "Quantum object: dims=[[8], [8]], shape=(8, 8), type='oper', dtype=Dense, isherm=True\n",
       "Qobj data =\n",
       "[[ 0.2766636   0.06052692  0.0423786  -0.01206635  0.06052692  0.01007156\n",
       "  -0.01206635 -0.01726055]\n",
       " [ 0.06052692  0.10236942  0.03220946  0.08444036  0.01903608  0.02423028\n",
       "   0.00110703 -0.01206635]\n",
       " [ 0.0423786   0.03220946  0.01859756  0.02423028  0.03220946  0.01504649\n",
       "   0.02423028  0.01007156]\n",
       " [-0.01206635  0.08444036  0.02423028  0.10236942  0.00110703  0.03220946\n",
       "   0.01903608  0.06052692]\n",
       " [ 0.06052692  0.01903608  0.03220946  0.00110703  0.10236942  0.02423028\n",
       "   0.08444036 -0.01206635]\n",
       " [ 0.01007156  0.02423028  0.01504649  0.03220946  0.02423028  0.01859756\n",
       "   0.03220946  0.0423786 ]\n",
       " [-0.01206635  0.00110703  0.02423028  0.01903608  0.08444036  0.03220946\n",
       "   0.10236942  0.06052692]\n",
       " [-0.01726055 -0.01206635  0.01007156  0.06052692 -0.01206635  0.0423786\n",
       "   0.06052692  0.2766636 ]]"
      ]
     },
     "execution_count": 7,
     "metadata": {},
     "output_type": "execute_result"
    }
   ],
   "source": [
    "rho_min = eigenvalues[7]*Ising_eigenstates[0]*Ising_eigenstates[0].dag() + eigenvalues[6]*Ising_eigenstates[1]*Ising_eigenstates[1].dag() + eigenvalues[5]*Ising_eigenstates[2]*Ising_eigenstates[2].dag() + eigenvalues[4]*Ising_eigenstates[3]*Ising_eigenstates[3].dag() + eigenvalues[3]*Ising_eigenstates[4]*Ising_eigenstates[4].dag() + eigenvalues[2]*Ising_eigenstates[5]*Ising_eigenstates[5].dag() + eigenvalues[1]*Ising_eigenstates[6]*Ising_eigenstates[6].dag() + eigenvalues[0]*Ising_eigenstates[7]*Ising_eigenstates[7].dag()\n",
    "rho_min"
   ]
  },
  {
   "cell_type": "code",
   "execution_count": 8,
   "metadata": {},
   "outputs": [
    {
     "data": {
      "text/plain": [
       "(-2.2175976037106615+0j)"
      ]
     },
     "execution_count": 8,
     "metadata": {},
     "output_type": "execute_result"
    }
   ],
   "source": [
    "energy_min = np.trace((IsingH * rho_min).full())\n",
    "energy_min"
   ]
  },
  {
   "cell_type": "code",
   "execution_count": 9,
   "metadata": {},
   "outputs": [
    {
     "data": {
      "text/plain": [
       "(1.4398198259328838+0j)"
      ]
     },
     "execution_count": 9,
     "metadata": {},
     "output_type": "execute_result"
    }
   ],
   "source": [
    "Ergotropy_rho = Energy - energy_min   # Ergotropy of rho\n",
    "Ergotropy_rho"
   ]
  },
  {
   "cell_type": "code",
   "execution_count": 10,
   "metadata": {},
   "outputs": [],
   "source": [
    "from qutip.measurement import measure, measurement_statistics"
   ]
  },
  {
   "cell_type": "code",
   "execution_count": 11,
   "metadata": {},
   "outputs": [],
   "source": [
    "ket00 = basis(4, 0)\n",
    "ket01 = basis(4, 1)\n",
    "ket10 = basis(4, 2)\n",
    "ket11 = basis(4, 3)\n",
    "Z00, Z01, Z10, Z11 = ket2dm(ket00), ket2dm(ket01), ket2dm(ket10), ket2dm(ket11)\n",
    "# Projectors for our measurement\n",
    "P0, P1, P2, P3 = tensor(Z00, identity(2)), tensor(Z01, identity(2)), tensor(Z10, identity(2)), tensor(Z11, identity(2))\n",
    "P0, P1, P2, P3 = Qobj(P0.full()), Qobj(P1.full()), Qobj(P2.full()), Qobj(P3.full())\n",
    "Projectors = [P0, P1, P2, P3]"
   ]
  },
  {
   "cell_type": "code",
   "execution_count": 12,
   "metadata": {},
   "outputs": [
    {
     "data": {
      "text/plain": [
       "(Quantum object: dims=[[8], [8]], shape=(8, 8), type='oper', dtype=Dense, isherm=True\n",
       " Qobj data =\n",
       " [[0.5 0.5 0.  0.  0.  0.  0.  0. ]\n",
       "  [0.5 0.5 0.  0.  0.  0.  0.  0. ]\n",
       "  [0.  0.  0.  0.  0.  0.  0.  0. ]\n",
       "  [0.  0.  0.  0.  0.  0.  0.  0. ]\n",
       "  [0.  0.  0.  0.  0.  0.  0.  0. ]\n",
       "  [0.  0.  0.  0.  0.  0.  0.  0. ]\n",
       "  [0.  0.  0.  0.  0.  0.  0.  0. ]\n",
       "  [0.  0.  0.  0.  0.  0.  0.  0. ]],\n",
       " [0.2222222222222222,\n",
       "  0.2222222222222222,\n",
       "  0.2222222222222222,\n",
       "  0.3333333333333333])"
      ]
     },
     "execution_count": 12,
     "metadata": {},
     "output_type": "execute_result"
    }
   ],
   "source": [
    "collapsed_states, probabilities = measurement_statistics(rho, Projectors)\n",
    "collapsed_states[0], probabilities"
   ]
  },
  {
   "cell_type": "code",
   "execution_count": 13,
   "metadata": {},
   "outputs": [
    {
     "data": {
      "text/latex": [
       "Quantum object: dims=[[8], [8]], shape=(8, 8), type='oper', dtype=Dense, isherm=True$$\\left(\\begin{array}{cc}0.111 & 0.111 & 0 & 0 & 0 & 0 & 0 & 0\\\\0.111 & 0.111 & 0 & 0 & 0 & 0 & 0 & 0\\\\0 & 0 & 0.111 & 0 & 0 & 0 & 0 & 0\\\\0 & 0 & 0 & 0.111 & 0 & 0 & 0 & 0\\\\0 & 0 & 0 & 0 & 0.111 & 0.111 & 0 & 0\\\\0 & 0 & 0 & 0 & 0.111 & 0.111 & 0 & 0\\\\0 & 0 & 0 & 0 & 0 & 0 & 0.167 & 0\\\\0 & 0 & 0 & 0 & 0 & 0 & 0 & 0.167\\end{array}\\right)$$"
      ],
      "text/plain": [
       "Quantum object: dims=[[8], [8]], shape=(8, 8), type='oper', dtype=Dense, isherm=True\n",
       "Qobj data =\n",
       "[[0.11111111 0.11111111 0.         0.         0.         0.\n",
       "  0.         0.        ]\n",
       " [0.11111111 0.11111111 0.         0.         0.         0.\n",
       "  0.         0.        ]\n",
       " [0.         0.         0.11111111 0.         0.         0.\n",
       "  0.         0.        ]\n",
       " [0.         0.         0.         0.11111111 0.         0.\n",
       "  0.         0.        ]\n",
       " [0.         0.         0.         0.         0.11111111 0.11111111\n",
       "  0.         0.        ]\n",
       " [0.         0.         0.         0.         0.11111111 0.11111111\n",
       "  0.         0.        ]\n",
       " [0.         0.         0.         0.         0.         0.\n",
       "  0.16666667 0.        ]\n",
       " [0.         0.         0.         0.         0.         0.\n",
       "  0.         0.16666667]]"
      ]
     },
     "execution_count": 13,
     "metadata": {},
     "output_type": "execute_result"
    }
   ],
   "source": [
    "rho_average = np.average(collapsed_states, weights=probabilities)\n",
    "rho_average"
   ]
  },
  {
   "cell_type": "code",
   "execution_count": 14,
   "metadata": {},
   "outputs": [
    {
     "data": {
      "text/latex": [
       "Quantum object: dims=[[8], [8]], shape=(8, 8), type='oper', dtype=Dense, isherm=True$$\\left(\\begin{array}{cc}0.111 & 0 & 0 & 0 & 0 & 0 & 0 & 0\\\\0 & 0.111 & 0 & 0 & 0 & 0 & 0 & 0\\\\0 & 0 & 0.111 & 0 & 0 & 0 & 0 & 0\\\\0 & 0 & 0 & 0.111 & 0 & 0 & 0 & 0\\\\0 & 0 & 0 & 0 & 0.111 & 0 & 0 & 0\\\\0 & 0 & 0 & 0 & 0 & 0.111 & 0 & 0\\\\0 & 0 & 0 & 0 & 0 & 0 & 0.167 & 0\\\\0 & 0 & 0 & 0 & 0 & 0 & 0 & 0.167\\end{array}\\right)$$"
      ],
      "text/plain": [
       "Quantum object: dims=[[8], [8]], shape=(8, 8), type='oper', dtype=Dense, isherm=True\n",
       "Qobj data =\n",
       "[[0.11111111 0.         0.         0.         0.         0.\n",
       "  0.         0.        ]\n",
       " [0.         0.11111111 0.         0.         0.         0.\n",
       "  0.         0.        ]\n",
       " [0.         0.         0.11111111 0.         0.         0.\n",
       "  0.         0.        ]\n",
       " [0.         0.         0.         0.11111111 0.         0.\n",
       "  0.         0.        ]\n",
       " [0.         0.         0.         0.         0.11111111 0.\n",
       "  0.         0.        ]\n",
       " [0.         0.         0.         0.         0.         0.11111111\n",
       "  0.         0.        ]\n",
       " [0.         0.         0.         0.         0.         0.\n",
       "  0.16666667 0.        ]\n",
       " [0.         0.         0.         0.         0.         0.\n",
       "  0.         0.16666667]]"
      ]
     },
     "execution_count": 14,
     "metadata": {},
     "output_type": "execute_result"
    }
   ],
   "source": [
    "# After applying Haar random unitaries\n",
    "rho_haar = (1/2)*(probabilities[0]*P0 + probabilities[1]*P1 + probabilities[2]*P2 + probabilities[3]*P3)  \n",
    "rho_haar"
   ]
  },
  {
   "cell_type": "code",
   "execution_count": 15,
   "metadata": {},
   "outputs": [
    {
     "data": {
      "text/plain": [
       "(-0.1111111111111111+0j)"
      ]
     },
     "execution_count": 15,
     "metadata": {},
     "output_type": "execute_result"
    }
   ],
   "source": [
    "np.trace((IsingH * rho_haar).full())"
   ]
  },
  {
   "cell_type": "code",
   "execution_count": 16,
   "metadata": {},
   "outputs": [
    {
     "data": {
      "text/plain": [
       "array([0.11111111, 0.11111111, 0.11111111, 0.11111111, 0.11111111,\n",
       "       0.11111111, 0.16666667, 0.16666667])"
      ]
     },
     "execution_count": 16,
     "metadata": {},
     "output_type": "execute_result"
    }
   ],
   "source": [
    "rho_haar.diag()"
   ]
  },
  {
   "cell_type": "code",
   "execution_count": 17,
   "metadata": {},
   "outputs": [
    {
     "data": {
      "text/latex": [
       "Quantum object: dims=[[8], [8]], shape=(8, 8), type='oper', dtype=Dense, isherm=True$$\\left(\\begin{array}{cc}0.151 & 0.015 & 0.009 & 0.003 & 0.015 & 0.003 & 0.003 & -0.009\\\\0.015 & 0.117 & 0.004 & 0.003 & 0.006 & 0.003 & 0.003 & 0.003\\\\0.009 & 0.004 & 0.114 & 0.003 & 0.004 & 0.002 & 0.003 & 0.003\\\\0.003 & 0.003 & 0.003 & 0.117 & 0.003 & 0.004 & 0.006 & 0.015\\\\0.015 & 0.006 & 0.004 & 0.003 & 0.117 & 0.003 & 0.003 & 0.003\\\\0.003 & 0.003 & 0.002 & 0.004 & 0.003 & 0.114 & 0.004 & 0.009\\\\0.003 & 0.003 & 0.003 & 0.006 & 0.003 & 0.004 & 0.117 & 0.015\\\\-0.009 & 0.003 & 0.003 & 0.015 & 0.003 & 0.009 & 0.015 & 0.151\\end{array}\\right)$$"
      ],
      "text/plain": [
       "Quantum object: dims=[[8], [8]], shape=(8, 8), type='oper', dtype=Dense, isherm=True\n",
       "Qobj data =\n",
       "[[ 0.15135678  0.01479113  0.00874169  0.00269225  0.01479113  0.00335719\n",
       "   0.00269225 -0.00874169]\n",
       " [ 0.01479113  0.11745647  0.00402212  0.00335719  0.00634536  0.00269225\n",
       "   0.00335719  0.00269225]\n",
       " [ 0.00874169  0.00402212  0.11373028  0.00269225  0.00402212  0.00202732\n",
       "   0.00269225  0.00335719]\n",
       " [ 0.00269225  0.00335719  0.00269225  0.11745647  0.00335719  0.00402212\n",
       "   0.00634536  0.01479113]\n",
       " [ 0.01479113  0.00634536  0.00402212  0.00335719  0.11745647  0.00269225\n",
       "   0.00335719  0.00269225]\n",
       " [ 0.00335719  0.00269225  0.00202732  0.00402212  0.00269225  0.11373028\n",
       "   0.00402212  0.00874169]\n",
       " [ 0.00269225  0.00335719  0.00269225  0.00634536  0.00335719  0.00402212\n",
       "   0.11745647  0.01479113]\n",
       " [-0.00874169  0.00269225  0.00335719  0.01479113  0.00269225  0.00874169\n",
       "   0.01479113  0.15135678]]"
      ]
     },
     "execution_count": 17,
     "metadata": {},
     "output_type": "execute_result"
    }
   ],
   "source": [
    "rho_haar_min = rho_haar.diag()[7]*Ising_eigenstates[0]*Ising_eigenstates[0].dag() + rho_haar.diag()[6]*Ising_eigenstates[1]*Ising_eigenstates[1].dag() + rho_haar.diag()[5]*Ising_eigenstates[2]*Ising_eigenstates[2].dag() + rho_haar.diag()[4]*Ising_eigenstates[3]*Ising_eigenstates[3].dag() + rho_haar.diag()[3]*Ising_eigenstates[4]*Ising_eigenstates[4].dag() + rho_haar.diag()[2]*Ising_eigenstates[5]*Ising_eigenstates[5].dag() + rho_haar.diag()[1]*Ising_eigenstates[6]*Ising_eigenstates[6].dag() + rho_haar.diag()[0]*Ising_eigenstates[7]*Ising_eigenstates[7].dag()\n",
    "rho_haar_min"
   ]
  },
  {
   "cell_type": "code",
   "execution_count": 18,
   "metadata": {},
   "outputs": [
    {
     "data": {
      "text/plain": [
       "(-0.3387685932802563+0j)"
      ]
     },
     "execution_count": 18,
     "metadata": {},
     "output_type": "execute_result"
    }
   ],
   "source": [
    "energy_haar_min = np.trace((IsingH * rho_haar_min).full())\n",
    "energy_haar_min"
   ]
  },
  {
   "cell_type": "code",
   "execution_count": 34,
   "metadata": {},
   "outputs": [
    {
     "data": {
      "text/plain": [
       "(-0.3387685932802563+0j)"
      ]
     },
     "execution_count": 34,
     "metadata": {},
     "output_type": "execute_result"
    }
   ],
   "source": [
    "# np.trace((IsingH *U_global* rho_haar*U_global.dag()).full()) # Construction of U_global is correct"
   ]
  },
  {
   "cell_type": "code",
   "execution_count": 19,
   "metadata": {},
   "outputs": [
    {
     "data": {
      "text/plain": [
       "(-0.43900918449752147+0j)"
      ]
     },
     "execution_count": 19,
     "metadata": {},
     "output_type": "execute_result"
    }
   ],
   "source": [
    "observational_ergotropy = np.trace((IsingH * rho).full()) - energy_haar_min\n",
    "observational_ergotropy"
   ]
  },
  {
   "cell_type": "code",
   "execution_count": 35,
   "metadata": {},
   "outputs": [
    {
     "data": {
      "text/plain": [
       "{0.0: 0.22387, 1.0: 0.223, 2.0: 0.2212, 3.0: 0.33193}"
      ]
     },
     "execution_count": 35,
     "metadata": {},
     "output_type": "execute_result"
    }
   ],
   "source": [
    "def algorithm_stage_1(rho, Projectors, Num_shots):\n",
    "    outcomes = {0.0:0, 1.0:0, 2.0:0, 3.0:0}\n",
    "    for i in range(num_shots):\n",
    "        value, _ = measure(rho, Projectors)\n",
    "        outcomes[round(value)] += 1\n",
    "    # divide by the number of shots to get the probability\n",
    "    for key in outcomes.keys():\n",
    "        outcomes[key] /= num_shots\n",
    "    return outcomes\n",
    "num_shots = 100000\n",
    "probabilities = algorithm_stage_1(rho, Projectors, num_shots)\n",
    "probabilities"
   ]
  },
  {
   "cell_type": "code",
   "execution_count": 36,
   "metadata": {},
   "outputs": [
    {
     "name": "stdout",
     "output_type": "stream",
     "text": [
      "[0.1106   0.1106   0.1115   0.1115   0.111935 0.111935 0.165965 0.165965] [Quantum object: dims=[[8], [1]], shape=(8, 1), type='ket', dtype=Dense\n",
      " Qobj data =\n",
      " [[0.]\n",
      "  [0.]\n",
      "  [0.]\n",
      "  [0.]\n",
      "  [1.]\n",
      "  [0.]\n",
      "  [0.]\n",
      "  [0.]]\n",
      " Quantum object: dims=[[8], [1]], shape=(8, 1), type='ket', dtype=Dense\n",
      " Qobj data =\n",
      " [[0.]\n",
      "  [0.]\n",
      "  [0.]\n",
      "  [0.]\n",
      "  [0.]\n",
      "  [1.]\n",
      "  [0.]\n",
      "  [0.]]\n",
      " Quantum object: dims=[[8], [1]], shape=(8, 1), type='ket', dtype=Dense\n",
      " Qobj data =\n",
      " [[0.]\n",
      "  [0.]\n",
      "  [1.]\n",
      "  [0.]\n",
      "  [0.]\n",
      "  [0.]\n",
      "  [0.]\n",
      "  [0.]]\n",
      " Quantum object: dims=[[8], [1]], shape=(8, 1), type='ket', dtype=Dense\n",
      " Qobj data =\n",
      " [[0.]\n",
      "  [0.]\n",
      "  [0.]\n",
      "  [1.]\n",
      "  [0.]\n",
      "  [0.]\n",
      "  [0.]\n",
      "  [0.]]\n",
      " Quantum object: dims=[[8], [1]], shape=(8, 1), type='ket', dtype=Dense\n",
      " Qobj data =\n",
      " [[1.]\n",
      "  [0.]\n",
      "  [0.]\n",
      "  [0.]\n",
      "  [0.]\n",
      "  [0.]\n",
      "  [0.]\n",
      "  [0.]]\n",
      " Quantum object: dims=[[8], [1]], shape=(8, 1), type='ket', dtype=Dense\n",
      " Qobj data =\n",
      " [[0.]\n",
      "  [1.]\n",
      "  [0.]\n",
      "  [0.]\n",
      "  [0.]\n",
      "  [0.]\n",
      "  [0.]\n",
      "  [0.]]\n",
      " Quantum object: dims=[[8], [1]], shape=(8, 1), type='ket', dtype=Dense\n",
      " Qobj data =\n",
      " [[0.]\n",
      "  [0.]\n",
      "  [0.]\n",
      "  [0.]\n",
      "  [0.]\n",
      "  [0.]\n",
      "  [1.]\n",
      "  [0.]]\n",
      " Quantum object: dims=[[8], [1]], shape=(8, 1), type='ket', dtype=Dense\n",
      " Qobj data =\n",
      " [[0.]\n",
      "  [0.]\n",
      "  [0.]\n",
      "  [0.]\n",
      "  [0.]\n",
      "  [0.]\n",
      "  [0.]\n",
      "  [1.]]                                                                ]\n"
     ]
    },
    {
     "data": {
      "text/plain": [
       "array([0, 1, 2, 3, 4, 5, 6, 7], dtype=int64)"
      ]
     },
     "execution_count": 36,
     "metadata": {},
     "output_type": "execute_result"
    }
   ],
   "source": [
    "rho_avg_stage1 = (1/2)*(probabilities[0]*P0 + probabilities[1]*P1 + probabilities[2]*P2 + probabilities[3]*P3)\n",
    "#stage1_eig, stage1_vec = np.linalg.eig(rho_avg_stage1.full())\n",
    "stage1_eig, stage1_vec = rho_avg_stage1.eigenstates()\n",
    "#rho_avg_stage1\n",
    "print(stage1_eig, stage1_vec)\n",
    "sortindex = np.argsort(stage1_eig)\n",
    "sortindex"
   ]
  },
  {
   "cell_type": "code",
   "execution_count": 37,
   "metadata": {},
   "outputs": [
    {
     "data": {
      "text/latex": [
       "Quantum object: dims=[[8], [8]], shape=(8, 8), type='oper', dtype=Dense, isherm=False$$\\left(\\begin{array}{cc}0 & 0 & 0 & 0 & 0 & 0 & 0 & -0.532\\\\0 & 0 & 0 & 0 & 0 & 0 & 0 & -0.296\\\\0 & 0 & 0 & 0 & 0 & 0 & 0 & -0.204\\\\0 & 0 & 0 & 0 & 0 & 0 & 0 & -0.296\\\\0 & 0 & 0 & 0 & 0 & 0 & 0 & -0.296\\\\0 & 0 & 0 & 0 & 0 & 0 & 0 & -0.204\\\\0 & 0 & 0 & 0 & 0 & 0 & 0 & -0.296\\\\0 & 0 & 0 & 0 & 0 & 0 & 0 & -0.532\\end{array}\\right)$$"
      ],
      "text/plain": [
       "Quantum object: dims=[[8], [8]], shape=(8, 8), type='oper', dtype=Dense, isherm=False\n",
       "Qobj data =\n",
       "[[ 0.          0.          0.          0.          0.          0.\n",
       "   0.         -0.53248075]\n",
       " [ 0.          0.          0.          0.          0.          0.\n",
       "   0.         -0.29550452]\n",
       " [ 0.          0.          0.          0.          0.          0.\n",
       "   0.         -0.20449548]\n",
       " [ 0.          0.          0.          0.          0.          0.\n",
       "   0.         -0.29550452]\n",
       " [ 0.          0.          0.          0.          0.          0.\n",
       "   0.         -0.29550452]\n",
       " [ 0.          0.          0.          0.          0.          0.\n",
       "   0.         -0.20449548]\n",
       " [ 0.          0.          0.          0.          0.          0.\n",
       "   0.         -0.29550452]\n",
       " [ 0.          0.          0.          0.          0.          0.\n",
       "   0.         -0.53248075]]"
      ]
     },
     "execution_count": 37,
     "metadata": {},
     "output_type": "execute_result"
    }
   ],
   "source": [
    "Ising_eigenstates[0]*stage1_vec[7].dag()"
   ]
  },
  {
   "cell_type": "code",
   "execution_count": 38,
   "metadata": {},
   "outputs": [
    {
     "data": {
      "text/latex": [
       "Quantum object: dims=[[8], [8]], shape=(8, 8), type='oper', dtype=Dense, isherm=False$$\\left(\\begin{array}{cc}-0.459 & -2.660\\times10^{ -16 } & -7.494\\times10^{ -17 } & 0.132 & 0.204 & -0.073 & 0.664 & -0.532\\\\0.368 & 0.500 & 0.500 & -0.368 & -0.296 & -0.164 & 0.164 & -0.296\\\\0.132 & -2.498\\times10^{ -16 } & 2.498\\times10^{ -16 } & 0.459 & -0.532 & 0.664 & 0.073 & -0.204\\\\0.368 & 0.500 & -0.500 & 0.368 & 0.296 & -0.164 & -0.164 & -0.296\\\\0.368 & -0.500 & -0.500 & -0.368 & -0.296 & -0.164 & 0.164 & -0.296\\\\0.132 & 3.053\\times10^{ -16 } & -6.939\\times10^{ -17 } & -0.459 & 0.532 & 0.664 & -0.073 & -0.204\\\\0.368 & -0.500 & 0.500 & 0.368 & 0.296 & -0.164 & -0.164 & -0.296\\\\-0.459 & -5.551\\times10^{ -17 } & -1.110\\times10^{ -16 } & -0.132 & -0.204 & -0.073 & -0.664 & -0.532\\end{array}\\right)$$"
      ],
      "text/plain": [
       "Quantum object: dims=[[8], [8]], shape=(8, 8), type='oper', dtype=Dense, isherm=False\n",
       "Qobj data =\n",
       "[[-4.59497163e-01 -2.66008904e-16 -7.49402797e-17  1.31511885e-01\n",
       "   2.04495476e-01 -7.29835903e-02  6.63992639e-01 -5.32480753e-01]\n",
       " [ 3.68488115e-01  5.00000000e-01  5.00000000e-01 -3.68488115e-01\n",
       "  -2.95504524e-01 -1.63992639e-01  1.63992639e-01 -2.95504524e-01]\n",
       " [ 1.31511885e-01 -2.49800181e-16  2.49800181e-16  4.59497163e-01\n",
       "  -5.32480753e-01  6.63992639e-01  7.29835903e-02 -2.04495476e-01]\n",
       " [ 3.68488115e-01  5.00000000e-01 -5.00000000e-01  3.68488115e-01\n",
       "   2.95504524e-01 -1.63992639e-01 -1.63992639e-01 -2.95504524e-01]\n",
       " [ 3.68488115e-01 -5.00000000e-01 -5.00000000e-01 -3.68488115e-01\n",
       "  -2.95504524e-01 -1.63992639e-01  1.63992639e-01 -2.95504524e-01]\n",
       " [ 1.31511885e-01  3.05311332e-16 -6.93889390e-17 -4.59497163e-01\n",
       "   5.32480753e-01  6.63992639e-01 -7.29835903e-02 -2.04495476e-01]\n",
       " [ 3.68488115e-01 -5.00000000e-01  5.00000000e-01  3.68488115e-01\n",
       "   2.95504524e-01 -1.63992639e-01 -1.63992639e-01 -2.95504524e-01]\n",
       " [-4.59497163e-01 -5.55111512e-17 -1.11022302e-16 -1.31511885e-01\n",
       "  -2.04495476e-01 -7.29835903e-02 -6.63992639e-01 -5.32480753e-01]]"
      ]
     },
     "execution_count": 38,
     "metadata": {},
     "output_type": "execute_result"
    }
   ],
   "source": [
    "# Construct U_global \n",
    "U_global = Ising_eigenstates[0]*stage1_vec[sortindex[-1]].dag() + Ising_eigenstates[1]*stage1_vec[sortindex[-2]].dag() + Ising_eigenstates[2]*stage1_vec[sortindex[-3]].dag() + Ising_eigenstates[3]*stage1_vec[sortindex[-4]].dag() + Ising_eigenstates[4]*stage1_vec[sortindex[-5]].dag() + Ising_eigenstates[5]*stage1_vec[sortindex[-6]].dag() + Ising_eigenstates[6]*stage1_vec[sortindex[-7]].dag() + Ising_eigenstates[7]*stage1_vec[sortindex[-8]].dag()\n",
    "U_global"
   ]
  },
  {
   "cell_type": "code",
   "execution_count": 39,
   "metadata": {},
   "outputs": [],
   "source": [
    "I, X, Y, Z = qeye(2), sigmax(), sigmay(), sigmaz()\n",
    "pauli_group = []\n",
    "for op in [I, X, Y, Z]:\n",
    "    pauli_group.append(op)\n",
    "    pauli_group.append(-1*op)\n",
    "    pauli_group.append(1j*op)\n",
    "    pauli_group.append(-1j*op)"
   ]
  },
  {
   "cell_type": "code",
   "execution_count": 40,
   "metadata": {},
   "outputs": [],
   "source": [
    "# stage 2 of algorithm\n",
    "def algorithm_stage_2(density_matrix, hamiltonian, U_global, Projectors, iter):\n",
    "    energy_outcomes = []\n",
    "    for iteration in range(iter):\n",
    "        if np.random.choice([0, 1]) == 0:\n",
    "            outcome, _ = measure(density_matrix, hamiltonian)\n",
    "            energy_outcomes.append(outcome)\n",
    "        else:\n",
    "            _, post_measure_state = measure(density_matrix, Projectors)\n",
    "            u_random = np.random.choice(pauli_group)\n",
    "\n",
    "            u = tensor(qeye(4), u_random)  # currently hard coded. We will change 4 to general dimension\n",
    "            u = Qobj(u.full()) # converting to np.array and again back to Qobj to match the dimension\n",
    "            density_matrix = u * post_measure_state * u.dag()\n",
    "           \n",
    "            #U_global = qeye(8)      # global unitary\n",
    "            density_matrix = U_global * density_matrix * U_global.dag()\n",
    "\n",
    "            # measure -H\n",
    "            outcome, _ = measure(density_matrix, -1*hamiltonian)\n",
    "            energy_outcomes.append(outcome)\n",
    "    Ergotropy = 2*np.mean(energy_outcomes)        \n",
    "    return Ergotropy"
   ]
  },
  {
   "cell_type": "code",
   "execution_count": 41,
   "metadata": {},
   "outputs": [
    {
     "data": {
      "text/plain": [
       "0.0056811507946090386"
      ]
     },
     "execution_count": 41,
     "metadata": {},
     "output_type": "execute_result"
    }
   ],
   "source": [
    "algorithm_stage_2(rho, IsingH, U_global, Projectors, 1000)"
   ]
  },
  {
   "cell_type": "code",
   "execution_count": 42,
   "metadata": {},
   "outputs": [
    {
     "name": "stdout",
     "output_type": "stream",
     "text": [
      "Total iterations: 10, Ergotropy: -0.1780167471650409\n",
      "Total iterations: 100, Ergotropy: 0.8928260445000781\n",
      "Total iterations: 1000, Ergotropy: 0.09666877728008003\n",
      "Total iterations: 10000, Ergotropy: -0.04080565218704946\n",
      "Total iterations: 100000, Ergotropy: -0.010856260621394147\n"
     ]
    }
   ],
   "source": [
    "for iter in [10, 100, 1000, 10000, 100000]:# 1000000]:\n",
    "    print(f\"Total iterations: {iter}, Ergotropy: {algorithm_stage_2(rho, IsingH, U_global, Projectors, iter)}\")"
   ]
  },
  {
   "cell_type": "code",
   "execution_count": 32,
   "metadata": {},
   "outputs": [
    {
     "data": {
      "image/png": "[encoded data removed]",
      "text/plain": [
       "<Figure size 640x480 with 1 Axes>"
      ]
     },
     "metadata": {},
     "output_type": "display_data"
    }
   ],
   "source": [
    "# plot the above outcomes\n",
    "import matplotlib.pyplot as plt\n",
    "extractable_works = [-0.7207750943219282, 0.484128459610338, -0.2641961375764847, -0.00393025078465909, 0.027459993382460662, -0.0034502652554184734]\n",
    "total_iters = [10, 100, 1000, 10000, 100000, 1000000]\n",
    "#plot in log scale\n",
    "plt.plot(np.log10(total_iters), extractable_works)\n",
    "plt.xlabel(\"Total iterations (in log scale)\")\n",
    "plt.ylabel(\"Observational ergotropy\")\n",
    "#plt.title(\"Extractable work vs Total iterations\")\n",
    "plt.show()"
   ]
  }
 ],
 "metadata": {
  "kernelspec": {
   "display_name": "Python 3",
   "language": "python",
   "name": "python3"
  },
  "language_info": {
   "codemirror_mode": {
    "name": "ipython",
    "version": 3
   },
   "file_extension": ".py",
   "mimetype": "text/x-python",
   "name": "python",
   "nbconvert_exporter": "python",
   "pygments_lexer": "ipython3",
   "version": "3.10.8"
  }
 },
 "nbformat": 4,
 "nbformat_minor": 2
}
