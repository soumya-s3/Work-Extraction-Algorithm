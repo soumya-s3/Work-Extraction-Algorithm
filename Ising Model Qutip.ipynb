{
 "cells": [
  {
   "cell_type": "code",
   "execution_count": 1,
   "metadata": {},
   "outputs": [],
   "source": [
    "import numpy as np\n",
    "from qutip import *"
   ]
  },
  {
   "cell_type": "code",
   "execution_count": 2,
   "metadata": {},
   "outputs": [
    {
     "data": {
      "text/latex": [
       "Quantum object: dims=[[8], [8]], shape=(8, 8), type='oper', dtype=Dense, isherm=True$$\\left(\\begin{array}{cc}0.111 & 0.111 & 0.111 & 0 & 0 & 0 & 0 & 0\\\\0.111 & 0.111 & 0.111 & 0 & 0 & 0 & 0 & 0\\\\0.111 & 0.111 & 0.111 & 0 & 0 & 0 & 0 & 0\\\\0 & 0 & 0 & 0.111 & -0.111 & -0.111 & 0 & 0\\\\0 & 0 & 0 & -0.111 & 0.111 & 0.111 & 0 & 0\\\\0 & 0 & 0 & -0.111 & 0.111 & 0.111 & 0 & 0\\\\0 & 0 & 0 & 0 & 0 & 0 & 0.167 & 0\\\\0 & 0 & 0 & 0 & 0 & 0 & 0 & 0.167\\end{array}\\right)$$"
      ],
      "text/plain": [
       "Quantum object: dims=[[8], [8]], shape=(8, 8), type='oper', dtype=Dense, isherm=True\n",
       "Qobj data =\n",
       "[[ 0.11111111  0.11111111  0.11111111  0.          0.          0.\n",
       "   0.          0.        ]\n",
       " [ 0.11111111  0.11111111  0.11111111  0.          0.          0.\n",
       "   0.          0.        ]\n",
       " [ 0.11111111  0.11111111  0.11111111  0.          0.          0.\n",
       "   0.          0.        ]\n",
       " [ 0.          0.          0.          0.11111111 -0.11111111 -0.11111111\n",
       "   0.          0.        ]\n",
       " [ 0.          0.          0.         -0.11111111  0.11111111  0.11111111\n",
       "   0.          0.        ]\n",
       " [ 0.          0.          0.         -0.11111111  0.11111111  0.11111111\n",
       "   0.          0.        ]\n",
       " [ 0.          0.          0.          0.          0.          0.\n",
       "   0.16666667  0.        ]\n",
       " [ 0.          0.          0.          0.          0.          0.\n",
       "   0.          0.16666667]]"
      ]
     },
     "execution_count": 2,
     "metadata": {},
     "output_type": "execute_result"
    }
   ],
   "source": [
    "# generating density matrix rho = (1/3) (rho_1 +  rho_2 +  rho_3)\n",
    "rho_1 = (1/3)*np.array([[1, 1, 1, 0, 0, 0, 0, 0],\n",
    "                  [1, 1, 1, 0, 0, 0, 0, 0],\n",
    "                  [1, 1, 1, 0, 0, 0, 0, 0],\n",
    "                  [0, 0, 0, 0, 0, 0, 0, 0],\n",
    "                  [0, 0, 0, 0, 0, 0, 0, 0],\n",
    "                  [0, 0, 0, 0, 0, 0, 0, 0],\n",
    "                  [0, 0, 0, 0, 0, 0, 0, 0],\n",
    "                  [0, 0, 0, 0, 0, 0, 0, 0]])\n",
    "\n",
    "rho_2 = (1/3)*np.array([[0, 0, 0, 0, 0, 0, 0, 0],\n",
    "                  [0, 0, 0, 0, 0, 0, 0, 0],\n",
    "                  [0, 0, 0, 0, 0, 0, 0, 0],\n",
    "                  [0, 0, 0, 1, -1, -1, 0, 0],\n",
    "                  [0, 0, 0, -1, 1, 1, 0, 0],\n",
    "                  [0, 0, 0, -1, 1, 1, 0, 0],\n",
    "                  [0, 0, 0, 0, 0, 0, 0, 0],\n",
    "                  [0, 0, 0, 0, 0, 0, 0, 0]]) \n",
    "\n",
    "rho_3 = (1/2)*np.array([[0, 0, 0, 0, 0, 0, 0, 0],\n",
    "                  [0, 0, 0, 0, 0, 0, 0, 0],\n",
    "                  [0, 0, 0, 0, 0, 0, 0, 0],\n",
    "                  [0, 0, 0, 0, 0, 0, 0, 0],\n",
    "                  [0, 0, 0, 0, 0, 0, 0, 0],\n",
    "                  [0, 0, 0, 0, 0, 0, 0, 0],\n",
    "                  [0, 0, 0, 0, 0, 0, 1, 0],\n",
    "                  [0, 0, 0, 0, 0, 0, 0, 1]]) \n",
    "\n",
    "rho = (1/3)*(rho_1 + rho_2 + rho_3)\n",
    "\n",
    "# convert rho into a qutip object\n",
    "rho = Qobj(rho)\n",
    "\n",
    "rho"
   ]
  },
  {
   "cell_type": "code",
   "execution_count": 8,
   "metadata": {},
   "outputs": [
    {
     "name": "stdout",
     "output_type": "stream",
     "text": [
      "Ising Hamiltonian  Quantum object: dims=[[8], [8]], shape=(8, 8), type='oper', dtype=Dense, isherm=True\n",
      "Qobj data =\n",
      "[[-2. -1. -1. -0. -1. -0. -0. -0.]\n",
      " [-1. -0. -0. -1. -0. -1. -0. -0.]\n",
      " [-1. -0.  2. -1. -0. -0. -1. -0.]\n",
      " [-0. -1. -1. -0. -0. -0. -0. -1.]\n",
      " [-1. -0. -0. -0. -0. -1. -1. -0.]\n",
      " [-0. -1. -0. -0. -1.  2. -0. -1.]\n",
      " [-0. -0. -1. -0. -1. -0. -0. -1.]\n",
      " [-0. -0. -0. -1. -0. -1. -1. -2.]]\n",
      "Eigenvalues  [-3.49395921 -2.60387547 -1.         -0.10991626  0.10991626  1.\n",
      "  2.60387547  3.49395921]\n"
     ]
    }
   ],
   "source": [
    "paulix = np.array([[0, 1], [1, 0]])\n",
    "pauliz = np.array([[1, 0], [0, -1]])\n",
    "g = 1 # Transverse field strength\n",
    "IsingH = -(np.kron(np.kron(pauliz, pauliz), np.eye(2)) + np.kron(np.eye(2), np.kron(pauliz, pauliz)) + g*(np.kron(np.kron(paulix, np.eye(2)), np.eye(2)) + np.kron(np.kron(np.eye(2), paulix), np.eye(2)) \n",
    "        + np.kron(np.kron(np.eye(2), np.eye(2)), paulix))) \n",
    "IsingH = Qobj(IsingH)\n",
    "print(\"Ising Hamiltonian \", IsingH)"
   ]
  },
  {
   "cell_type": "code",
   "execution_count": 13,
   "metadata": {},
   "outputs": [
    {
     "name": "stdout",
     "output_type": "stream",
     "text": [
      "Ising eigenvalues  [-3.49395921 -2.60387547 -1.         -0.10991626  0.10991626  1.\n",
      "  2.60387547  3.49395921]\n",
      "Ising eigenstates  [Quantum object: dims=[[8], [1]], shape=(8, 1), type='ket', dtype=Dense\n",
      " Qobj data =\n",
      " [[-0.53248075]\n",
      "  [-0.29550452]\n",
      "  [-0.20449548]\n",
      "  [-0.29550452]\n",
      "  [-0.29550452]\n",
      "  [-0.20449548]\n",
      "  [-0.29550452]\n",
      "  [-0.53248075]]\n",
      " Quantum object: dims=[[8], [1]], shape=(8, 1), type='ket', dtype=Dense\n",
      " Qobj data =\n",
      " [[ 0.66399264]\n",
      "  [ 0.16399264]\n",
      "  [ 0.07298359]\n",
      "  [-0.16399264]\n",
      "  [ 0.16399264]\n",
      "  [-0.07298359]\n",
      "  [-0.16399264]\n",
      "  [-0.66399264]]\n",
      " Quantum object: dims=[[8], [1]], shape=(8, 1), type='ket', dtype=Dense\n",
      " Qobj data =\n",
      " [[-2.66008904e-16]\n",
      "  [ 5.00000000e-01]\n",
      "  [-2.49800181e-16]\n",
      "  [ 5.00000000e-01]\n",
      "  [-5.00000000e-01]\n",
      "  [ 3.05311332e-16]\n",
      "  [-5.00000000e-01]\n",
      "  [-5.55111512e-17]]\n",
      " Quantum object: dims=[[8], [1]], shape=(8, 1), type='ket', dtype=Dense\n",
      " Qobj data =\n",
      " [[-0.45949716]\n",
      "  [ 0.36848811]\n",
      "  [ 0.13151189]\n",
      "  [ 0.36848811]\n",
      "  [ 0.36848811]\n",
      "  [ 0.13151189]\n",
      "  [ 0.36848811]\n",
      "  [-0.45949716]]\n",
      " Quantum object: dims=[[8], [1]], shape=(8, 1), type='ket', dtype=Dense\n",
      " Qobj data =\n",
      " [[ 0.13151189]\n",
      "  [-0.36848811]\n",
      "  [ 0.45949716]\n",
      "  [ 0.36848811]\n",
      "  [-0.36848811]\n",
      "  [-0.45949716]\n",
      "  [ 0.36848811]\n",
      "  [-0.13151189]]\n",
      " Quantum object: dims=[[8], [1]], shape=(8, 1), type='ket', dtype=Dense\n",
      " Qobj data =\n",
      " [[-7.49402797e-17]\n",
      "  [ 5.00000000e-01]\n",
      "  [ 2.49800181e-16]\n",
      "  [-5.00000000e-01]\n",
      "  [-5.00000000e-01]\n",
      "  [-6.93889390e-17]\n",
      "  [ 5.00000000e-01]\n",
      "  [-1.11022302e-16]]\n",
      " Quantum object: dims=[[8], [1]], shape=(8, 1), type='ket', dtype=Dense\n",
      " Qobj data =\n",
      " [[-0.07298359]\n",
      "  [-0.16399264]\n",
      "  [ 0.66399264]\n",
      "  [-0.16399264]\n",
      "  [-0.16399264]\n",
      "  [ 0.66399264]\n",
      "  [-0.16399264]\n",
      "  [-0.07298359]]\n",
      " Quantum object: dims=[[8], [1]], shape=(8, 1), type='ket', dtype=Dense\n",
      " Qobj data =\n",
      " [[ 0.20449548]\n",
      "  [-0.29550452]\n",
      "  [-0.53248075]\n",
      "  [ 0.29550452]\n",
      "  [-0.29550452]\n",
      "  [ 0.53248075]\n",
      "  [ 0.29550452]\n",
      "  [-0.20449548]]                                                       ]\n"
     ]
    }
   ],
   "source": [
    "Ising_eigenvalues, Ising_eigenstates = IsingH.eigenstates()\n",
    "print(\"Ising eigenvalues \", Ising_eigenvalues)\n",
    "print(\"Ising eigenstates \", Ising_eigenstates)"
   ]
  },
  {
   "cell_type": "code",
   "execution_count": 4,
   "metadata": {},
   "outputs": [
    {
     "data": {
      "text/plain": [
       "(0.7777777777777778+0j)"
      ]
     },
     "execution_count": 4,
     "metadata": {},
     "output_type": "execute_result"
    }
   ],
   "source": [
    "Energy = np.trace((IsingH * rho).full())\n",
    "Energy"
   ]
  },
  {
   "cell_type": "code",
   "execution_count": 16,
   "metadata": {},
   "outputs": [
    {
     "name": "stdout",
     "output_type": "stream",
     "text": [
      "Eigenvalues of rho  [1.35944520e-17 1.35944520e-17 2.80389115e-17 2.80389115e-17\n",
      " 1.66666667e-01 1.66666667e-01 3.33333333e-01 3.33333333e-01]\n"
     ]
    }
   ],
   "source": [
    "eigenvalues = rho.eigenenergies()\n",
    "print(\"Eigenvalues of rho \", eigenvalues)"
   ]
  },
  {
   "cell_type": "code",
   "execution_count": 17,
   "metadata": {
    "vscode": {
     "languageId": "ruby"
    }
   },
   "outputs": [
    {
     "data": {
      "text/latex": [
       "Quantum object: dims=[[8], [8]], shape=(8, 8), type='oper', dtype=Dense, isherm=True$$\\left(\\begin{array}{cc}0.277 & 0.061 & 0.042 & -0.012 & 0.061 & 0.010 & -0.012 & -0.017\\\\0.061 & 0.102 & 0.032 & 0.084 & 0.019 & 0.024 & 0.001 & -0.012\\\\0.042 & 0.032 & 0.019 & 0.024 & 0.032 & 0.015 & 0.024 & 0.010\\\\-0.012 & 0.084 & 0.024 & 0.102 & 0.001 & 0.032 & 0.019 & 0.061\\\\0.061 & 0.019 & 0.032 & 0.001 & 0.102 & 0.024 & 0.084 & -0.012\\\\0.010 & 0.024 & 0.015 & 0.032 & 0.024 & 0.019 & 0.032 & 0.042\\\\-0.012 & 0.001 & 0.024 & 0.019 & 0.084 & 0.032 & 0.102 & 0.061\\\\-0.017 & -0.012 & 0.010 & 0.061 & -0.012 & 0.042 & 0.061 & 0.277\\end{array}\\right)$$"
      ],
      "text/plain": [
       "Quantum object: dims=[[8], [8]], shape=(8, 8), type='oper', dtype=Dense, isherm=True\n",
       "Qobj data =\n",
       "[[ 0.2766636   0.06052692  0.0423786  -0.01206635  0.06052692  0.01007156\n",
       "  -0.01206635 -0.01726055]\n",
       " [ 0.06052692  0.10236942  0.03220946  0.08444036  0.01903608  0.02423028\n",
       "   0.00110703 -0.01206635]\n",
       " [ 0.0423786   0.03220946  0.01859756  0.02423028  0.03220946  0.01504649\n",
       "   0.02423028  0.01007156]\n",
       " [-0.01206635  0.08444036  0.02423028  0.10236942  0.00110703  0.03220946\n",
       "   0.01903608  0.06052692]\n",
       " [ 0.06052692  0.01903608  0.03220946  0.00110703  0.10236942  0.02423028\n",
       "   0.08444036 -0.01206635]\n",
       " [ 0.01007156  0.02423028  0.01504649  0.03220946  0.02423028  0.01859756\n",
       "   0.03220946  0.0423786 ]\n",
       " [-0.01206635  0.00110703  0.02423028  0.01903608  0.08444036  0.03220946\n",
       "   0.10236942  0.06052692]\n",
       " [-0.01726055 -0.01206635  0.01007156  0.06052692 -0.01206635  0.0423786\n",
       "   0.06052692  0.2766636 ]]"
      ]
     },
     "execution_count": 17,
     "metadata": {},
     "output_type": "execute_result"
    }
   ],
   "source": [
    "rho_min = eigenvalues[7]*Ising_eigenstates[0]*Ising_eigenstates[0].dag() + eigenvalues[6]*Ising_eigenstates[1]*Ising_eigenstates[1].dag() + eigenvalues[5]*Ising_eigenstates[2]*Ising_eigenstates[2].dag() + eigenvalues[4]*Ising_eigenstates[3]*Ising_eigenstates[3].dag() + eigenvalues[3]*Ising_eigenstates[4]*Ising_eigenstates[4].dag() + eigenvalues[2]*Ising_eigenstates[5]*Ising_eigenstates[5].dag() + eigenvalues[1]*Ising_eigenstates[6]*Ising_eigenstates[6].dag() + eigenvalues[0]*Ising_eigenstates[7]*Ising_eigenstates[7].dag()\n",
    "rho_min"
   ]
  },
  {
   "cell_type": "code",
   "execution_count": 18,
   "metadata": {},
   "outputs": [
    {
     "data": {
      "text/plain": [
       "(-2.2175976037106615+0j)"
      ]
     },
     "execution_count": 18,
     "metadata": {},
     "output_type": "execute_result"
    }
   ],
   "source": [
    "energy_min = np.trace((IsingH * rho_min).full())\n",
    "energy_min"
   ]
  },
  {
   "cell_type": "code",
   "execution_count": 19,
   "metadata": {},
   "outputs": [],
   "source": [
    "from qutip.measurement import measure, measurement_statistics"
   ]
  },
  {
   "cell_type": "code",
   "execution_count": null,
   "metadata": {},
   "outputs": [],
   "source": []
  }
 ],
 "metadata": {
  "kernelspec": {
   "display_name": "Python 3",
   "language": "python",
   "name": "python3"
  },
  "language_info": {
   "codemirror_mode": {
    "name": "ipython",
    "version": 3
   },
   "file_extension": ".py",
   "mimetype": "text/x-python",
   "name": "python",
   "nbconvert_exporter": "python",
   "pygments_lexer": "ipython3",
   "version": "3.10.8"
  }
 },
 "nbformat": 4,
 "nbformat_minor": 2
}
