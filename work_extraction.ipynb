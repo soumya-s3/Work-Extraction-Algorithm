{
 "cells": [
  {
   "cell_type": "code",
   "execution_count": 1,
   "metadata": {},
   "outputs": [],
   "source": [
    "import numpy as np\n",
    "from qutip import *\n",
    "import matplotlib.pyplot as plt"
   ]
  },
  {
   "cell_type": "code",
   "execution_count": 2,
   "metadata": {},
   "outputs": [
    {
     "data": {
      "text/latex": [
       "Quantum object: dims=[[8], [8]], shape=(8, 8), type='oper', dtype=Dense, isherm=True$$\\left(\\begin{array}{cc}0.111 & 0.111 & 0.111 & 0 & 0 & 0 & 0 & 0\\\\0.111 & 0.111 & 0.111 & 0 & 0 & 0 & 0 & 0\\\\0.111 & 0.111 & 0.111 & 0 & 0 & 0 & 0 & 0\\\\0 & 0 & 0 & 0.111 & -0.111 & -0.111 & 0 & 0\\\\0 & 0 & 0 & -0.111 & 0.111 & 0.111 & 0 & 0\\\\0 & 0 & 0 & -0.111 & 0.111 & 0.111 & 0 & 0\\\\0 & 0 & 0 & 0 & 0 & 0 & 0.167 & 0\\\\0 & 0 & 0 & 0 & 0 & 0 & 0 & 0.167\\end{array}\\right)$$"
      ],
      "text/plain": [
       "Quantum object: dims=[[8], [8]], shape=(8, 8), type='oper', dtype=Dense, isherm=True\n",
       "Qobj data =\n",
       "[[ 0.11111111  0.11111111  0.11111111  0.          0.          0.\n",
       "   0.          0.        ]\n",
       " [ 0.11111111  0.11111111  0.11111111  0.          0.          0.\n",
       "   0.          0.        ]\n",
       " [ 0.11111111  0.11111111  0.11111111  0.          0.          0.\n",
       "   0.          0.        ]\n",
       " [ 0.          0.          0.          0.11111111 -0.11111111 -0.11111111\n",
       "   0.          0.        ]\n",
       " [ 0.          0.          0.         -0.11111111  0.11111111  0.11111111\n",
       "   0.          0.        ]\n",
       " [ 0.          0.          0.         -0.11111111  0.11111111  0.11111111\n",
       "   0.          0.        ]\n",
       " [ 0.          0.          0.          0.          0.          0.\n",
       "   0.16666667  0.        ]\n",
       " [ 0.          0.          0.          0.          0.          0.\n",
       "   0.          0.16666667]]"
      ]
     },
     "execution_count": 2,
     "metadata": {},
     "output_type": "execute_result"
    }
   ],
   "source": [
    "# generating density matrix rho = (1/3) (rho_1 +  rho_2 +  rho_3)\n",
    "rho_1 = (1/3)*np.array([[1, 1, 1, 0, 0, 0, 0, 0],\n",
    "                  [1, 1, 1, 0, 0, 0, 0, 0],\n",
    "                  [1, 1, 1, 0, 0, 0, 0, 0],\n",
    "                  [0, 0, 0, 0, 0, 0, 0, 0],\n",
    "                  [0, 0, 0, 0, 0, 0, 0, 0],\n",
    "                  [0, 0, 0, 0, 0, 0, 0, 0],\n",
    "                  [0, 0, 0, 0, 0, 0, 0, 0],\n",
    "                  [0, 0, 0, 0, 0, 0, 0, 0]])\n",
    "rho_2 = (1/3)*np.array([[0, 0, 0, 0, 0, 0, 0, 0],\n",
    "                  [0, 0, 0, 0, 0, 0, 0, 0],\n",
    "                  [0, 0, 0, 0, 0, 0, 0, 0],\n",
    "                  [0, 0, 0, 1, -1, -1, 0, 0],\n",
    "                  [0, 0, 0, -1, 1, 1, 0, 0],\n",
    "                  [0, 0, 0, -1, 1, 1, 0, 0],\n",
    "                  [0, 0, 0, 0, 0, 0, 0, 0],\n",
    "                  [0, 0, 0, 0, 0, 0, 0, 0]]) \n",
    "rho_3 = (1/2)*np.array([[0, 0, 0, 0, 0, 0, 0, 0],\n",
    "                  [0, 0, 0, 0, 0, 0, 0, 0],\n",
    "                  [0, 0, 0, 0, 0, 0, 0, 0],\n",
    "                  [0, 0, 0, 0, 0, 0, 0, 0],\n",
    "                  [0, 0, 0, 0, 0, 0, 0, 0],\n",
    "                  [0, 0, 0, 0, 0, 0, 0, 0],\n",
    "                  [0, 0, 0, 0, 0, 0, 1, 0],\n",
    "                  [0, 0, 0, 0, 0, 0, 0, 1]]) \n",
    "rho = (1/3)*(rho_1 + rho_2 + rho_3)\n",
    "# convert rho into a qutip object\n",
    "rho = Qobj(rho)\n",
    "rho"
   ]
  },
  {
   "cell_type": "markdown",
   "metadata": {},
   "source": [
    "# Hamiltonian\n",
    "$H^{(8)} = h \\otimes \\mathbb I \\otimes \\mathbb I  + \\mathbb I \\otimes h \\otimes \\mathbb I + \\mathbb I \\otimes\\mathbb I \\otimes h$,\n",
    "\n",
    "where $h = \\frac{1}{2} (\\mathbb I - Z)$"
   ]
  },
  {
   "cell_type": "code",
   "execution_count": 3,
   "metadata": {},
   "outputs": [
    {
     "data": {
      "text/latex": [
       "Quantum object: dims=[[8], [8]], shape=(8, 8), type='oper', dtype=Dense, isherm=True$$\\left(\\begin{array}{cc}0 & 0 & 0 & 0 & 0 & 0 & 0 & 0\\\\0 & 1 & 0 & 0 & 0 & 0 & 0 & 0\\\\0 & 0 & 1 & 0 & 0 & 0 & 0 & 0\\\\0 & 0 & 0 & 2 & 0 & 0 & 0 & 0\\\\0 & 0 & 0 & 0 & 1 & 0 & 0 & 0\\\\0 & 0 & 0 & 0 & 0 & 2 & 0 & 0\\\\0 & 0 & 0 & 0 & 0 & 0 & 2 & 0\\\\0 & 0 & 0 & 0 & 0 & 0 & 0 & 3\\end{array}\\right)$$"
      ],
      "text/plain": [
       "Quantum object: dims=[[8], [8]], shape=(8, 8), type='oper', dtype=Dense, isherm=True\n",
       "Qobj data =\n",
       "[[0. 0. 0. 0. 0. 0. 0. 0.]\n",
       " [0. 1. 0. 0. 0. 0. 0. 0.]\n",
       " [0. 0. 1. 0. 0. 0. 0. 0.]\n",
       " [0. 0. 0. 2. 0. 0. 0. 0.]\n",
       " [0. 0. 0. 0. 1. 0. 0. 0.]\n",
       " [0. 0. 0. 0. 0. 2. 0. 0.]\n",
       " [0. 0. 0. 0. 0. 0. 2. 0.]\n",
       " [0. 0. 0. 0. 0. 0. 0. 3.]]"
      ]
     },
     "execution_count": 3,
     "metadata": {},
     "output_type": "execute_result"
    }
   ],
   "source": [
    "h = np.array([[0, 0],\n",
    "              [0, 1]])\n",
    "I = np.array([[1, 0],\n",
    "              [0, 1]])\n",
    "H = np.kron(np.kron(h, I), I) + np.kron(np.kron(I, h), I) + np.kron(np.kron(I, I), h)\n",
    "H = Qobj(H)\n",
    "H"
   ]
  },
  {
   "cell_type": "code",
   "execution_count": 4,
   "metadata": {},
   "outputs": [
    {
     "name": "stdout",
     "output_type": "stream",
     "text": [
      "Energy eigenvalues  [0. 1. 1. 1. 2. 2. 2. 3.]\n",
      "Energy eigenstates  [Quantum object: dims=[[8], [1]], shape=(8, 1), type='ket', dtype=Dense\n",
      " Qobj data =\n",
      " [[1.]\n",
      "  [0.]\n",
      "  [0.]\n",
      "  [0.]\n",
      "  [0.]\n",
      "  [0.]\n",
      "  [0.]\n",
      "  [0.]]\n",
      " Quantum object: dims=[[8], [1]], shape=(8, 1), type='ket', dtype=Dense\n",
      " Qobj data =\n",
      " [[0.]\n",
      "  [1.]\n",
      "  [0.]\n",
      "  [0.]\n",
      "  [0.]\n",
      "  [0.]\n",
      "  [0.]\n",
      "  [0.]]\n",
      " Quantum object: dims=[[8], [1]], shape=(8, 1), type='ket', dtype=Dense\n",
      " Qobj data =\n",
      " [[0.]\n",
      "  [0.]\n",
      "  [1.]\n",
      "  [0.]\n",
      "  [0.]\n",
      "  [0.]\n",
      "  [0.]\n",
      "  [0.]]\n",
      " Quantum object: dims=[[8], [1]], shape=(8, 1), type='ket', dtype=Dense\n",
      " Qobj data =\n",
      " [[0.]\n",
      "  [0.]\n",
      "  [0.]\n",
      "  [0.]\n",
      "  [1.]\n",
      "  [0.]\n",
      "  [0.]\n",
      "  [0.]]\n",
      " Quantum object: dims=[[8], [1]], shape=(8, 1), type='ket', dtype=Dense\n",
      " Qobj data =\n",
      " [[0.]\n",
      "  [0.]\n",
      "  [0.]\n",
      "  [1.]\n",
      "  [0.]\n",
      "  [0.]\n",
      "  [0.]\n",
      "  [0.]]\n",
      " Quantum object: dims=[[8], [1]], shape=(8, 1), type='ket', dtype=Dense\n",
      " Qobj data =\n",
      " [[0.]\n",
      "  [0.]\n",
      "  [0.]\n",
      "  [0.]\n",
      "  [0.]\n",
      "  [1.]\n",
      "  [0.]\n",
      "  [0.]]\n",
      " Quantum object: dims=[[8], [1]], shape=(8, 1), type='ket', dtype=Dense\n",
      " Qobj data =\n",
      " [[0.]\n",
      "  [0.]\n",
      "  [0.]\n",
      "  [0.]\n",
      "  [0.]\n",
      "  [0.]\n",
      "  [1.]\n",
      "  [0.]]\n",
      " Quantum object: dims=[[8], [1]], shape=(8, 1), type='ket', dtype=Dense\n",
      " Qobj data =\n",
      " [[0.]\n",
      "  [0.]\n",
      "  [0.]\n",
      "  [0.]\n",
      "  [0.]\n",
      "  [0.]\n",
      "  [0.]\n",
      "  [1.]]                                                                ]\n"
     ]
    }
   ],
   "source": [
    "H_eigenvalues, H_eigenstates = H.eigenstates()\n",
    "print(\"Energy eigenvalues \", H_eigenvalues)\n",
    "print(\"Energy eigenstates \", H_eigenstates)"
   ]
  },
  {
   "cell_type": "code",
   "execution_count": 5,
   "metadata": {},
   "outputs": [
    {
     "data": {
      "text/plain": [
       "(1.611111111111111+0j)"
      ]
     },
     "execution_count": 5,
     "metadata": {},
     "output_type": "execute_result"
    }
   ],
   "source": [
    "Energy = np.trace((H * rho).full())\n",
    "Energy "
   ]
  },
  {
   "cell_type": "code",
   "execution_count": 7,
   "metadata": {},
   "outputs": [
    {
     "data": {
      "text/plain": [
       "(0.6666666666666666+0j)"
      ]
     },
     "execution_count": 7,
     "metadata": {},
     "output_type": "execute_result"
    }
   ],
   "source": [
    "rho_min = (1/6)*np.array([[2, 0, 0, 0, 0, 0, 0, 0],\n",
    "                    [0, 2, 0, 0, 0, 0, 0, 0],\n",
    "                    [0, 0, 1, 0, 0, 0, 0, 0],\n",
    "                    [0, 0, 0, 0, 0, 0, 0, 0],\n",
    "                    [0, 0, 0, 0, 1, 0, 0, 0],\n",
    "                    [0, 0, 0, 0, 0, 0, 0, 0],\n",
    "                    [0, 0, 0, 0, 0, 0, 0, 0],\n",
    "                    [0, 0, 0, 0, 0, 0, 0, 0]])\n",
    "Energy_min = np.trace((H * Qobj(rho_min)).full())\n",
    "Energy_min"
   ]
  },
  {
   "cell_type": "code",
   "execution_count": 8,
   "metadata": {},
   "outputs": [
    {
     "name": "stdout",
     "output_type": "stream",
     "text": [
      "Ergotropy of rho =  (0.9444444444444443+0j)\n"
     ]
    }
   ],
   "source": [
    "print(\"Ergotropy of rho = \", Energy - Energy_min)"
   ]
  },
  {
   "cell_type": "code",
   "execution_count": 9,
   "metadata": {},
   "outputs": [],
   "source": [
    "from qutip.measurement import measure, measurement_statistics"
   ]
  },
  {
   "cell_type": "code",
   "execution_count": 10,
   "metadata": {},
   "outputs": [
    {
     "data": {
      "text/latex": [
       "Quantum object: dims=[[2, 2, 2], [2, 2, 2]], shape=(8, 8), type='oper', dtype=Dense, isherm=True$$\\left(\\begin{array}{cc}0.500 & 0 & 0 & 0 & 0 & 0 & 0.500 & 0\\\\0 & 0.500 & 0 & 0 & 0 & 0 & 0 & 0.500\\\\0 & 0 & 0 & 0 & 0 & 0 & 0 & 0\\\\0 & 0 & 0 & 0 & 0 & 0 & 0 & 0\\\\0 & 0 & 0 & 0 & 0 & 0 & 0 & 0\\\\0 & 0 & 0 & 0 & 0 & 0 & 0 & 0\\\\0.500 & 0 & 0 & 0 & 0 & 0 & 0.500 & 0\\\\0 & 0.500 & 0 & 0 & 0 & 0 & 0 & 0.500\\end{array}\\right)$$"
      ],
      "text/plain": [
       "Quantum object: dims=[[2, 2, 2], [2, 2, 2]], shape=(8, 8), type='oper', dtype=Dense, isherm=True\n",
       "Qobj data =\n",
       "[[0.5 0.  0.  0.  0.  0.  0.5 0. ]\n",
       " [0.  0.5 0.  0.  0.  0.  0.  0.5]\n",
       " [0.  0.  0.  0.  0.  0.  0.  0. ]\n",
       " [0.  0.  0.  0.  0.  0.  0.  0. ]\n",
       " [0.  0.  0.  0.  0.  0.  0.  0. ]\n",
       " [0.  0.  0.  0.  0.  0.  0.  0. ]\n",
       " [0.5 0.  0.  0.  0.  0.  0.5 0. ]\n",
       " [0.  0.5 0.  0.  0.  0.  0.  0.5]]"
      ]
     },
     "execution_count": 10,
     "metadata": {},
     "output_type": "execute_result"
    }
   ],
   "source": [
    "# Entangling Measurement \n",
    "P1 = tensor(ket2dm(bell_state(state='00')), qeye(2))\n",
    "P2 = tensor(ket2dm(bell_state(state='01')), qeye(2))\n",
    "P3 = tensor(ket2dm(bell_state(state='10')), qeye(2))\n",
    "P4 = tensor(ket2dm(bell_state(state='11')), qeye(2))\n",
    "Projectors = [Qobj(P1.full()), Qobj(P2.full()), Qobj(P3.full()), Qobj(P4.full())]\n",
    "P1"
   ]
  },
  {
   "cell_type": "code",
   "execution_count": 11,
   "metadata": {},
   "outputs": [
    {
     "data": {
      "text/plain": [
       "(Quantum object: dims=[[8], [8]], shape=(8, 8), type='oper', dtype=Dense, isherm=True\n",
       " Qobj data =\n",
       " [[ 0.25  0.1   0.    0.    0.    0.   -0.25 -0.1 ]\n",
       "  [ 0.1   0.25  0.    0.    0.    0.   -0.1  -0.25]\n",
       "  [ 0.    0.    0.    0.    0.    0.    0.    0.  ]\n",
       "  [ 0.    0.    0.    0.    0.    0.    0.    0.  ]\n",
       "  [ 0.    0.    0.    0.    0.    0.    0.    0.  ]\n",
       "  [ 0.    0.    0.    0.    0.    0.    0.    0.  ]\n",
       "  [-0.25 -0.1   0.    0.    0.    0.    0.25  0.1 ]\n",
       "  [-0.1  -0.25  0.    0.    0.    0.    0.1   0.25]],\n",
       " [0.2777777777777779,\n",
       "  0.2777777777777779,\n",
       "  0.11111111111111116,\n",
       "  0.3333333333333335])"
      ]
     },
     "execution_count": 11,
     "metadata": {},
     "output_type": "execute_result"
    }
   ],
   "source": [
    "collapsed_states, probabilities = measurement_statistics(rho, Projectors)\n",
    "collapsed_states[1], probabilities"
   ]
  },
  {
   "cell_type": "code",
   "execution_count": 12,
   "metadata": {},
   "outputs": [
    {
     "data": {
      "text/plain": [
       "array([[ 0.13888889+0.j,  0.05555556+0.j,  0.        +0.j,\n",
       "         0.        +0.j,  0.        +0.j,  0.        +0.j,\n",
       "         0.        +0.j,  0.        +0.j],\n",
       "       [ 0.05555556+0.j,  0.13888889+0.j,  0.        +0.j,\n",
       "         0.        +0.j,  0.        +0.j,  0.        +0.j,\n",
       "         0.        +0.j,  0.        +0.j],\n",
       "       [ 0.        +0.j,  0.        +0.j,  0.11111111+0.j,\n",
       "         0.05555556+0.j,  0.        +0.j, -0.05555556+0.j,\n",
       "         0.        +0.j,  0.        +0.j],\n",
       "       [ 0.        +0.j,  0.        +0.j,  0.05555556+0.j,\n",
       "         0.11111111+0.j, -0.05555556+0.j, -0.11111111+0.j,\n",
       "         0.        +0.j,  0.        +0.j],\n",
       "       [ 0.        +0.j,  0.        +0.j,  0.        +0.j,\n",
       "        -0.05555556+0.j,  0.11111111+0.j,  0.05555556+0.j,\n",
       "         0.        +0.j,  0.        +0.j],\n",
       "       [ 0.        +0.j,  0.        +0.j, -0.05555556+0.j,\n",
       "        -0.11111111+0.j,  0.05555556+0.j,  0.11111111+0.j,\n",
       "         0.        +0.j,  0.        +0.j],\n",
       "       [ 0.        +0.j,  0.        +0.j,  0.        +0.j,\n",
       "         0.        +0.j,  0.        +0.j,  0.        +0.j,\n",
       "         0.13888889+0.j,  0.05555556+0.j],\n",
       "       [ 0.        +0.j,  0.        +0.j,  0.        +0.j,\n",
       "         0.        +0.j,  0.        +0.j,  0.        +0.j,\n",
       "         0.05555556+0.j,  0.13888889+0.j]])"
      ]
     },
     "execution_count": 12,
     "metadata": {},
     "output_type": "execute_result"
    }
   ],
   "source": [
    "P_1 = np.array(P1.full())\n",
    "P_2 = np.array(P2.full())\n",
    "P_3 = np.array(P3.full())\n",
    "P_4 = np.array(P4.full())\n",
    "rho1 = np.matmul(np.matmul(P_1,np.array(rho.full())),P_1)/np.trace(np.matmul(P_1,np.array(rho.full())))\n",
    "rho2 = np.matmul(np.matmul(P_2,np.array(rho.full())),P_2)/np.trace(np.matmul(P_2,np.array(rho.full())))\n",
    "rho3 = np.matmul(np.matmul(P_3,np.array(rho.full())),P_3)/np.trace(np.matmul(P_3,np.array(rho.full())))\n",
    "rho4 = np.matmul(np.matmul(P_4,np.array(rho.full())),P_4)/np.trace(np.matmul(P_4,np.array(rho.full())))\n",
    "\n",
    "finalstate = np.trace(np.matmul(P_2,np.array(rho.full()))) * rho2 + np.trace(np.matmul(P_1,np.array(rho.full())))*rho1 + np.trace(np.matmul(P_3,np.array(rho.full())))*rho3 + np.trace(np.matmul(P_4,np.array(rho.full())))*rho4\n",
    "finalstate"
   ]
  },
  {
   "cell_type": "code",
   "execution_count": 10,
   "metadata": {},
   "outputs": [
    {
     "data": {
      "text/plain": [
       "array([1.94444444e-01+0.j, 8.33333333e-02+0.j, 2.90892665e-01+0.j,\n",
       "       1.11111111e-01+0.j, 4.24406679e-02+0.j, 1.54074396e-33+0.j,\n",
       "       1.94444444e-01+0.j, 8.33333333e-02+0.j])"
      ]
     },
     "execution_count": 10,
     "metadata": {},
     "output_type": "execute_result"
    }
   ],
   "source": [
    "np.linalg.eig(finalstate)[0]"
   ]
  },
  {
   "cell_type": "code",
   "execution_count": 13,
   "metadata": {},
   "outputs": [
    {
     "data": {
      "text/latex": [
       "Quantum object: dims=[[8], [8]], shape=(8, 8), type='oper', dtype=Dense, isherm=True$$\\left(\\begin{array}{cc}0.139 & 0.056 & 0 & 0 & 0 & 0 & 0 & 0\\\\0.056 & 0.139 & 0 & 0 & 0 & 0 & 0 & 0\\\\0 & 0 & 0.111 & 0.056 & 0 & -0.056 & 0 & 0\\\\0 & 0 & 0.056 & 0.111 & -0.056 & -0.111 & 0 & 0\\\\0 & 0 & 0 & -0.056 & 0.111 & 0.056 & 0 & 0\\\\0 & 0 & -0.056 & -0.111 & 0.056 & 0.111 & 0 & 0\\\\0 & 0 & 0 & 0 & 0 & 0 & 0.139 & 0.056\\\\0 & 0 & 0 & 0 & 0 & 0 & 0.056 & 0.139\\end{array}\\right)$$"
      ],
      "text/plain": [
       "Quantum object: dims=[[8], [8]], shape=(8, 8), type='oper', dtype=Dense, isherm=True\n",
       "Qobj data =\n",
       "[[ 0.13888889  0.05555556  0.          0.          0.          0.\n",
       "   0.          0.        ]\n",
       " [ 0.05555556  0.13888889  0.          0.          0.          0.\n",
       "   0.          0.        ]\n",
       " [ 0.          0.          0.11111111  0.05555556  0.         -0.05555556\n",
       "   0.          0.        ]\n",
       " [ 0.          0.          0.05555556  0.11111111 -0.05555556 -0.11111111\n",
       "   0.          0.        ]\n",
       " [ 0.          0.          0.         -0.05555556  0.11111111  0.05555556\n",
       "   0.          0.        ]\n",
       " [ 0.          0.         -0.05555556 -0.11111111  0.05555556  0.11111111\n",
       "   0.          0.        ]\n",
       " [ 0.          0.          0.          0.          0.          0.\n",
       "   0.13888889  0.05555556]\n",
       " [ 0.          0.          0.          0.          0.          0.\n",
       "   0.05555556  0.13888889]]"
      ]
     },
     "execution_count": 13,
     "metadata": {},
     "output_type": "execute_result"
    }
   ],
   "source": [
    "rho_average = np.average(collapsed_states, weights=probabilities)\n",
    "rho_average"
   ]
  },
  {
   "cell_type": "code",
   "execution_count": 14,
   "metadata": {},
   "outputs": [
    {
     "data": {
      "text/plain": [
       "(1.5+0j)"
      ]
     },
     "execution_count": 14,
     "metadata": {},
     "output_type": "execute_result"
    }
   ],
   "source": [
    "Energy_average = np.trace(np.matmul(H.full(), rho_average.full()))\n",
    "Energy_average "
   ]
  },
  {
   "cell_type": "code",
   "execution_count": 15,
   "metadata": {},
   "outputs": [
    {
     "data": {
      "text/plain": [
       "array([1.38777878e-17, 4.24406679e-02, 8.33333333e-02, 8.33333333e-02,\n",
       "       1.11111111e-01, 1.94444444e-01, 1.94444444e-01, 2.90892665e-01])"
      ]
     },
     "execution_count": 15,
     "metadata": {},
     "output_type": "execute_result"
    }
   ],
   "source": [
    "eigenvalues = rho_average.eigenenergies()\n",
    "eigenvalues"
   ]
  },
  {
   "cell_type": "code",
   "execution_count": 16,
   "metadata": {
    "vscode": {
     "languageId": "ruby"
    }
   },
   "outputs": [
    {
     "data": {
      "text/plain": [
       "array([[2.90892665e-01, 0.00000000e+00, 0.00000000e+00, 0.00000000e+00,\n",
       "        0.00000000e+00, 0.00000000e+00, 0.00000000e+00, 0.00000000e+00],\n",
       "       [0.00000000e+00, 1.94444444e-01, 0.00000000e+00, 0.00000000e+00,\n",
       "        0.00000000e+00, 0.00000000e+00, 0.00000000e+00, 0.00000000e+00],\n",
       "       [0.00000000e+00, 0.00000000e+00, 1.94444444e-01, 0.00000000e+00,\n",
       "        0.00000000e+00, 0.00000000e+00, 0.00000000e+00, 0.00000000e+00],\n",
       "       [0.00000000e+00, 0.00000000e+00, 0.00000000e+00, 8.33333333e-02,\n",
       "        0.00000000e+00, 0.00000000e+00, 0.00000000e+00, 0.00000000e+00],\n",
       "       [0.00000000e+00, 0.00000000e+00, 0.00000000e+00, 0.00000000e+00,\n",
       "        1.11111111e-01, 0.00000000e+00, 0.00000000e+00, 0.00000000e+00],\n",
       "       [0.00000000e+00, 0.00000000e+00, 0.00000000e+00, 0.00000000e+00,\n",
       "        0.00000000e+00, 8.33333333e-02, 0.00000000e+00, 0.00000000e+00],\n",
       "       [0.00000000e+00, 0.00000000e+00, 0.00000000e+00, 0.00000000e+00,\n",
       "        0.00000000e+00, 0.00000000e+00, 4.24406679e-02, 0.00000000e+00],\n",
       "       [0.00000000e+00, 0.00000000e+00, 0.00000000e+00, 0.00000000e+00,\n",
       "        0.00000000e+00, 0.00000000e+00, 0.00000000e+00, 1.38777878e-17]])"
      ]
     },
     "execution_count": 16,
     "metadata": {},
     "output_type": "execute_result"
    }
   ],
   "source": [
    "rho_average_min = np.diag([eigenvalues[7], eigenvalues[6], eigenvalues[5], eigenvalues[3], eigenvalues[4], eigenvalues[2], eigenvalues[1], eigenvalues[0]])\n",
    "rho_average_min"
   ]
  },
  {
   "cell_type": "code",
   "execution_count": 17,
   "metadata": {},
   "outputs": [
    {
     "data": {
      "text/plain": [
       "(0.9182146691666901+0j)"
      ]
     },
     "execution_count": 17,
     "metadata": {},
     "output_type": "execute_result"
    }
   ],
   "source": [
    "Energy_average_min = np.trace((H * Qobj(rho_average_min)).full())\n",
    "Energy_average_min"
   ]
  },
  {
   "cell_type": "code",
   "execution_count": 18,
   "metadata": {},
   "outputs": [
    {
     "name": "stdout",
     "output_type": "stream",
     "text": [
      "Ergotropy of average state after measurement =  (0.5817853308333099+0j)\n"
     ]
    }
   ],
   "source": [
    "print(\"Ergotropy of average state after measurement = \", Energy_average - Energy_average_min)"
   ]
  },
  {
   "cell_type": "markdown",
   "metadata": {},
   "source": [
    "Convert entangling basis to nonentangling basis before applying Haar random Unitaries. <br> \n",
    "U_basis = $ \\left(|00>\\frac{1}{\\sqrt(2)}(<00|+<11|)|+ |01>\\frac{1}{\\sqrt(2)}(<00|-<11|)|+|10>\\frac{1}{\\sqrt(2)}(<01|+<10|)|+|11> \\frac{1}{\\sqrt(2)}(<01|-<10|)|\\right) \\otimes I_2$"
   ]
  },
  {
   "cell_type": "code",
   "execution_count": 19,
   "metadata": {},
   "outputs": [
    {
     "data": {
      "text/plain": [
       "array([[ 0.14+0.j,  0.06+0.j,  0.  +0.j,  0.  +0.j,  0.  +0.j,  0.  +0.j,\n",
       "         0.  +0.j,  0.  +0.j],\n",
       "       [ 0.06+0.j,  0.14+0.j,  0.  +0.j,  0.  +0.j,  0.  +0.j,  0.  +0.j,\n",
       "         0.  +0.j,  0.  +0.j],\n",
       "       [ 0.  +0.j,  0.  +0.j,  0.14+0.j,  0.06+0.j,  0.  +0.j,  0.  +0.j,\n",
       "         0.  +0.j,  0.  +0.j],\n",
       "       [ 0.  +0.j,  0.  +0.j,  0.06+0.j,  0.14+0.j,  0.  +0.j,  0.  +0.j,\n",
       "         0.  +0.j,  0.  +0.j],\n",
       "       [ 0.  +0.j,  0.  +0.j,  0.  +0.j,  0.  +0.j,  0.11+0.j,  0.  +0.j,\n",
       "        -0.  +0.j,  0.  +0.j],\n",
       "       [ 0.  +0.j,  0.  +0.j,  0.  +0.j,  0.  +0.j,  0.  +0.j,  0.  +0.j,\n",
       "         0.  +0.j,  0.  +0.j],\n",
       "       [ 0.  +0.j,  0.  +0.j,  0.  +0.j,  0.  +0.j, -0.  +0.j, -0.  +0.j,\n",
       "         0.11+0.j,  0.11+0.j],\n",
       "       [ 0.  +0.j,  0.  +0.j,  0.  +0.j,  0.  +0.j, -0.  +0.j, -0.  +0.j,\n",
       "         0.11+0.j,  0.22+0.j]])"
      ]
     },
     "execution_count": 19,
     "metadata": {},
     "output_type": "execute_result"
    }
   ],
   "source": [
    "rho_avg = np.array(rho_average.full())\n",
    "U_basis = (1/np.sqrt(2))*np.kron(np.array([[1, 0, 0, 1],[1, 0, 0, -1],[0, 1, 1, 0],[0, 1, -1, 0]]), np.eye(2))\n",
    "rho_diag = np.matmul(np.matmul(U_basis,rho_avg), (np.conjugate(U_basis).T))\n",
    "rho_diag = np.round(rho_diag,2)\n",
    "rho_diag"
   ]
  },
  {
   "cell_type": "code",
   "execution_count": 21,
   "metadata": {},
   "outputs": [],
   "source": [
    "Pdiag_1 = np.kron(np.outer(np.array([1, 0, 0, 0]),np.array([1, 0, 0, 0])), np.eye(2))\n",
    "Pdiag_2 = np.kron(np.outer(np.array([0, 1, 0, 0]),np.array([0, 1, 0, 0])), np.eye(2))\n",
    "Pdiag_3 = np.kron(np.outer(np.array([0, 0, 1, 0]),np.array([0, 0, 1, 0])), np.eye(2))\n",
    "Pdiag_4 = np.kron(np.outer(np.array([0, 0, 0, 1]),np.array([0, 0, 0, 1])), np.eye(2))\n",
    "#Pdiag = [Pdiag_1, Pdiag_2, Pdiag_3, Pdiag_4]\n",
    "p1, p2, p3, p4 = np.trace(np.matmul(Pdiag_1, rho_diag)), np.trace(np.matmul(Pdiag_2, rho_diag)), np.trace(np.matmul(Pdiag_3, rho_diag)), np.trace(np.matmul(Pdiag_4, rho_diag))"
   ]
  },
  {
   "cell_type": "code",
   "execution_count": 23,
   "metadata": {},
   "outputs": [
    {
     "data": {
      "text/plain": [
       "array([[0.14 +0.j, 0.   +0.j, 0.   +0.j, 0.   +0.j, 0.   +0.j, 0.   +0.j,\n",
       "        0.   +0.j, 0.   +0.j],\n",
       "       [0.   +0.j, 0.14 +0.j, 0.   +0.j, 0.   +0.j, 0.   +0.j, 0.   +0.j,\n",
       "        0.   +0.j, 0.   +0.j],\n",
       "       [0.   +0.j, 0.   +0.j, 0.14 +0.j, 0.   +0.j, 0.   +0.j, 0.   +0.j,\n",
       "        0.   +0.j, 0.   +0.j],\n",
       "       [0.   +0.j, 0.   +0.j, 0.   +0.j, 0.14 +0.j, 0.   +0.j, 0.   +0.j,\n",
       "        0.   +0.j, 0.   +0.j],\n",
       "       [0.   +0.j, 0.   +0.j, 0.   +0.j, 0.   +0.j, 0.055+0.j, 0.   +0.j,\n",
       "        0.   +0.j, 0.   +0.j],\n",
       "       [0.   +0.j, 0.   +0.j, 0.   +0.j, 0.   +0.j, 0.   +0.j, 0.055+0.j,\n",
       "        0.   +0.j, 0.   +0.j],\n",
       "       [0.   +0.j, 0.   +0.j, 0.   +0.j, 0.   +0.j, 0.   +0.j, 0.   +0.j,\n",
       "        0.165+0.j, 0.   +0.j],\n",
       "       [0.   +0.j, 0.   +0.j, 0.   +0.j, 0.   +0.j, 0.   +0.j, 0.   +0.j,\n",
       "        0.   +0.j, 0.165+0.j]])"
      ]
     },
     "execution_count": 23,
     "metadata": {},
     "output_type": "execute_result"
    }
   ],
   "source": [
    "# After applying Haar random unitaries\n",
    "rho_diag_haar = (1/2)*(p1*Pdiag_1 + p2*Pdiag_2 + p3*Pdiag_3 + p4*Pdiag_4)\n",
    "rho_diag_haar"
   ]
  },
  {
   "cell_type": "code",
   "execution_count": 24,
   "metadata": {},
   "outputs": [
    {
     "data": {
      "text/plain": [
       "array([[ 0.14 +0.j,  0.   +0.j,  0.   +0.j,  0.   +0.j,  0.   +0.j,\n",
       "         0.   +0.j,  0.   +0.j,  0.   +0.j],\n",
       "       [ 0.   +0.j,  0.14 +0.j,  0.   +0.j,  0.   +0.j,  0.   +0.j,\n",
       "         0.   +0.j,  0.   +0.j,  0.   +0.j],\n",
       "       [ 0.   +0.j,  0.   +0.j,  0.11 +0.j,  0.   +0.j, -0.055+0.j,\n",
       "         0.   +0.j,  0.   +0.j,  0.   +0.j],\n",
       "       [ 0.   +0.j,  0.   +0.j,  0.   +0.j,  0.11 +0.j,  0.   +0.j,\n",
       "        -0.055+0.j,  0.   +0.j,  0.   +0.j],\n",
       "       [ 0.   +0.j,  0.   +0.j, -0.055+0.j,  0.   +0.j,  0.11 +0.j,\n",
       "         0.   +0.j,  0.   +0.j,  0.   +0.j],\n",
       "       [ 0.   +0.j,  0.   +0.j,  0.   +0.j, -0.055+0.j,  0.   +0.j,\n",
       "         0.11 +0.j,  0.   +0.j,  0.   +0.j],\n",
       "       [ 0.   +0.j,  0.   +0.j,  0.   +0.j,  0.   +0.j,  0.   +0.j,\n",
       "         0.   +0.j,  0.14 +0.j,  0.   +0.j],\n",
       "       [ 0.   +0.j,  0.   +0.j,  0.   +0.j,  0.   +0.j,  0.   +0.j,\n",
       "         0.   +0.j,  0.   +0.j,  0.14 +0.j]])"
      ]
     },
     "execution_count": 24,
     "metadata": {},
     "output_type": "execute_result"
    }
   ],
   "source": [
    "# Applying inverse transformation to get back into the entangled basis\n",
    "rho_haar = np.round(np.matmul(np.matmul(U_basis.T,rho_diag_haar), U_basis), 3)\n",
    "rho_haar"
   ]
  },
  {
   "cell_type": "code",
   "execution_count": 25,
   "metadata": {},
   "outputs": [
    {
     "data": {
      "text/plain": [
       "(1.5+0j)"
      ]
     },
     "execution_count": 25,
     "metadata": {},
     "output_type": "execute_result"
    }
   ],
   "source": [
    "#np.trace(np.matmul(H, rho_haar))\n",
    "np.trace(np.matmul(H.full(), rho_haar))"
   ]
  },
  {
   "cell_type": "code",
   "execution_count": 26,
   "metadata": {},
   "outputs": [
    {
     "data": {
      "text/plain": [
       "(array([0.165+0.j, 0.055+0.j, 0.165+0.j, 0.055+0.j, 0.14 +0.j, 0.14 +0.j,\n",
       "        0.14 +0.j, 0.14 +0.j]),\n",
       " array([[-0.        -0.j,  0.        +0.j, -0.        -0.j,\n",
       "          0.        +0.j,  1.        +0.j,  0.        +0.j,\n",
       "          0.        +0.j,  0.        +0.j],\n",
       "        [-0.        -0.j,  0.        +0.j, -0.        -0.j,\n",
       "          0.        +0.j,  0.        +0.j,  1.        +0.j,\n",
       "          0.        +0.j,  0.        +0.j],\n",
       "        [-0.70710678-0.j,  0.70710678+0.j, -0.        -0.j,\n",
       "          0.        +0.j,  0.        +0.j,  0.        +0.j,\n",
       "          0.        +0.j,  0.        +0.j],\n",
       "        [-0.        -0.j,  0.        +0.j, -0.70710678-0.j,\n",
       "          0.70710678+0.j,  0.        +0.j,  0.        +0.j,\n",
       "          0.        +0.j,  0.        +0.j],\n",
       "        [ 0.70710678+0.j,  0.70710678+0.j, -0.        -0.j,\n",
       "          0.        +0.j,  0.        +0.j,  0.        +0.j,\n",
       "          0.        +0.j,  0.        +0.j],\n",
       "        [-0.        -0.j,  0.        +0.j,  0.70710678+0.j,\n",
       "          0.70710678+0.j,  0.        +0.j,  0.        +0.j,\n",
       "          0.        +0.j,  0.        +0.j],\n",
       "        [-0.        -0.j,  0.        +0.j, -0.        -0.j,\n",
       "          0.        +0.j,  0.        +0.j,  0.        +0.j,\n",
       "          1.        +0.j,  0.        +0.j],\n",
       "        [-0.        -0.j,  0.        +0.j, -0.        -0.j,\n",
       "          0.        +0.j,  0.        +0.j,  0.        +0.j,\n",
       "          0.        +0.j,  1.        +0.j]]))"
      ]
     },
     "execution_count": 26,
     "metadata": {},
     "output_type": "execute_result"
    }
   ],
   "source": [
    "np.linalg.eig(rho_haar) "
   ]
  },
  {
   "cell_type": "code",
   "execution_count": 40,
   "metadata": {},
   "outputs": [
    {
     "data": {
      "text/plain": [
       "(1.2799999999999998+0j)"
      ]
     },
     "execution_count": 40,
     "metadata": {},
     "output_type": "execute_result"
    }
   ],
   "source": [
    "#np.trace(np.matmul(H.full(), np.matmul(np.matmul(Ugl, rho_haar), Ugl.T)))"
   ]
  },
  {
   "cell_type": "code",
   "execution_count": 27,
   "metadata": {},
   "outputs": [
    {
     "data": {
      "text/plain": [
       "array([[ 1.65000000e-01+0.j,  0.00000000e+00+0.j,  0.00000000e+00+0.j,\n",
       "         0.00000000e+00+0.j,  0.00000000e+00+0.j,  0.00000000e+00+0.j,\n",
       "         5.02795718e-18+0.j,  0.00000000e+00+0.j],\n",
       "       [ 0.00000000e+00+0.j,  1.65000000e-01+0.j,  0.00000000e+00+0.j,\n",
       "         0.00000000e+00+0.j,  0.00000000e+00+0.j,  0.00000000e+00+0.j,\n",
       "         0.00000000e+00+0.j,  5.02795718e-18+0.j],\n",
       "       [ 0.00000000e+00+0.j,  0.00000000e+00+0.j,  1.40000000e-01+0.j,\n",
       "         1.66200461e-18+0.j,  0.00000000e+00+0.j,  0.00000000e+00+0.j,\n",
       "         0.00000000e+00+0.j,  0.00000000e+00+0.j],\n",
       "       [ 0.00000000e+00+0.j,  0.00000000e+00+0.j,  1.66200461e-18+0.j,\n",
       "         1.40000000e-01+0.j,  0.00000000e+00+0.j,  0.00000000e+00+0.j,\n",
       "         0.00000000e+00+0.j,  0.00000000e+00+0.j],\n",
       "       [ 0.00000000e+00+0.j,  0.00000000e+00+0.j,  0.00000000e+00+0.j,\n",
       "         0.00000000e+00+0.j,  1.40000000e-01+0.j,  1.66200461e-18+0.j,\n",
       "         0.00000000e+00+0.j,  0.00000000e+00+0.j],\n",
       "       [ 0.00000000e+00+0.j,  0.00000000e+00+0.j,  0.00000000e+00+0.j,\n",
       "         0.00000000e+00+0.j,  1.66200461e-18+0.j,  1.40000000e-01+0.j,\n",
       "         0.00000000e+00+0.j,  0.00000000e+00+0.j],\n",
       "       [-5.06448718e-18+0.j,  0.00000000e+00+0.j,  0.00000000e+00+0.j,\n",
       "         0.00000000e+00+0.j,  0.00000000e+00+0.j,  0.00000000e+00+0.j,\n",
       "         5.50000000e-02+0.j,  0.00000000e+00+0.j],\n",
       "       [ 0.00000000e+00+0.j, -5.06448718e-18+0.j,  0.00000000e+00+0.j,\n",
       "         0.00000000e+00+0.j,  0.00000000e+00+0.j,  0.00000000e+00+0.j,\n",
       "         0.00000000e+00+0.j,  5.50000000e-02+0.j]])"
      ]
     },
     "execution_count": 27,
     "metadata": {},
     "output_type": "execute_result"
    }
   ],
   "source": [
    "Ugl = (1/np.sqrt(2))*np.array([[0, 0, 1, 0, -1, 0, 0, 0],\n",
    "                               [0, 0, 0, 1, 0, -1, 0, 0],\n",
    "                               [1, 0, 0, 0, 0, 0, 1, 0],\n",
    "                               [1, 0, 0, 0, 0, 0, -1, 0],\n",
    "                               [0, 1, 0, 0, 0, 0, 0, 1],\n",
    "                               [0, 1, 0, 0, 0, 0, 0, -1],\n",
    "                               [0, 0, 1, 0, 1, 0, 0, 0],\n",
    "                               [0, 0, 0, 1, 0, 1, 0, 0]])\n",
    "rho_haar_min = np.matmul(np.matmul(Ugl, rho_haar), Ugl.T)\n",
    "rho_haar_min"
   ]
  },
  {
   "cell_type": "code",
   "execution_count": 28,
   "metadata": {},
   "outputs": [
    {
     "data": {
      "text/plain": [
       "(1.2799999999999998+0j)"
      ]
     },
     "execution_count": 28,
     "metadata": {},
     "output_type": "execute_result"
    }
   ],
   "source": [
    "np.trace(np.matmul(H.full(), rho_haar_min))"
   ]
  },
  {
   "cell_type": "code",
   "execution_count": 29,
   "metadata": {},
   "outputs": [
    {
     "data": {
      "text/latex": [
       "Quantum object: dims=[[8], [8]], shape=(8, 8), type='oper', dtype=Dense, isherm=True$$\\left(\\begin{array}{cc}0.139 & 0 & 0 & 0 & 0 & 0 & 0 & 0\\\\0 & 0.139 & 0 & 0 & 0 & 0 & 0 & 0\\\\0 & 0 & 0.111 & 0 & -0.056 & 0 & 0 & 0\\\\0 & 0 & 0 & 0.111 & 0 & -0.056 & 0 & 0\\\\0 & 0 & -0.056 & 0 & 0.111 & 0 & 0 & 0\\\\0 & 0 & 0 & -0.056 & 0 & 0.111 & 0 & 0\\\\0 & 0 & 0 & 0 & 0 & 0 & 0.139 & 0\\\\0 & 0 & 0 & 0 & 0 & 0 & 0 & 0.139\\end{array}\\right)$$"
      ],
      "text/plain": [
       "Quantum object: dims=[[8], [8]], shape=(8, 8), type='oper', dtype=Dense, isherm=True\n",
       "Qobj data =\n",
       "[[ 0.13888889  0.          0.          0.          0.          0.\n",
       "   0.          0.        ]\n",
       " [ 0.          0.13888889  0.          0.          0.          0.\n",
       "   0.          0.        ]\n",
       " [ 0.          0.          0.11111111  0.         -0.05555556  0.\n",
       "   0.          0.        ]\n",
       " [ 0.          0.          0.          0.11111111  0.         -0.05555556\n",
       "   0.          0.        ]\n",
       " [ 0.          0.         -0.05555556  0.          0.11111111  0.\n",
       "   0.          0.        ]\n",
       " [ 0.          0.          0.         -0.05555556  0.          0.11111111\n",
       "   0.          0.        ]\n",
       " [ 0.          0.          0.          0.          0.          0.\n",
       "   0.13888889  0.        ]\n",
       " [ 0.          0.          0.          0.          0.          0.\n",
       "   0.          0.13888889]]"
      ]
     },
     "execution_count": 29,
     "metadata": {},
     "output_type": "execute_result"
    }
   ],
   "source": [
    "rho_average_haar = (1/36)*(5*P1+ 5*P2 + 2*P3 + 6*P4)\n",
    "#Qobj(rho_average_haar)\n",
    "rho_average_haar = Qobj(rho_average_haar.full())\n",
    "rho_average_haar"
   ]
  },
  {
   "cell_type": "code",
   "execution_count": 30,
   "metadata": {},
   "outputs": [
    {
     "name": "stdout",
     "output_type": "stream",
     "text": [
      "{0.0: 2746, 1.0: 2740, 2.0: 1093, 3.0: 3421}\n"
     ]
    },
    {
     "data": {
      "text/plain": [
       "dict_keys([0.0, 1.0, 2.0, 3.0])"
      ]
     },
     "execution_count": 30,
     "metadata": {},
     "output_type": "execute_result"
    }
   ],
   "source": [
    "results = {0.0:0, 1.0:0, 2.0:0, 3.0:0}\n",
    "for i in range(10000):\n",
    "    value, new_state = measure(rho, Projectors)\n",
    "    results[round(value)] += 1   \n",
    "print(results)\n",
    "results.keys()"
   ]
  },
  {
   "cell_type": "code",
   "execution_count": 31,
   "metadata": {},
   "outputs": [],
   "source": [
    "def algorithm_stage1(rho, Projectors, num_shots):\n",
    "    outcomes = {0.0:0, 1.0:0, 2.0:0, 3.0:0}\n",
    "    for i in range(num_shots):\n",
    "        value, _ = measure(rho, Projectors)\n",
    "        outcomes[round(value)] += 1\n",
    "    # divide by the number of shots to get the probability\n",
    "    for key in outcomes.keys():\n",
    "        outcomes[key] /= num_shots\n",
    "    return outcomes"
   ]
  },
  {
   "cell_type": "code",
   "execution_count": 32,
   "metadata": {},
   "outputs": [
    {
     "data": {
      "text/plain": [
       "{0.0: 0.275, 1.0: 0.273, 2.0: 0.11, 3.0: 0.342}"
      ]
     },
     "execution_count": 32,
     "metadata": {},
     "output_type": "execute_result"
    }
   ],
   "source": [
    "algorithm_stage1(rho, Projectors, 1000)"
   ]
  },
  {
   "cell_type": "code",
   "execution_count": 33,
   "metadata": {},
   "outputs": [],
   "source": [
    "# create a histogram for the probabilities\n",
    "def plot_histogram(probabilities):\n",
    "    plt.bar(probabilities.keys(), probabilities.values())\n",
    "    plt.xlabel('Outcomes')\n",
    "    plt.ylabel('Probabilities')\n",
    "    plt.show()"
   ]
  },
  {
   "cell_type": "code",
   "execution_count": 34,
   "metadata": {},
   "outputs": [
    {
     "data": {
      "image/png": "[encoded data removed]",
      "text/plain": [
       "<Figure size 640x480 with 1 Axes>"
      ]
     },
     "metadata": {},
     "output_type": "display_data"
    }
   ],
   "source": [
    "plot_histogram(algorithm_stage1(rho, Projectors, 10000))"
   ]
  },
  {
   "cell_type": "code",
   "execution_count": 35,
   "metadata": {},
   "outputs": [],
   "source": [
    "I, X, Y, Z = qeye(2), sigmax(), sigmay(), sigmaz()\n",
    "pauli_group = []\n",
    "for op in [I, X, Y, Z]:\n",
    "    pauli_group.append(op)\n",
    "    pauli_group.append(-1*op)\n",
    "    pauli_group.append(1j*op)\n",
    "    pauli_group.append(-1j*op)"
   ]
  },
  {
   "cell_type": "code",
   "execution_count": 36,
   "metadata": {},
   "outputs": [
    {
     "name": "stdout",
     "output_type": "stream",
     "text": [
      "[0.05555556 0.05555556 0.13888889 0.13888889 0.13888889 0.13888889\n",
      " 0.16666667 0.16666667] [Quantum object: dims=[[8], [1]], shape=(8, 1), type='ket', dtype=Dense\n",
      " Qobj data =\n",
      " [[0.        ]\n",
      "  [0.        ]\n",
      "  [0.70710678]\n",
      "  [0.        ]\n",
      "  [0.70710678]\n",
      "  [0.        ]\n",
      "  [0.        ]\n",
      "  [0.        ]]\n",
      " Quantum object: dims=[[8], [1]], shape=(8, 1), type='ket', dtype=Dense\n",
      " Qobj data =\n",
      " [[0.        ]\n",
      "  [0.        ]\n",
      "  [0.        ]\n",
      "  [0.70710678]\n",
      "  [0.        ]\n",
      "  [0.70710678]\n",
      "  [0.        ]\n",
      "  [0.        ]]\n",
      " Quantum object: dims=[[8], [1]], shape=(8, 1), type='ket', dtype=Dense\n",
      " Qobj data =\n",
      " [[1.]\n",
      "  [0.]\n",
      "  [0.]\n",
      "  [0.]\n",
      "  [0.]\n",
      "  [0.]\n",
      "  [0.]\n",
      "  [0.]]\n",
      " Quantum object: dims=[[8], [1]], shape=(8, 1), type='ket', dtype=Dense\n",
      " Qobj data =\n",
      " [[0.]\n",
      "  [1.]\n",
      "  [0.]\n",
      "  [0.]\n",
      "  [0.]\n",
      "  [0.]\n",
      "  [0.]\n",
      "  [0.]]\n",
      " Quantum object: dims=[[8], [1]], shape=(8, 1), type='ket', dtype=Dense\n",
      " Qobj data =\n",
      " [[0.]\n",
      "  [0.]\n",
      "  [0.]\n",
      "  [0.]\n",
      "  [0.]\n",
      "  [0.]\n",
      "  [1.]\n",
      "  [0.]]\n",
      " Quantum object: dims=[[8], [1]], shape=(8, 1), type='ket', dtype=Dense\n",
      " Qobj data =\n",
      " [[0.]\n",
      "  [0.]\n",
      "  [0.]\n",
      "  [0.]\n",
      "  [0.]\n",
      "  [0.]\n",
      "  [0.]\n",
      "  [1.]]\n",
      " Quantum object: dims=[[8], [1]], shape=(8, 1), type='ket', dtype=Dense\n",
      " Qobj data =\n",
      " [[ 0.        ]\n",
      "  [ 0.        ]\n",
      "  [-0.70710678]\n",
      "  [ 0.        ]\n",
      "  [ 0.70710678]\n",
      "  [ 0.        ]\n",
      "  [ 0.        ]\n",
      "  [ 0.        ]]\n",
      " Quantum object: dims=[[8], [1]], shape=(8, 1), type='ket', dtype=Dense\n",
      " Qobj data =\n",
      " [[ 0.        ]\n",
      "  [ 0.        ]\n",
      "  [ 0.        ]\n",
      "  [-0.70710678]\n",
      "  [ 0.        ]\n",
      "  [ 0.70710678]\n",
      "  [ 0.        ]\n",
      "  [ 0.        ]]                                                       ]\n"
     ]
    },
    {
     "data": {
      "text/plain": [
       "array([0, 1, 2, 3, 4, 5, 6, 7], dtype=int64)"
      ]
     },
     "execution_count": 36,
     "metadata": {},
     "output_type": "execute_result"
    }
   ],
   "source": [
    "stage1_eig, stage1_vec = rho_average_haar.eigenstates()\n",
    "print(stage1_eig, stage1_vec)\n",
    "sortindex = np.argsort(stage1_eig)\n",
    "sortindex"
   ]
  },
  {
   "cell_type": "code",
   "execution_count": 37,
   "metadata": {},
   "outputs": [
    {
     "data": {
      "text/latex": [
       "Quantum object: dims=[[8], [8]], shape=(8, 8), type='oper', dtype=Dense, isherm=False$$\\left(\\begin{array}{cc}0 & 0 & 0 & -0.707 & 0 & 0.707 & 0 & 0\\\\0 & 0 & -0.707 & 0 & 0.707 & 0 & 0 & 0\\\\0 & 0 & 0 & 0 & 0 & 0 & 0 & 1\\\\0 & 1 & 0 & 0 & 0 & 0 & 0 & 0\\\\0 & 0 & 0 & 0 & 0 & 0 & 1 & 0\\\\1 & 0 & 0 & 0 & 0 & 0 & 0 & 0\\\\0 & 0 & 0 & 0.707 & 0 & 0.707 & 0 & 0\\\\0 & 0 & 0.707 & 0 & 0.707 & 0 & 0 & 0\\end{array}\\right)$$"
      ],
      "text/plain": [
       "Quantum object: dims=[[8], [8]], shape=(8, 8), type='oper', dtype=Dense, isherm=False\n",
       "Qobj data =\n",
       "[[ 0.          0.          0.         -0.70710678  0.          0.70710678\n",
       "   0.          0.        ]\n",
       " [ 0.          0.         -0.70710678  0.          0.70710678  0.\n",
       "   0.          0.        ]\n",
       " [ 0.          0.          0.          0.          0.          0.\n",
       "   0.          1.        ]\n",
       " [ 0.          1.          0.          0.          0.          0.\n",
       "   0.          0.        ]\n",
       " [ 0.          0.          0.          0.          0.          0.\n",
       "   1.          0.        ]\n",
       " [ 1.          0.          0.          0.          0.          0.\n",
       "   0.          0.        ]\n",
       " [ 0.          0.          0.          0.70710678  0.          0.70710678\n",
       "   0.          0.        ]\n",
       " [ 0.          0.          0.70710678  0.          0.70710678  0.\n",
       "   0.          0.        ]]"
      ]
     },
     "execution_count": 37,
     "metadata": {},
     "output_type": "execute_result"
    }
   ],
   "source": [
    "U_global = H_eigenstates[0]*stage1_vec[sortindex[-1]].dag() + H_eigenstates[1]*stage1_vec[sortindex[-2]].dag() + H_eigenstates[2]*stage1_vec[sortindex[-3]].dag() + H_eigenstates[3]*stage1_vec[sortindex[-4]].dag() + H_eigenstates[4]*stage1_vec[sortindex[-5]].dag() + H_eigenstates[5]*stage1_vec[sortindex[-6]].dag() + H_eigenstates[6]*stage1_vec[sortindex[-7]].dag() + H_eigenstates[7]*stage1_vec[sortindex[-8]].dag()\n",
    "U_global"
   ]
  },
  {
   "cell_type": "code",
   "execution_count": 38,
   "metadata": {},
   "outputs": [],
   "source": [
    "# stage 2 of algorithm\n",
    "def algorithm_stage2(density_matrix, hamiltonian, total_iter):\n",
    "    energy_outcomes = []\n",
    "    for iteration in range(total_iter):\n",
    "        if np.random.choice([0, 1]) == 0:\n",
    "            # outcome, _ = measure(density_matrix, projectors)\n",
    "            outcome, _ = measure(density_matrix, hamiltonian)\n",
    "            energy_outcomes.append(outcome)\n",
    "        else: \n",
    "            _, post_measure_state = measure(density_matrix, Projectors)\n",
    "            u_random = np.random.choice(pauli_group)\n",
    "            u = tensor(qeye(4), u_random) \n",
    "            u = Qobj(u.full())\n",
    "            density_matrix =Qobj(U_basis).dag()* u *Qobj(U_basis)*post_measure_state*Qobj(U_basis).dag() * u.dag()*Qobj(U_basis)\n",
    "        \n",
    "            U_global = qeye(8)     \n",
    "            density_matrix = U_global * density_matrix * U_global.dag()\n",
    "            # measure -H\n",
    "            outcome, _ = measure(density_matrix, -1*hamiltonian)\n",
    "            energy_outcomes.append(outcome)\n",
    "    return np.array(energy_outcomes)"
   ]
  },
  {
   "cell_type": "code",
   "execution_count": 39,
   "metadata": {},
   "outputs": [
    {
     "name": "stdout",
     "output_type": "stream",
     "text": [
      "Total iterations: 10, Extractable work: -0.6\n",
      "Total iterations: 100, Extractable work: 0.1\n",
      "Total iterations: 1000, Extractable work: 0.156\n",
      "Total iterations: 10000, Extractable work: -0.0016\n",
      "Total iterations: 100000, Extractable work: -0.00614\n"
     ]
    },
    {
     "ename": "KeyboardInterrupt",
     "evalue": "",
     "output_type": "error",
     "traceback": [
      "\u001b[1;31m---------------------------------------------------------------------------\u001b[0m",
      "\u001b[1;31mKeyboardInterrupt\u001b[0m                         Traceback (most recent call last)",
      "Cell \u001b[1;32mIn [39], line 2\u001b[0m\n\u001b[0;32m      1\u001b[0m \u001b[38;5;28;01mfor\u001b[39;00m total_iter \u001b[38;5;129;01min\u001b[39;00m [\u001b[38;5;241m10\u001b[39m, \u001b[38;5;241m100\u001b[39m, \u001b[38;5;241m1000\u001b[39m, \u001b[38;5;241m10000\u001b[39m, \u001b[38;5;241m100000\u001b[39m, \u001b[38;5;241m1000000\u001b[39m]:\n\u001b[1;32m----> 2\u001b[0m     extractable_work \u001b[38;5;241m=\u001b[39m \u001b[38;5;241m2\u001b[39m\u001b[38;5;241m*\u001b[39mnp\u001b[38;5;241m.\u001b[39mmean(\u001b[43malgorithm_stage2\u001b[49m\u001b[43m(\u001b[49m\u001b[43mrho\u001b[49m\u001b[43m,\u001b[49m\u001b[43m \u001b[49m\u001b[43mH\u001b[49m\u001b[43m,\u001b[49m\u001b[43m \u001b[49m\u001b[43mtotal_iter\u001b[49m\u001b[43m)\u001b[49m)\n\u001b[0;32m      3\u001b[0m     \u001b[38;5;28mprint\u001b[39m(\u001b[38;5;124mf\u001b[39m\u001b[38;5;124m\"\u001b[39m\u001b[38;5;124mTotal iterations: \u001b[39m\u001b[38;5;132;01m{\u001b[39;00mtotal_iter\u001b[38;5;132;01m}\u001b[39;00m\u001b[38;5;124m, Extractable work: \u001b[39m\u001b[38;5;132;01m{\u001b[39;00mextractable_work\u001b[38;5;132;01m}\u001b[39;00m\u001b[38;5;124m\"\u001b[39m)\n",
      "Cell \u001b[1;32mIn [38], line 7\u001b[0m, in \u001b[0;36malgorithm_stage2\u001b[1;34m(density_matrix, hamiltonian, total_iter)\u001b[0m\n\u001b[0;32m      4\u001b[0m \u001b[38;5;28;01mfor\u001b[39;00m iteration \u001b[38;5;129;01min\u001b[39;00m \u001b[38;5;28mrange\u001b[39m(total_iter):\n\u001b[0;32m      5\u001b[0m     \u001b[38;5;28;01mif\u001b[39;00m np\u001b[38;5;241m.\u001b[39mrandom\u001b[38;5;241m.\u001b[39mchoice([\u001b[38;5;241m0\u001b[39m, \u001b[38;5;241m1\u001b[39m]) \u001b[38;5;241m==\u001b[39m \u001b[38;5;241m0\u001b[39m:\n\u001b[0;32m      6\u001b[0m         \u001b[38;5;66;03m# outcome, _ = measure(density_matrix, projectors)\u001b[39;00m\n\u001b[1;32m----> 7\u001b[0m         outcome, _ \u001b[38;5;241m=\u001b[39m \u001b[43mmeasure\u001b[49m\u001b[43m(\u001b[49m\u001b[43mdensity_matrix\u001b[49m\u001b[43m,\u001b[49m\u001b[43m \u001b[49m\u001b[43mhamiltonian\u001b[49m\u001b[43m)\u001b[49m\n\u001b[0;32m      8\u001b[0m         energy_outcomes\u001b[38;5;241m.\u001b[39mappend(outcome)\n\u001b[0;32m      9\u001b[0m     \u001b[38;5;28;01melse\u001b[39;00m: \n",
      "File \u001b[1;32mc:\\Users\\SOUMYABRATA PC\\AppData\\Local\\Programs\\Python\\Python310\\lib\\site-packages\\qutip\\measurement.py:439\u001b[0m, in \u001b[0;36mmeasure\u001b[1;34m(state, ops, tol)\u001b[0m\n\u001b[0;32m    437\u001b[0m     \u001b[38;5;28;01mreturn\u001b[39;00m measure_povm(state, ops, tol)\n\u001b[0;32m    438\u001b[0m \u001b[38;5;28;01melse\u001b[39;00m:\n\u001b[1;32m--> 439\u001b[0m     \u001b[38;5;28;01mreturn\u001b[39;00m \u001b[43mmeasure_observable\u001b[49m\u001b[43m(\u001b[49m\u001b[43mstate\u001b[49m\u001b[43m,\u001b[49m\u001b[43m \u001b[49m\u001b[43mops\u001b[49m\u001b[43m,\u001b[49m\u001b[43m \u001b[49m\u001b[43mtol\u001b[49m\u001b[43m)\u001b[49m\n",
      "File \u001b[1;32mc:\\Users\\SOUMYABRATA PC\\AppData\\Local\\Programs\\Python\\Python310\\lib\\site-packages\\qutip\\measurement.py:320\u001b[0m, in \u001b[0;36mmeasure_observable\u001b[1;34m(state, op, tol)\u001b[0m\n\u001b[0;32m    250\u001b[0m \u001b[38;5;28;01mdef\u001b[39;00m \u001b[38;5;21mmeasure_observable\u001b[39m(state, op, tol\u001b[38;5;241m=\u001b[39m\u001b[38;5;28;01mNone\u001b[39;00m):\n\u001b[0;32m    251\u001b[0m     \u001b[38;5;124;03m\"\"\"\u001b[39;00m\n\u001b[0;32m    252\u001b[0m \u001b[38;5;124;03m    Perform a measurement specified by an operator on the given state.\u001b[39;00m\n\u001b[0;32m    253\u001b[0m \n\u001b[1;32m   (...)\u001b[0m\n\u001b[0;32m    317\u001b[0m \u001b[38;5;124;03m    density matrix.\u001b[39;00m\n\u001b[0;32m    318\u001b[0m \u001b[38;5;124;03m    \"\"\"\u001b[39;00m\n\u001b[0;32m    319\u001b[0m     eigenvalues, projectors, probabilities \u001b[38;5;241m=\u001b[39m (\n\u001b[1;32m--> 320\u001b[0m         \u001b[43mmeasurement_statistics_observable\u001b[49m\u001b[43m(\u001b[49m\u001b[43mstate\u001b[49m\u001b[43m,\u001b[49m\u001b[43m \u001b[49m\u001b[43mop\u001b[49m\u001b[43m,\u001b[49m\u001b[43m \u001b[49m\u001b[43mtol\u001b[49m\u001b[43m)\u001b[49m)\n\u001b[0;32m    321\u001b[0m     i \u001b[38;5;241m=\u001b[39m np\u001b[38;5;241m.\u001b[39mrandom\u001b[38;5;241m.\u001b[39mchoice(\u001b[38;5;28mlen\u001b[39m(eigenvalues), p\u001b[38;5;241m=\u001b[39mprobabilities)\n\u001b[0;32m    322\u001b[0m     \u001b[38;5;28;01mif\u001b[39;00m state\u001b[38;5;241m.\u001b[39misket:\n",
      "File \u001b[1;32mc:\\Users\\SOUMYABRATA PC\\AppData\\Local\\Programs\\Python\\Python310\\lib\\site-packages\\qutip\\measurement.py:224\u001b[0m, in \u001b[0;36mmeasurement_statistics_observable\u001b[1;34m(state, op, tol)\u001b[0m\n\u001b[0;32m    221\u001b[0m \u001b[38;5;28;01mif\u001b[39;00m tol \u001b[38;5;129;01mis\u001b[39;00m \u001b[38;5;28;01mNone\u001b[39;00m:\n\u001b[0;32m    222\u001b[0m     tol \u001b[38;5;241m=\u001b[39m settings\u001b[38;5;241m.\u001b[39mcore[\u001b[38;5;124m\"\u001b[39m\u001b[38;5;124matol\u001b[39m\u001b[38;5;124m\"\u001b[39m]\n\u001b[1;32m--> 224\u001b[0m eigenvalues, eigenstates \u001b[38;5;241m=\u001b[39m \u001b[43mop\u001b[49m\u001b[38;5;241;43m.\u001b[39;49m\u001b[43meigenstates\u001b[49m\u001b[43m(\u001b[49m\u001b[43m)\u001b[49m\n\u001b[0;32m    225\u001b[0m \u001b[38;5;66;03m# Detect groups of eigenvalues within atol of each other.\u001b[39;00m\n\u001b[0;32m    226\u001b[0m \u001b[38;5;66;03m# A group will be [False] * N + [True]\u001b[39;00m\n\u001b[0;32m    227\u001b[0m groups \u001b[38;5;241m=\u001b[39m np\u001b[38;5;241m.\u001b[39mappend(np\u001b[38;5;241m.\u001b[39mdiff(eigenvalues) \u001b[38;5;241m>\u001b[39m\u001b[38;5;241m=\u001b[39m tol, \u001b[38;5;28;01mTrue\u001b[39;00m)\n",
      "File \u001b[1;32mc:\\Users\\SOUMYABRATA PC\\AppData\\Local\\Programs\\Python\\Python310\\lib\\site-packages\\qutip\\core\\qobj.py:1521\u001b[0m, in \u001b[0;36mQobj.eigenstates\u001b[1;34m(self, sparse, sort, eigvals, tol, maxiter, phase_fix)\u001b[0m\n\u001b[0;32m   1517\u001b[0m     evals, evecs \u001b[38;5;241m=\u001b[39m _data\u001b[38;5;241m.\u001b[39meigs(_data\u001b[38;5;241m.\u001b[39mto(_data\u001b[38;5;241m.\u001b[39mDense, \u001b[38;5;28mself\u001b[39m\u001b[38;5;241m.\u001b[39mdata),\n\u001b[0;32m   1518\u001b[0m                               isherm\u001b[38;5;241m=\u001b[39m\u001b[38;5;28mself\u001b[39m\u001b[38;5;241m.\u001b[39m_isherm,\n\u001b[0;32m   1519\u001b[0m                               sort\u001b[38;5;241m=\u001b[39msort, eigvals\u001b[38;5;241m=\u001b[39meigvals)\n\u001b[0;32m   1520\u001b[0m \u001b[38;5;28;01melse\u001b[39;00m:\n\u001b[1;32m-> 1521\u001b[0m     evals, evecs \u001b[38;5;241m=\u001b[39m \u001b[43m_data\u001b[49m\u001b[38;5;241;43m.\u001b[39;49m\u001b[43meigs\u001b[49m\u001b[43m(\u001b[49m\u001b[38;5;28;43mself\u001b[39;49m\u001b[38;5;241;43m.\u001b[39;49m\u001b[43mdata\u001b[49m\u001b[43m,\u001b[49m\u001b[43m \u001b[49m\u001b[43misherm\u001b[49m\u001b[38;5;241;43m=\u001b[39;49m\u001b[38;5;28;43mself\u001b[39;49m\u001b[38;5;241;43m.\u001b[39;49m\u001b[43m_isherm\u001b[49m\u001b[43m,\u001b[49m\n\u001b[0;32m   1522\u001b[0m \u001b[43m                              \u001b[49m\u001b[43msort\u001b[49m\u001b[38;5;241;43m=\u001b[39;49m\u001b[43msort\u001b[49m\u001b[43m,\u001b[49m\u001b[43m \u001b[49m\u001b[43meigvals\u001b[49m\u001b[38;5;241;43m=\u001b[39;49m\u001b[43meigvals\u001b[49m\u001b[43m)\u001b[49m\n\u001b[0;32m   1524\u001b[0m \u001b[38;5;28;01mif\u001b[39;00m \u001b[38;5;28mself\u001b[39m\u001b[38;5;241m.\u001b[39mtype \u001b[38;5;241m==\u001b[39m \u001b[38;5;124m'\u001b[39m\u001b[38;5;124msuper\u001b[39m\u001b[38;5;124m'\u001b[39m:\n\u001b[0;32m   1525\u001b[0m     new_dims \u001b[38;5;241m=\u001b[39m [\u001b[38;5;28mself\u001b[39m\u001b[38;5;241m.\u001b[39mdims[\u001b[38;5;241m0\u001b[39m], [\u001b[38;5;241m1\u001b[39m]]\n",
      "File \u001b[1;32mc:\\Users\\SOUMYABRATA PC\\AppData\\Local\\Programs\\Python\\Python310\\lib\\site-packages\\qutip\\core\\data\\dispatch.pyx:392\u001b[0m, in \u001b[0;36mqutip.core.data.dispatch.Dispatcher.__call__\u001b[1;34m()\u001b[0m\n",
      "File \u001b[1;32mc:\\Users\\SOUMYABRATA PC\\AppData\\Local\\Programs\\Python\\Python310\\lib\\site-packages\\qutip\\core\\data\\eigen.py:271\u001b[0m, in \u001b[0;36meigs_dense\u001b[1;34m(data, isherm, vecs, sort, eigvals)\u001b[0m\n\u001b[0;32m    269\u001b[0m eigvals, num_large, num_small \u001b[38;5;241m=\u001b[39m _eigs_fix_eigvals(data, eigvals, sort)\n\u001b[0;32m    270\u001b[0m isherm \u001b[38;5;241m=\u001b[39m isherm \u001b[38;5;28;01mif\u001b[39;00m isherm \u001b[38;5;129;01mis\u001b[39;00m \u001b[38;5;129;01mnot\u001b[39;00m \u001b[38;5;28;01mNone\u001b[39;00m \u001b[38;5;28;01melse\u001b[39;00m _isherm(data)\n\u001b[1;32m--> 271\u001b[0m evals, evecs \u001b[38;5;241m=\u001b[39m \u001b[43m_eigs_dense\u001b[49m\u001b[43m(\u001b[49m\u001b[43mdata\u001b[49m\u001b[38;5;241;43m.\u001b[39;49m\u001b[43mas_ndarray\u001b[49m\u001b[43m(\u001b[49m\u001b[43m)\u001b[49m\u001b[43m,\u001b[49m\u001b[43m \u001b[49m\u001b[43misherm\u001b[49m\u001b[43m,\u001b[49m\u001b[43m \u001b[49m\u001b[43mvecs\u001b[49m\u001b[43m,\u001b[49m\u001b[43m \u001b[49m\u001b[43meigvals\u001b[49m\u001b[43m,\u001b[49m\n\u001b[0;32m    272\u001b[0m \u001b[43m                           \u001b[49m\u001b[43mnum_large\u001b[49m\u001b[43m,\u001b[49m\u001b[43m \u001b[49m\u001b[43mnum_small\u001b[49m\u001b[43m)\u001b[49m\n\u001b[0;32m    273\u001b[0m \u001b[38;5;28;01mif\u001b[39;00m sort \u001b[38;5;241m==\u001b[39m \u001b[38;5;124m'\u001b[39m\u001b[38;5;124mhigh\u001b[39m\u001b[38;5;124m'\u001b[39m:\n\u001b[0;32m    274\u001b[0m     \u001b[38;5;66;03m# Flip arrays around.\u001b[39;00m\n\u001b[0;32m    275\u001b[0m     \u001b[38;5;28;01mif\u001b[39;00m vecs:\n",
      "File \u001b[1;32mc:\\Users\\SOUMYABRATA PC\\AppData\\Local\\Programs\\Python\\Python310\\lib\\site-packages\\qutip\\core\\data\\eigen.py:69\u001b[0m, in \u001b[0;36m_eigs_dense\u001b[1;34m(data, isherm, vecs, eigvals, num_large, num_small)\u001b[0m\n\u001b[0;32m     67\u001b[0m \u001b[38;5;28;01mif\u001b[39;00m vecs:\n\u001b[0;32m     68\u001b[0m     driver \u001b[38;5;241m=\u001b[39m eigh \u001b[38;5;28;01mif\u001b[39;00m isherm \u001b[38;5;28;01melse\u001b[39;00m scipy\u001b[38;5;241m.\u001b[39mlinalg\u001b[38;5;241m.\u001b[39meig\n\u001b[1;32m---> 69\u001b[0m     evals, evecs \u001b[38;5;241m=\u001b[39m driver(data, \u001b[38;5;241m*\u001b[39m\u001b[38;5;241m*\u001b[39mkwargs)\n\u001b[0;32m     70\u001b[0m \u001b[38;5;28;01melse\u001b[39;00m:\n\u001b[0;32m     71\u001b[0m     driver \u001b[38;5;241m=\u001b[39m eigvalsh \u001b[38;5;28;01mif\u001b[39;00m isherm \u001b[38;5;28;01melse\u001b[39;00m scipy\u001b[38;5;241m.\u001b[39mlinalg\u001b[38;5;241m.\u001b[39meigvals\n",
      "File \u001b[1;32mc:\\Users\\SOUMYABRATA PC\\AppData\\Local\\Programs\\Python\\Python310\\lib\\site-packages\\scipy\\linalg\\_decomp.py:547\u001b[0m, in \u001b[0;36meigh\u001b[1;34m(a, b, lower, eigvals_only, overwrite_a, overwrite_b, turbo, eigvals, type, check_finite, subset_by_index, subset_by_value, driver)\u001b[0m\n\u001b[0;32m    544\u001b[0m         lwork_args \u001b[38;5;241m=\u001b[39m {\u001b[38;5;124m'\u001b[39m\u001b[38;5;124mlwork\u001b[39m\u001b[38;5;124m'\u001b[39m: lw}\n\u001b[0;32m    546\u001b[0m     drv_args\u001b[38;5;241m.\u001b[39mupdate({\u001b[38;5;124m'\u001b[39m\u001b[38;5;124mlower\u001b[39m\u001b[38;5;124m'\u001b[39m: lower, \u001b[38;5;124m'\u001b[39m\u001b[38;5;124mcompute_v\u001b[39m\u001b[38;5;124m'\u001b[39m: \u001b[38;5;241m0\u001b[39m \u001b[38;5;28;01mif\u001b[39;00m _job \u001b[38;5;241m==\u001b[39m \u001b[38;5;124m\"\u001b[39m\u001b[38;5;124mN\u001b[39m\u001b[38;5;124m\"\u001b[39m \u001b[38;5;28;01melse\u001b[39;00m \u001b[38;5;241m1\u001b[39m})\n\u001b[1;32m--> 547\u001b[0m     w, v, \u001b[38;5;241m*\u001b[39mother_args, info \u001b[38;5;241m=\u001b[39m drv(a\u001b[38;5;241m=\u001b[39ma1, \u001b[38;5;241m*\u001b[39m\u001b[38;5;241m*\u001b[39mdrv_args, \u001b[38;5;241m*\u001b[39m\u001b[38;5;241m*\u001b[39mlwork_args)\n\u001b[0;32m    549\u001b[0m \u001b[38;5;28;01melse\u001b[39;00m:  \u001b[38;5;66;03m# Generalized problem\u001b[39;00m\n\u001b[0;32m    550\u001b[0m     \u001b[38;5;66;03m# 'gvd' doesn't have lwork query\u001b[39;00m\n\u001b[0;32m    551\u001b[0m     \u001b[38;5;28;01mif\u001b[39;00m driver \u001b[38;5;241m==\u001b[39m \u001b[38;5;124m\"\u001b[39m\u001b[38;5;124mgvd\u001b[39m\u001b[38;5;124m\"\u001b[39m:\n",
      "\u001b[1;31mKeyboardInterrupt\u001b[0m: "
     ]
    }
   ],
   "source": [
    "for total_iter in [10, 100, 1000, 10000, 100000, 1000000]:\n",
    "    extractable_work = 2*np.mean(algorithm_stage2(rho, H, total_iter))\n",
    "    print(f\"Total iterations: {total_iter}, Extractable work: {extractable_work}\")"
   ]
  },
  {
   "cell_type": "code",
   "execution_count": 28,
   "metadata": {},
   "outputs": [
    {
     "data": {
      "image/png": "[encoded data removed]",
      "text/plain": [
       "<Figure size 640x480 with 1 Axes>"
      ]
     },
     "metadata": {},
     "output_type": "display_data"
    }
   ],
   "source": [
    "# plot the above outcomes\n",
    "import matplotlib.pyplot as plt\n",
    "\n",
    "extractable_works = [0.2, -0.07, 0.022, -0.0017, -0.00478, -4.2e-05]\n",
    "total_iters = [10, 100, 1000, 10000, 100000, 1000000]\n",
    "\n",
    "#plot in log scale\n",
    "plt.plot(np.log10(total_iters), extractable_works)\n",
    "plt.xlabel(\"Total iterations (in log scale)\")\n",
    "plt.ylabel(\"Extractable work\")\n",
    "plt.title(\"Extractable work vs Total iterations\")\n",
    "plt.show()\n"
   ]
  }
 ],
 "metadata": {
  "kernelspec": {
   "display_name": "Python 3 (ipykernel)",
   "language": "python",
   "name": "python3"
  },
  "language_info": {
   "codemirror_mode": {
    "name": "ipython",
    "version": 3
   },
   "file_extension": ".py",
   "mimetype": "text/x-python",
   "name": "python",
   "nbconvert_exporter": "python",
   "pygments_lexer": "ipython3",
   "version": "3.10.8"
  }
 },
 "nbformat": 4,
 "nbformat_minor": 2
}
